{
 "cells": [
  {
   "cell_type": "code",
   "execution_count": 2,
   "metadata": {},
   "outputs": [],
   "source": [
    "from tqdm.notebook import tqdm\n",
    "import pandas as pd\n",
    "import numpy as np\n",
    "import matplotlib.pyplot as plt\n",
    "import seaborn as sns\n",
    "plt.style.use('ggplot')\n",
    "%matplotlib inline"
   ]
  },
  {
   "cell_type": "code",
   "execution_count": 3,
   "metadata": {},
   "outputs": [],
   "source": [
    "farmgate = pd.read_csv('../data/raw/FarmgatePrice.csv')\n",
    "retail = pd.read_csv('../data/raw/RetailPrice.csv')\n",
    "wholesale = pd.read_csv('../data/raw/WholesalePrice.csv')\n",
    "production = pd.read_csv('../data/raw/VolumeOfProductionByMetricTons.csv')\n",
    "harvested = pd.read_csv('../data/raw/AreaHarvestedInHectares.csv')\n",
    "cpi = pd.read_csv('../data/raw/ConsumerPriceIndex.csv')\n",
    "\n",
    "def melt_df(df, column_1, column_2, column_value):\n",
    "    df = df.copy()\n",
    "    \n",
    "    df[column_1] = df[column_1].str.lower().str.strip()\n",
    "    df[column_2] = df[column_2].str.lower().str.strip()\n",
    "    \n",
    "    df_long = df.melt(id_vars=[column_1, column_2], var_name='Date', value_name=column_value)\n",
    "    df_long = df_long.rename(columns={column_1: \"Geolocation\", column_2: \"Commodity\"})\n",
    "    \n",
    "    df_long.replace('..', pd.NA, inplace=True)\n",
    "    df_long[\"Geolocation\"] = df_long[\"Geolocation\"].str.replace(r'^\\.\\.', '', regex=True).str.strip()\n",
    "    \n",
    "    df_long[column_value] = pd.to_numeric(df_long[column_value], errors='coerce')\n",
    "    \n",
    "    return df_long\n",
    "\n",
    "farmgate_copy = melt_df(farmgate, \"Geolocation\", \"Commodity\", \"Price\")\n",
    "retail_copy = melt_df(retail, \"Geolocation\", \"Commodity\", \"Price\")\n",
    "wholesale_copy = melt_df(wholesale, \"Geolocation\", \"Commodity\", \"Price\")\n",
    "cpi_copy = melt_df(cpi, \"Geolocation\", \"Commodity Description\", \"Consumer_Price_Index\")"
   ]
  },
  {
   "cell_type": "code",
   "execution_count": 4,
   "metadata": {},
   "outputs": [],
   "source": [
    "def to_datetime(df, is_cpi = False):\n",
    "    df = df.copy()\n",
    "    \n",
    "    if is_cpi:\n",
    "        df['Date'] = pd.to_datetime(df['Date'], format='%Y %b')\n",
    "    else:\n",
    "        df['Date'] = pd.to_datetime(df['Date'], format='%Y %B')\n",
    "        \n",
    "    df = df.sort_values(['Geolocation', 'Commodity', 'Date'])\n",
    "    \n",
    "    return df\n",
    "\n",
    "def distribute_quarterly_to_monthly(df, column_1, column_2, value_column_name):\n",
    "    df = df.copy()\n",
    "    \n",
    "    # Melt dataset to long format\n",
    "    df_long = df.melt(id_vars=[column_1, column_2], var_name=\"Quarter\", value_name=value_column_name)\n",
    "    \n",
    "    # Extract year and quarter from the Quarter column\n",
    "    df_long[\"Year\"] = df_long[\"Quarter\"].str[:4].astype(int)\n",
    "    df_long[\"Quarter\"] = df_long[\"Quarter\"].str[-1].astype(int)\n",
    "\n",
    "    quarter_to_months = {\n",
    "        1: [1, 2, 3],\n",
    "        2: [4, 5, 6],\n",
    "        3: [7, 8, 9],\n",
    "        4: [10, 11, 12]\n",
    "    }\n",
    "    \n",
    "    expanded_rows = []\n",
    "    \n",
    "    for _, row in df_long.iterrows():\n",
    "        for month in quarter_to_months[row[\"Quarter\"]]:\n",
    "            expanded_rows.append({\n",
    "                column_1: row[column_1],\n",
    "                column_2: row[column_2],\n",
    "                \"Date\": pd.Timestamp(year=row[\"Year\"], month=month, day=1),\n",
    "                value_column_name: row[value_column_name] / 3\n",
    "            })\n",
    "            \n",
    "    df_monthly = pd.DataFrame(expanded_rows)\n",
    "    df_monthly = df_monthly.rename(columns={column_1: \"Geolocation\", column_2: \"Commodity\"})\n",
    "    \n",
    "    return df_monthly\n",
    "\n",
    "production_copy = distribute_quarterly_to_monthly(production, \"Geolocation\", \"Ecosystem/Croptype\", \"Production_Volume_in_MetricTons\")\n",
    "harvested_copy = distribute_quarterly_to_monthly(harvested, \"Geolocation\", \"Ecosystem/Croptype\", \"Area_Harvested_in_Hectares\")\n",
    "        \n",
    "farmgate_copy = to_datetime(farmgate_copy)\n",
    "wholesale_copy = to_datetime(wholesale_copy)\n",
    "retail_copy = to_datetime(retail_copy)\n",
    "cpi_copy = to_datetime(cpi_copy, is_cpi=True)\n",
    "production_copy = to_datetime(production_copy)\n",
    "harvested_copy = to_datetime(harvested_copy)\n"
   ]
  },
  {
   "cell_type": "code",
   "execution_count": 5,
   "metadata": {},
   "outputs": [],
   "source": [
    "REGIONS = {\n",
    "    \"autonomous region in muslim mindanao (armm)\" : \"bangsamoro autonomous region in muslim mindanao (barmm)\",\n",
    "    \"bangsamoro autonomous region in muslim mindanao (barmm)\" : \"bangsamoro autonomous region in muslim mindanao (barmm)\",\n",
    "    \"cordillera administrative region (car)\" : \"cordillera administrative region (car)\",\n",
    "    \"mimaropa region\" : \"mimaropa region\",\n",
    "    \"region i (ilocos region)\" : \"region i (ilocos region)\",\n",
    "    \"region ii (cagayan valley)\" : \"region ii (cagayan valley)\",\n",
    "    \"region iii (central luzon)\" : \"region iii (central luzon)\",\n",
    "    \"region iv-a (calabarzon)\" : \"region iv-a (calabarzon)\",\n",
    "    \"region ix (zamboanga peninsula)\" : \"region ix (zamboanga peninsula)\",\n",
    "    \"region v (bicol region)\" : \"region v (bicol region)\",\n",
    "    \"region vi (western visayas)\" : \"region vi (western visayas)\",\n",
    "    \"region v (bicol region)\" : \"region vi (western visayas)\",\n",
    "    \"region vii (central visayas)\" : \"region vii (central visayas)\",\n",
    "    \"region viii (eastern visayas)\" : \"region viii (eastern visayas)\",\n",
    "    \"region ix (zamboanga peninsula)\" : \"region x (northern mindanao)\",\n",
    "    \"region x (northern mindanao)\" : \"region x (northern mindanao)\",\n",
    "    \"region xi (davao region)\" : \"region xi (davao region)\",\n",
    "    \"region xii (soccsksargen)\" : \"region xii (soccsksargen)\",\n",
    "    \"region xiii (caraga)\" : \"region xiii (caraga)\"\n",
    "}\n",
    "\n",
    "def region_mapping(df, column_name, region_mapping):\n",
    "    df = df.copy()\n",
    "    \n",
    "    df[column_name] = df[column_name].map(region_mapping)\n",
    "    \n",
    "    return df\n",
    "\n",
    "farmgate_copy = region_mapping(farmgate_copy, 'Geolocation', REGIONS)\n",
    "wholesale_copy = region_mapping(wholesale_copy, 'Geolocation', REGIONS)\n",
    "retail_copy = region_mapping(retail_copy, 'Geolocation', REGIONS)\n",
    "production_copy = region_mapping(production_copy, 'Geolocation', REGIONS)\n",
    "harvested_copy = region_mapping(harvested_copy, 'Geolocation', REGIONS)\n",
    "cpi_copy = region_mapping(cpi_copy, 'Geolocation', REGIONS)\n",
    "\n",
    "datasets = [farmgate_copy, retail_copy, wholesale_copy, production_copy, harvested_copy, cpi_copy]"
   ]
  },
  {
   "cell_type": "code",
   "execution_count": 6,
   "metadata": {},
   "outputs": [],
   "source": [
    "def convert_data(df, column_value):\n",
    "    df = df.copy()\n",
    "\n",
    "    DATES = [date.strftime('%Y-%m-%d') for date in sorted(pd.to_datetime(df['Date'].unique()))]\n",
    "\n",
    "    farmgate_columns = {f'{i}': [] for i in ['Geolocation', 'Commodity'] + DATES}\n",
    "\n",
    "    for Region in tqdm(df['Geolocation'].unique(), desc=\"Processing Regions\"):\n",
    "        for Commodity in tqdm(df['Commodity'].unique(), desc=\"Processing Commodities\", leave=False):\n",
    "            farmgate_columns['Geolocation'].append(Region)\n",
    "            farmgate_columns['Commodity'].append(Commodity)\n",
    "            \n",
    "            for Date in tqdm(df['Date'].unique(), desc=\"Processing Dates\", leave=False):\n",
    "                Value = df[\n",
    "                    (df['Geolocation'] == Region) & \n",
    "                    (df['Commodity'] == Commodity) & \n",
    "                    (df['Date'] == Date)\n",
    "                ][column_value]            \n",
    "                farmgate_columns[Date.strftime(\"%Y-%m-%d\")].append(Value.sum() if not Value.empty else 0)\n",
    "                \n",
    "                \n",
    "    # Print the final dictionary\n",
    "    farmgate_transform_result = pd.DataFrame(farmgate_columns)\n",
    "    \n",
    "    return farmgate_transform_result"
   ]
  },
  {
   "cell_type": "code",
   "execution_count": 7,
   "metadata": {},
   "outputs": [
    {
     "data": {
      "application/vnd.jupyter.widget-view+json": {
       "model_id": "596ec4fecc214d699e70318074dc66c4",
       "version_major": 2,
       "version_minor": 0
      },
      "text/plain": [
       "Processing Regions:   0%|          | 0/14 [00:00<?, ?it/s]"
      ]
     },
     "metadata": {},
     "output_type": "display_data"
    },
    {
     "data": {
      "application/vnd.jupyter.widget-view+json": {
       "model_id": "e27225aedbcb4a058d16d06a6913adc0",
       "version_major": 2,
       "version_minor": 0
      },
      "text/plain": [
       "Processing Commodities:   0%|          | 0/6 [00:00<?, ?it/s]"
      ]
     },
     "metadata": {},
     "output_type": "display_data"
    },
    {
     "data": {
      "application/vnd.jupyter.widget-view+json": {
       "model_id": "e4f7d715e24e497790fb0c4687c8bb54",
       "version_major": 2,
       "version_minor": 0
      },
      "text/plain": [
       "Processing Dates:   0%|          | 0/60 [00:00<?, ?it/s]"
      ]
     },
     "metadata": {},
     "output_type": "display_data"
    },
    {
     "data": {
      "application/vnd.jupyter.widget-view+json": {
       "model_id": "ac15a9165dfe450ebdf75e4ae9f62d20",
       "version_major": 2,
       "version_minor": 0
      },
      "text/plain": [
       "Processing Dates:   0%|          | 0/60 [00:00<?, ?it/s]"
      ]
     },
     "metadata": {},
     "output_type": "display_data"
    },
    {
     "data": {
      "application/vnd.jupyter.widget-view+json": {
       "model_id": "0d695771124d40398c4fff0e52b8f78c",
       "version_major": 2,
       "version_minor": 0
      },
      "text/plain": [
       "Processing Dates:   0%|          | 0/60 [00:00<?, ?it/s]"
      ]
     },
     "metadata": {},
     "output_type": "display_data"
    },
    {
     "data": {
      "application/vnd.jupyter.widget-view+json": {
       "model_id": "e16b5ca3946740f8be667b4f90791f9c",
       "version_major": 2,
       "version_minor": 0
      },
      "text/plain": [
       "Processing Dates:   0%|          | 0/60 [00:00<?, ?it/s]"
      ]
     },
     "metadata": {},
     "output_type": "display_data"
    },
    {
     "data": {
      "application/vnd.jupyter.widget-view+json": {
       "model_id": "8bb898111fab47588397206cdf4c3fed",
       "version_major": 2,
       "version_minor": 0
      },
      "text/plain": [
       "Processing Dates:   0%|          | 0/60 [00:00<?, ?it/s]"
      ]
     },
     "metadata": {},
     "output_type": "display_data"
    },
    {
     "data": {
      "application/vnd.jupyter.widget-view+json": {
       "model_id": "a299d8b95add41a69aaa8c68309fdb1b",
       "version_major": 2,
       "version_minor": 0
      },
      "text/plain": [
       "Processing Dates:   0%|          | 0/60 [00:00<?, ?it/s]"
      ]
     },
     "metadata": {},
     "output_type": "display_data"
    },
    {
     "data": {
      "application/vnd.jupyter.widget-view+json": {
       "model_id": "43613887bebb43d88c142880f3743cf6",
       "version_major": 2,
       "version_minor": 0
      },
      "text/plain": [
       "Processing Commodities:   0%|          | 0/6 [00:00<?, ?it/s]"
      ]
     },
     "metadata": {},
     "output_type": "display_data"
    },
    {
     "data": {
      "application/vnd.jupyter.widget-view+json": {
       "model_id": "f5f89901400b44348da2295ee99c0ad2",
       "version_major": 2,
       "version_minor": 0
      },
      "text/plain": [
       "Processing Dates:   0%|          | 0/60 [00:00<?, ?it/s]"
      ]
     },
     "metadata": {},
     "output_type": "display_data"
    },
    {
     "data": {
      "application/vnd.jupyter.widget-view+json": {
       "model_id": "a2570d06beee483eafbfbd9333c19458",
       "version_major": 2,
       "version_minor": 0
      },
      "text/plain": [
       "Processing Dates:   0%|          | 0/60 [00:00<?, ?it/s]"
      ]
     },
     "metadata": {},
     "output_type": "display_data"
    },
    {
     "data": {
      "application/vnd.jupyter.widget-view+json": {
       "model_id": "8d935fbc1a3041edb3e99088ffb8bec2",
       "version_major": 2,
       "version_minor": 0
      },
      "text/plain": [
       "Processing Dates:   0%|          | 0/60 [00:00<?, ?it/s]"
      ]
     },
     "metadata": {},
     "output_type": "display_data"
    },
    {
     "data": {
      "application/vnd.jupyter.widget-view+json": {
       "model_id": "9a25a5160f3848fbada493bb52d38a52",
       "version_major": 2,
       "version_minor": 0
      },
      "text/plain": [
       "Processing Dates:   0%|          | 0/60 [00:00<?, ?it/s]"
      ]
     },
     "metadata": {},
     "output_type": "display_data"
    },
    {
     "data": {
      "application/vnd.jupyter.widget-view+json": {
       "model_id": "6b69920fba5c4aff8f87a9dc4d9e3e1e",
       "version_major": 2,
       "version_minor": 0
      },
      "text/plain": [
       "Processing Dates:   0%|          | 0/60 [00:00<?, ?it/s]"
      ]
     },
     "metadata": {},
     "output_type": "display_data"
    },
    {
     "data": {
      "application/vnd.jupyter.widget-view+json": {
       "model_id": "696b8ffccdcb489f919e3a5fe5341e36",
       "version_major": 2,
       "version_minor": 0
      },
      "text/plain": [
       "Processing Dates:   0%|          | 0/60 [00:00<?, ?it/s]"
      ]
     },
     "metadata": {},
     "output_type": "display_data"
    },
    {
     "data": {
      "application/vnd.jupyter.widget-view+json": {
       "model_id": "2a81d15414444031a3b5f776f2f33ae6",
       "version_major": 2,
       "version_minor": 0
      },
      "text/plain": [
       "Processing Commodities:   0%|          | 0/6 [00:00<?, ?it/s]"
      ]
     },
     "metadata": {},
     "output_type": "display_data"
    },
    {
     "data": {
      "application/vnd.jupyter.widget-view+json": {
       "model_id": "73a3ee2f8f5241c190ffe10307e25180",
       "version_major": 2,
       "version_minor": 0
      },
      "text/plain": [
       "Processing Dates:   0%|          | 0/60 [00:00<?, ?it/s]"
      ]
     },
     "metadata": {},
     "output_type": "display_data"
    },
    {
     "data": {
      "application/vnd.jupyter.widget-view+json": {
       "model_id": "5c6fda53d271451ea4c9be36278952aa",
       "version_major": 2,
       "version_minor": 0
      },
      "text/plain": [
       "Processing Dates:   0%|          | 0/60 [00:00<?, ?it/s]"
      ]
     },
     "metadata": {},
     "output_type": "display_data"
    },
    {
     "data": {
      "application/vnd.jupyter.widget-view+json": {
       "model_id": "fc046c1b8a8b414b811ba7c96747e40e",
       "version_major": 2,
       "version_minor": 0
      },
      "text/plain": [
       "Processing Dates:   0%|          | 0/60 [00:00<?, ?it/s]"
      ]
     },
     "metadata": {},
     "output_type": "display_data"
    },
    {
     "data": {
      "application/vnd.jupyter.widget-view+json": {
       "model_id": "0b9cfe06a4bb4f76ad2b8a6d640ccbe1",
       "version_major": 2,
       "version_minor": 0
      },
      "text/plain": [
       "Processing Dates:   0%|          | 0/60 [00:00<?, ?it/s]"
      ]
     },
     "metadata": {},
     "output_type": "display_data"
    },
    {
     "data": {
      "application/vnd.jupyter.widget-view+json": {
       "model_id": "97a97cbb63a54d169ee709a9e18fc931",
       "version_major": 2,
       "version_minor": 0
      },
      "text/plain": [
       "Processing Dates:   0%|          | 0/60 [00:00<?, ?it/s]"
      ]
     },
     "metadata": {},
     "output_type": "display_data"
    },
    {
     "data": {
      "application/vnd.jupyter.widget-view+json": {
       "model_id": "c254da9a38204e58a21afd062ce56db0",
       "version_major": 2,
       "version_minor": 0
      },
      "text/plain": [
       "Processing Dates:   0%|          | 0/60 [00:00<?, ?it/s]"
      ]
     },
     "metadata": {},
     "output_type": "display_data"
    },
    {
     "data": {
      "application/vnd.jupyter.widget-view+json": {
       "model_id": "71ae3b87c34d4a32ac9d7b5e5efc4427",
       "version_major": 2,
       "version_minor": 0
      },
      "text/plain": [
       "Processing Commodities:   0%|          | 0/6 [00:00<?, ?it/s]"
      ]
     },
     "metadata": {},
     "output_type": "display_data"
    },
    {
     "data": {
      "application/vnd.jupyter.widget-view+json": {
       "model_id": "fd6a0a7d24894feea698600fbc217b1a",
       "version_major": 2,
       "version_minor": 0
      },
      "text/plain": [
       "Processing Dates:   0%|          | 0/60 [00:00<?, ?it/s]"
      ]
     },
     "metadata": {},
     "output_type": "display_data"
    },
    {
     "data": {
      "application/vnd.jupyter.widget-view+json": {
       "model_id": "c596fc5d83f94a7791620d1aa9f72b95",
       "version_major": 2,
       "version_minor": 0
      },
      "text/plain": [
       "Processing Dates:   0%|          | 0/60 [00:00<?, ?it/s]"
      ]
     },
     "metadata": {},
     "output_type": "display_data"
    },
    {
     "data": {
      "application/vnd.jupyter.widget-view+json": {
       "model_id": "ad9c578f0fad4c7280f3579336ccade5",
       "version_major": 2,
       "version_minor": 0
      },
      "text/plain": [
       "Processing Dates:   0%|          | 0/60 [00:00<?, ?it/s]"
      ]
     },
     "metadata": {},
     "output_type": "display_data"
    },
    {
     "data": {
      "application/vnd.jupyter.widget-view+json": {
       "model_id": "c17a4c7ec84b4cad816c444c496f05d2",
       "version_major": 2,
       "version_minor": 0
      },
      "text/plain": [
       "Processing Dates:   0%|          | 0/60 [00:00<?, ?it/s]"
      ]
     },
     "metadata": {},
     "output_type": "display_data"
    },
    {
     "data": {
      "application/vnd.jupyter.widget-view+json": {
       "model_id": "77557dc3c2984249937931c741a481c2",
       "version_major": 2,
       "version_minor": 0
      },
      "text/plain": [
       "Processing Dates:   0%|          | 0/60 [00:00<?, ?it/s]"
      ]
     },
     "metadata": {},
     "output_type": "display_data"
    },
    {
     "data": {
      "application/vnd.jupyter.widget-view+json": {
       "model_id": "3c0ab715ff29462b8827f0b8ba4d17f3",
       "version_major": 2,
       "version_minor": 0
      },
      "text/plain": [
       "Processing Dates:   0%|          | 0/60 [00:00<?, ?it/s]"
      ]
     },
     "metadata": {},
     "output_type": "display_data"
    },
    {
     "data": {
      "application/vnd.jupyter.widget-view+json": {
       "model_id": "6e6b94dcf7904d498db84f5ceb51681a",
       "version_major": 2,
       "version_minor": 0
      },
      "text/plain": [
       "Processing Commodities:   0%|          | 0/6 [00:00<?, ?it/s]"
      ]
     },
     "metadata": {},
     "output_type": "display_data"
    },
    {
     "data": {
      "application/vnd.jupyter.widget-view+json": {
       "model_id": "580e204cb8c3440c9602e2b8e3075d03",
       "version_major": 2,
       "version_minor": 0
      },
      "text/plain": [
       "Processing Dates:   0%|          | 0/60 [00:00<?, ?it/s]"
      ]
     },
     "metadata": {},
     "output_type": "display_data"
    },
    {
     "data": {
      "application/vnd.jupyter.widget-view+json": {
       "model_id": "5fd9d418973a4575ab56a30536107a3f",
       "version_major": 2,
       "version_minor": 0
      },
      "text/plain": [
       "Processing Dates:   0%|          | 0/60 [00:00<?, ?it/s]"
      ]
     },
     "metadata": {},
     "output_type": "display_data"
    },
    {
     "data": {
      "application/vnd.jupyter.widget-view+json": {
       "model_id": "73f14404cd5c4ff1bbb11530f5270625",
       "version_major": 2,
       "version_minor": 0
      },
      "text/plain": [
       "Processing Dates:   0%|          | 0/60 [00:00<?, ?it/s]"
      ]
     },
     "metadata": {},
     "output_type": "display_data"
    },
    {
     "data": {
      "application/vnd.jupyter.widget-view+json": {
       "model_id": "739c04239d8f47a3ac9d0402bc67a941",
       "version_major": 2,
       "version_minor": 0
      },
      "text/plain": [
       "Processing Dates:   0%|          | 0/60 [00:00<?, ?it/s]"
      ]
     },
     "metadata": {},
     "output_type": "display_data"
    },
    {
     "data": {
      "application/vnd.jupyter.widget-view+json": {
       "model_id": "78b692b4ded44487bfaebd42d9a2dd4d",
       "version_major": 2,
       "version_minor": 0
      },
      "text/plain": [
       "Processing Dates:   0%|          | 0/60 [00:00<?, ?it/s]"
      ]
     },
     "metadata": {},
     "output_type": "display_data"
    },
    {
     "data": {
      "application/vnd.jupyter.widget-view+json": {
       "model_id": "5ec557fb7b9743fb9c1205922f877849",
       "version_major": 2,
       "version_minor": 0
      },
      "text/plain": [
       "Processing Dates:   0%|          | 0/60 [00:00<?, ?it/s]"
      ]
     },
     "metadata": {},
     "output_type": "display_data"
    },
    {
     "data": {
      "application/vnd.jupyter.widget-view+json": {
       "model_id": "0b67006cda34480db85090cc170f3a45",
       "version_major": 2,
       "version_minor": 0
      },
      "text/plain": [
       "Processing Commodities:   0%|          | 0/6 [00:00<?, ?it/s]"
      ]
     },
     "metadata": {},
     "output_type": "display_data"
    },
    {
     "data": {
      "application/vnd.jupyter.widget-view+json": {
       "model_id": "8094c61914264798819210f731691562",
       "version_major": 2,
       "version_minor": 0
      },
      "text/plain": [
       "Processing Dates:   0%|          | 0/60 [00:00<?, ?it/s]"
      ]
     },
     "metadata": {},
     "output_type": "display_data"
    },
    {
     "data": {
      "application/vnd.jupyter.widget-view+json": {
       "model_id": "ff58eca5a9414a48b526739bd772a2c7",
       "version_major": 2,
       "version_minor": 0
      },
      "text/plain": [
       "Processing Dates:   0%|          | 0/60 [00:00<?, ?it/s]"
      ]
     },
     "metadata": {},
     "output_type": "display_data"
    },
    {
     "data": {
      "application/vnd.jupyter.widget-view+json": {
       "model_id": "a1b5c7d5358f496e93bc9120b3c04c67",
       "version_major": 2,
       "version_minor": 0
      },
      "text/plain": [
       "Processing Dates:   0%|          | 0/60 [00:00<?, ?it/s]"
      ]
     },
     "metadata": {},
     "output_type": "display_data"
    },
    {
     "data": {
      "application/vnd.jupyter.widget-view+json": {
       "model_id": "53e110f1740e49c0a8e5bd86de200b2e",
       "version_major": 2,
       "version_minor": 0
      },
      "text/plain": [
       "Processing Dates:   0%|          | 0/60 [00:00<?, ?it/s]"
      ]
     },
     "metadata": {},
     "output_type": "display_data"
    },
    {
     "data": {
      "application/vnd.jupyter.widget-view+json": {
       "model_id": "3a9dcad5c48147d399250dbb07a39b55",
       "version_major": 2,
       "version_minor": 0
      },
      "text/plain": [
       "Processing Dates:   0%|          | 0/60 [00:00<?, ?it/s]"
      ]
     },
     "metadata": {},
     "output_type": "display_data"
    },
    {
     "data": {
      "application/vnd.jupyter.widget-view+json": {
       "model_id": "6c8ad622974c4ceaad3c70d81590f67c",
       "version_major": 2,
       "version_minor": 0
      },
      "text/plain": [
       "Processing Dates:   0%|          | 0/60 [00:00<?, ?it/s]"
      ]
     },
     "metadata": {},
     "output_type": "display_data"
    },
    {
     "data": {
      "application/vnd.jupyter.widget-view+json": {
       "model_id": "05504ec91fcb423986ef4b8f4d83c822",
       "version_major": 2,
       "version_minor": 0
      },
      "text/plain": [
       "Processing Commodities:   0%|          | 0/6 [00:00<?, ?it/s]"
      ]
     },
     "metadata": {},
     "output_type": "display_data"
    },
    {
     "data": {
      "application/vnd.jupyter.widget-view+json": {
       "model_id": "496727b19bc04a39a0e7b927115ca543",
       "version_major": 2,
       "version_minor": 0
      },
      "text/plain": [
       "Processing Dates:   0%|          | 0/60 [00:00<?, ?it/s]"
      ]
     },
     "metadata": {},
     "output_type": "display_data"
    },
    {
     "data": {
      "application/vnd.jupyter.widget-view+json": {
       "model_id": "887c09792d394ac3a0152494e99c6654",
       "version_major": 2,
       "version_minor": 0
      },
      "text/plain": [
       "Processing Dates:   0%|          | 0/60 [00:00<?, ?it/s]"
      ]
     },
     "metadata": {},
     "output_type": "display_data"
    },
    {
     "data": {
      "application/vnd.jupyter.widget-view+json": {
       "model_id": "86fa822f74b94e06b10c996afd96fe40",
       "version_major": 2,
       "version_minor": 0
      },
      "text/plain": [
       "Processing Dates:   0%|          | 0/60 [00:00<?, ?it/s]"
      ]
     },
     "metadata": {},
     "output_type": "display_data"
    },
    {
     "data": {
      "application/vnd.jupyter.widget-view+json": {
       "model_id": "05f974a6637349c2b79d30ea1e2aca4b",
       "version_major": 2,
       "version_minor": 0
      },
      "text/plain": [
       "Processing Dates:   0%|          | 0/60 [00:00<?, ?it/s]"
      ]
     },
     "metadata": {},
     "output_type": "display_data"
    },
    {
     "data": {
      "application/vnd.jupyter.widget-view+json": {
       "model_id": "2cd767ab43b34ee882c7feb094abcf7b",
       "version_major": 2,
       "version_minor": 0
      },
      "text/plain": [
       "Processing Dates:   0%|          | 0/60 [00:00<?, ?it/s]"
      ]
     },
     "metadata": {},
     "output_type": "display_data"
    },
    {
     "data": {
      "application/vnd.jupyter.widget-view+json": {
       "model_id": "62c193955bb146eea5ffdb0f409806af",
       "version_major": 2,
       "version_minor": 0
      },
      "text/plain": [
       "Processing Dates:   0%|          | 0/60 [00:00<?, ?it/s]"
      ]
     },
     "metadata": {},
     "output_type": "display_data"
    },
    {
     "data": {
      "application/vnd.jupyter.widget-view+json": {
       "model_id": "49c452e6de7644f0b4d98b2c828db454",
       "version_major": 2,
       "version_minor": 0
      },
      "text/plain": [
       "Processing Commodities:   0%|          | 0/6 [00:00<?, ?it/s]"
      ]
     },
     "metadata": {},
     "output_type": "display_data"
    },
    {
     "data": {
      "application/vnd.jupyter.widget-view+json": {
       "model_id": "c260045d5ec34517a27466d0c9c89fba",
       "version_major": 2,
       "version_minor": 0
      },
      "text/plain": [
       "Processing Dates:   0%|          | 0/60 [00:00<?, ?it/s]"
      ]
     },
     "metadata": {},
     "output_type": "display_data"
    },
    {
     "data": {
      "application/vnd.jupyter.widget-view+json": {
       "model_id": "0c708e172fc548c68cfd53cf669b94b3",
       "version_major": 2,
       "version_minor": 0
      },
      "text/plain": [
       "Processing Dates:   0%|          | 0/60 [00:00<?, ?it/s]"
      ]
     },
     "metadata": {},
     "output_type": "display_data"
    },
    {
     "data": {
      "application/vnd.jupyter.widget-view+json": {
       "model_id": "1058c11205644906b11c8c98cc7b9d02",
       "version_major": 2,
       "version_minor": 0
      },
      "text/plain": [
       "Processing Dates:   0%|          | 0/60 [00:00<?, ?it/s]"
      ]
     },
     "metadata": {},
     "output_type": "display_data"
    },
    {
     "data": {
      "application/vnd.jupyter.widget-view+json": {
       "model_id": "e94738802ede4cba9fb8716e614d1c20",
       "version_major": 2,
       "version_minor": 0
      },
      "text/plain": [
       "Processing Dates:   0%|          | 0/60 [00:00<?, ?it/s]"
      ]
     },
     "metadata": {},
     "output_type": "display_data"
    },
    {
     "data": {
      "application/vnd.jupyter.widget-view+json": {
       "model_id": "0a6f17f6d42e479483cc7991c8b328db",
       "version_major": 2,
       "version_minor": 0
      },
      "text/plain": [
       "Processing Dates:   0%|          | 0/60 [00:00<?, ?it/s]"
      ]
     },
     "metadata": {},
     "output_type": "display_data"
    },
    {
     "data": {
      "application/vnd.jupyter.widget-view+json": {
       "model_id": "26aae90ec53b4b01b0300c1ce4593a25",
       "version_major": 2,
       "version_minor": 0
      },
      "text/plain": [
       "Processing Dates:   0%|          | 0/60 [00:00<?, ?it/s]"
      ]
     },
     "metadata": {},
     "output_type": "display_data"
    },
    {
     "data": {
      "application/vnd.jupyter.widget-view+json": {
       "model_id": "d772b59aa83c4018b934e40c8f10af69",
       "version_major": 2,
       "version_minor": 0
      },
      "text/plain": [
       "Processing Commodities:   0%|          | 0/6 [00:00<?, ?it/s]"
      ]
     },
     "metadata": {},
     "output_type": "display_data"
    },
    {
     "data": {
      "application/vnd.jupyter.widget-view+json": {
       "model_id": "faf31027f75d435c8ee66aacc7f3119d",
       "version_major": 2,
       "version_minor": 0
      },
      "text/plain": [
       "Processing Dates:   0%|          | 0/60 [00:00<?, ?it/s]"
      ]
     },
     "metadata": {},
     "output_type": "display_data"
    },
    {
     "data": {
      "application/vnd.jupyter.widget-view+json": {
       "model_id": "cb22b5cabc604dfdb27176b18b297fc3",
       "version_major": 2,
       "version_minor": 0
      },
      "text/plain": [
       "Processing Dates:   0%|          | 0/60 [00:00<?, ?it/s]"
      ]
     },
     "metadata": {},
     "output_type": "display_data"
    },
    {
     "data": {
      "application/vnd.jupyter.widget-view+json": {
       "model_id": "4c4fc3aa861242719c56f9d563e83e30",
       "version_major": 2,
       "version_minor": 0
      },
      "text/plain": [
       "Processing Dates:   0%|          | 0/60 [00:00<?, ?it/s]"
      ]
     },
     "metadata": {},
     "output_type": "display_data"
    },
    {
     "data": {
      "application/vnd.jupyter.widget-view+json": {
       "model_id": "4710bfc58a0e46518385a672ec36e69c",
       "version_major": 2,
       "version_minor": 0
      },
      "text/plain": [
       "Processing Dates:   0%|          | 0/60 [00:00<?, ?it/s]"
      ]
     },
     "metadata": {},
     "output_type": "display_data"
    },
    {
     "data": {
      "application/vnd.jupyter.widget-view+json": {
       "model_id": "e3182cdd9b294432979d9e6aecd58219",
       "version_major": 2,
       "version_minor": 0
      },
      "text/plain": [
       "Processing Dates:   0%|          | 0/60 [00:00<?, ?it/s]"
      ]
     },
     "metadata": {},
     "output_type": "display_data"
    },
    {
     "data": {
      "application/vnd.jupyter.widget-view+json": {
       "model_id": "d3ab6cd9269f49faac9da3b0f7748719",
       "version_major": 2,
       "version_minor": 0
      },
      "text/plain": [
       "Processing Dates:   0%|          | 0/60 [00:00<?, ?it/s]"
      ]
     },
     "metadata": {},
     "output_type": "display_data"
    },
    {
     "data": {
      "application/vnd.jupyter.widget-view+json": {
       "model_id": "0a5af345832948e4b5a97d1b921698a3",
       "version_major": 2,
       "version_minor": 0
      },
      "text/plain": [
       "Processing Commodities:   0%|          | 0/6 [00:00<?, ?it/s]"
      ]
     },
     "metadata": {},
     "output_type": "display_data"
    },
    {
     "data": {
      "application/vnd.jupyter.widget-view+json": {
       "model_id": "f6ea2044d66245998baf6746eff7fe1d",
       "version_major": 2,
       "version_minor": 0
      },
      "text/plain": [
       "Processing Dates:   0%|          | 0/60 [00:00<?, ?it/s]"
      ]
     },
     "metadata": {},
     "output_type": "display_data"
    },
    {
     "data": {
      "application/vnd.jupyter.widget-view+json": {
       "model_id": "c191958208824772bc346ea15b0ab6b3",
       "version_major": 2,
       "version_minor": 0
      },
      "text/plain": [
       "Processing Dates:   0%|          | 0/60 [00:00<?, ?it/s]"
      ]
     },
     "metadata": {},
     "output_type": "display_data"
    },
    {
     "data": {
      "application/vnd.jupyter.widget-view+json": {
       "model_id": "89a7cb0cc9834fdebb5d12233032bcfb",
       "version_major": 2,
       "version_minor": 0
      },
      "text/plain": [
       "Processing Dates:   0%|          | 0/60 [00:00<?, ?it/s]"
      ]
     },
     "metadata": {},
     "output_type": "display_data"
    },
    {
     "data": {
      "application/vnd.jupyter.widget-view+json": {
       "model_id": "31930045354d4bc2a73854004bd70b5f",
       "version_major": 2,
       "version_minor": 0
      },
      "text/plain": [
       "Processing Dates:   0%|          | 0/60 [00:00<?, ?it/s]"
      ]
     },
     "metadata": {},
     "output_type": "display_data"
    },
    {
     "data": {
      "application/vnd.jupyter.widget-view+json": {
       "model_id": "ba455140032f4faf911cae12f19b381f",
       "version_major": 2,
       "version_minor": 0
      },
      "text/plain": [
       "Processing Dates:   0%|          | 0/60 [00:00<?, ?it/s]"
      ]
     },
     "metadata": {},
     "output_type": "display_data"
    },
    {
     "data": {
      "application/vnd.jupyter.widget-view+json": {
       "model_id": "cc256eafae3b465ba629c30cd3284906",
       "version_major": 2,
       "version_minor": 0
      },
      "text/plain": [
       "Processing Dates:   0%|          | 0/60 [00:00<?, ?it/s]"
      ]
     },
     "metadata": {},
     "output_type": "display_data"
    },
    {
     "data": {
      "application/vnd.jupyter.widget-view+json": {
       "model_id": "bc1e47b8b56d454fb1c468f08f6711c5",
       "version_major": 2,
       "version_minor": 0
      },
      "text/plain": [
       "Processing Commodities:   0%|          | 0/6 [00:00<?, ?it/s]"
      ]
     },
     "metadata": {},
     "output_type": "display_data"
    },
    {
     "data": {
      "application/vnd.jupyter.widget-view+json": {
       "model_id": "ec58b03ed4ea4eea84a514494c147a09",
       "version_major": 2,
       "version_minor": 0
      },
      "text/plain": [
       "Processing Dates:   0%|          | 0/60 [00:00<?, ?it/s]"
      ]
     },
     "metadata": {},
     "output_type": "display_data"
    },
    {
     "data": {
      "application/vnd.jupyter.widget-view+json": {
       "model_id": "73cb21d301264854942e04e955c25438",
       "version_major": 2,
       "version_minor": 0
      },
      "text/plain": [
       "Processing Dates:   0%|          | 0/60 [00:00<?, ?it/s]"
      ]
     },
     "metadata": {},
     "output_type": "display_data"
    },
    {
     "data": {
      "application/vnd.jupyter.widget-view+json": {
       "model_id": "99e1468e3f1b44ef99c2ea6da93b9fc2",
       "version_major": 2,
       "version_minor": 0
      },
      "text/plain": [
       "Processing Dates:   0%|          | 0/60 [00:00<?, ?it/s]"
      ]
     },
     "metadata": {},
     "output_type": "display_data"
    },
    {
     "data": {
      "application/vnd.jupyter.widget-view+json": {
       "model_id": "7a15c357e7084c4493c34232631e8198",
       "version_major": 2,
       "version_minor": 0
      },
      "text/plain": [
       "Processing Dates:   0%|          | 0/60 [00:00<?, ?it/s]"
      ]
     },
     "metadata": {},
     "output_type": "display_data"
    },
    {
     "data": {
      "application/vnd.jupyter.widget-view+json": {
       "model_id": "5d3a669a5a2b40f2b256b26210068eb5",
       "version_major": 2,
       "version_minor": 0
      },
      "text/plain": [
       "Processing Dates:   0%|          | 0/60 [00:00<?, ?it/s]"
      ]
     },
     "metadata": {},
     "output_type": "display_data"
    },
    {
     "data": {
      "application/vnd.jupyter.widget-view+json": {
       "model_id": "b477390ae14843bcb8e5fb2eedb29d96",
       "version_major": 2,
       "version_minor": 0
      },
      "text/plain": [
       "Processing Dates:   0%|          | 0/60 [00:00<?, ?it/s]"
      ]
     },
     "metadata": {},
     "output_type": "display_data"
    },
    {
     "data": {
      "application/vnd.jupyter.widget-view+json": {
       "model_id": "03505ea2a0674f0aa1e12a564b079f4f",
       "version_major": 2,
       "version_minor": 0
      },
      "text/plain": [
       "Processing Commodities:   0%|          | 0/6 [00:00<?, ?it/s]"
      ]
     },
     "metadata": {},
     "output_type": "display_data"
    },
    {
     "data": {
      "application/vnd.jupyter.widget-view+json": {
       "model_id": "5753fb2b30a14ddf8f09ed1bcb74aabc",
       "version_major": 2,
       "version_minor": 0
      },
      "text/plain": [
       "Processing Dates:   0%|          | 0/60 [00:00<?, ?it/s]"
      ]
     },
     "metadata": {},
     "output_type": "display_data"
    },
    {
     "data": {
      "application/vnd.jupyter.widget-view+json": {
       "model_id": "fbd98c4ae9f047afbe149cf934137a12",
       "version_major": 2,
       "version_minor": 0
      },
      "text/plain": [
       "Processing Dates:   0%|          | 0/60 [00:00<?, ?it/s]"
      ]
     },
     "metadata": {},
     "output_type": "display_data"
    },
    {
     "data": {
      "application/vnd.jupyter.widget-view+json": {
       "model_id": "dd2fef3b73ea4639864e806368c75a40",
       "version_major": 2,
       "version_minor": 0
      },
      "text/plain": [
       "Processing Dates:   0%|          | 0/60 [00:00<?, ?it/s]"
      ]
     },
     "metadata": {},
     "output_type": "display_data"
    },
    {
     "data": {
      "application/vnd.jupyter.widget-view+json": {
       "model_id": "07ecafb03ab24ac484748fa5c2597794",
       "version_major": 2,
       "version_minor": 0
      },
      "text/plain": [
       "Processing Dates:   0%|          | 0/60 [00:00<?, ?it/s]"
      ]
     },
     "metadata": {},
     "output_type": "display_data"
    },
    {
     "data": {
      "application/vnd.jupyter.widget-view+json": {
       "model_id": "4e78ca6e77044bd5b21be7213a4cdabf",
       "version_major": 2,
       "version_minor": 0
      },
      "text/plain": [
       "Processing Dates:   0%|          | 0/60 [00:00<?, ?it/s]"
      ]
     },
     "metadata": {},
     "output_type": "display_data"
    },
    {
     "data": {
      "application/vnd.jupyter.widget-view+json": {
       "model_id": "434b6955b3ec4497a323284086f57a48",
       "version_major": 2,
       "version_minor": 0
      },
      "text/plain": [
       "Processing Dates:   0%|          | 0/60 [00:00<?, ?it/s]"
      ]
     },
     "metadata": {},
     "output_type": "display_data"
    },
    {
     "data": {
      "application/vnd.jupyter.widget-view+json": {
       "model_id": "a064544886904a2dafebf423a75724b3",
       "version_major": 2,
       "version_minor": 0
      },
      "text/plain": [
       "Processing Commodities:   0%|          | 0/6 [00:00<?, ?it/s]"
      ]
     },
     "metadata": {},
     "output_type": "display_data"
    },
    {
     "data": {
      "application/vnd.jupyter.widget-view+json": {
       "model_id": "980e5192518e410db3428c23dc21e267",
       "version_major": 2,
       "version_minor": 0
      },
      "text/plain": [
       "Processing Dates:   0%|          | 0/60 [00:00<?, ?it/s]"
      ]
     },
     "metadata": {},
     "output_type": "display_data"
    },
    {
     "data": {
      "application/vnd.jupyter.widget-view+json": {
       "model_id": "afac9d05fd18453685e77041730d8fa9",
       "version_major": 2,
       "version_minor": 0
      },
      "text/plain": [
       "Processing Dates:   0%|          | 0/60 [00:00<?, ?it/s]"
      ]
     },
     "metadata": {},
     "output_type": "display_data"
    },
    {
     "data": {
      "application/vnd.jupyter.widget-view+json": {
       "model_id": "2cf4743a67204c129739fe2c39255edc",
       "version_major": 2,
       "version_minor": 0
      },
      "text/plain": [
       "Processing Dates:   0%|          | 0/60 [00:00<?, ?it/s]"
      ]
     },
     "metadata": {},
     "output_type": "display_data"
    },
    {
     "data": {
      "application/vnd.jupyter.widget-view+json": {
       "model_id": "875ad73ab8e54c3b9d5cc64dbbfc4b48",
       "version_major": 2,
       "version_minor": 0
      },
      "text/plain": [
       "Processing Dates:   0%|          | 0/60 [00:00<?, ?it/s]"
      ]
     },
     "metadata": {},
     "output_type": "display_data"
    },
    {
     "data": {
      "application/vnd.jupyter.widget-view+json": {
       "model_id": "a13f4f08332846dfbfb1cff7a3e018c8",
       "version_major": 2,
       "version_minor": 0
      },
      "text/plain": [
       "Processing Dates:   0%|          | 0/60 [00:00<?, ?it/s]"
      ]
     },
     "metadata": {},
     "output_type": "display_data"
    },
    {
     "data": {
      "application/vnd.jupyter.widget-view+json": {
       "model_id": "77ec255fbffb442394d369d5cb5a63f5",
       "version_major": 2,
       "version_minor": 0
      },
      "text/plain": [
       "Processing Dates:   0%|          | 0/60 [00:00<?, ?it/s]"
      ]
     },
     "metadata": {},
     "output_type": "display_data"
    },
    {
     "data": {
      "application/vnd.jupyter.widget-view+json": {
       "model_id": "74aaae30602e4b84812ce60588369b36",
       "version_major": 2,
       "version_minor": 0
      },
      "text/plain": [
       "Processing Commodities:   0%|          | 0/6 [00:00<?, ?it/s]"
      ]
     },
     "metadata": {},
     "output_type": "display_data"
    },
    {
     "data": {
      "application/vnd.jupyter.widget-view+json": {
       "model_id": "fc44c8a84797461da7e770229f4e56ce",
       "version_major": 2,
       "version_minor": 0
      },
      "text/plain": [
       "Processing Dates:   0%|          | 0/60 [00:00<?, ?it/s]"
      ]
     },
     "metadata": {},
     "output_type": "display_data"
    },
    {
     "data": {
      "application/vnd.jupyter.widget-view+json": {
       "model_id": "7f8161d083b844f3a71c45ad6772b457",
       "version_major": 2,
       "version_minor": 0
      },
      "text/plain": [
       "Processing Dates:   0%|          | 0/60 [00:00<?, ?it/s]"
      ]
     },
     "metadata": {},
     "output_type": "display_data"
    },
    {
     "data": {
      "application/vnd.jupyter.widget-view+json": {
       "model_id": "2da40cf81906423a9119f51ce6d7e744",
       "version_major": 2,
       "version_minor": 0
      },
      "text/plain": [
       "Processing Dates:   0%|          | 0/60 [00:00<?, ?it/s]"
      ]
     },
     "metadata": {},
     "output_type": "display_data"
    },
    {
     "data": {
      "application/vnd.jupyter.widget-view+json": {
       "model_id": "d9604d4b5ca8465abd587d795298fd71",
       "version_major": 2,
       "version_minor": 0
      },
      "text/plain": [
       "Processing Dates:   0%|          | 0/60 [00:00<?, ?it/s]"
      ]
     },
     "metadata": {},
     "output_type": "display_data"
    },
    {
     "data": {
      "application/vnd.jupyter.widget-view+json": {
       "model_id": "dbf6b047c3e0455cae4085f16eb3828c",
       "version_major": 2,
       "version_minor": 0
      },
      "text/plain": [
       "Processing Dates:   0%|          | 0/60 [00:00<?, ?it/s]"
      ]
     },
     "metadata": {},
     "output_type": "display_data"
    },
    {
     "data": {
      "application/vnd.jupyter.widget-view+json": {
       "model_id": "00557f036643480b8a32ec628095e6ab",
       "version_major": 2,
       "version_minor": 0
      },
      "text/plain": [
       "Processing Dates:   0%|          | 0/60 [00:00<?, ?it/s]"
      ]
     },
     "metadata": {},
     "output_type": "display_data"
    },
    {
     "data": {
      "application/vnd.jupyter.widget-view+json": {
       "model_id": "f789cbedf3114a659ca9c7063962bb0d",
       "version_major": 2,
       "version_minor": 0
      },
      "text/plain": [
       "Processing Regions:   0%|          | 0/14 [00:00<?, ?it/s]"
      ]
     },
     "metadata": {},
     "output_type": "display_data"
    },
    {
     "data": {
      "application/vnd.jupyter.widget-view+json": {
       "model_id": "630f08209ee8401da6e4835a81dcf003",
       "version_major": 2,
       "version_minor": 0
      },
      "text/plain": [
       "Processing Commodities:   0%|          | 0/8 [00:00<?, ?it/s]"
      ]
     },
     "metadata": {},
     "output_type": "display_data"
    },
    {
     "data": {
      "application/vnd.jupyter.widget-view+json": {
       "model_id": "101ce0015c71486a85cd6e142b725756",
       "version_major": 2,
       "version_minor": 0
      },
      "text/plain": [
       "Processing Dates:   0%|          | 0/60 [00:00<?, ?it/s]"
      ]
     },
     "metadata": {},
     "output_type": "display_data"
    },
    {
     "data": {
      "application/vnd.jupyter.widget-view+json": {
       "model_id": "3e0963197e804d66bef9464b2934c857",
       "version_major": 2,
       "version_minor": 0
      },
      "text/plain": [
       "Processing Dates:   0%|          | 0/60 [00:00<?, ?it/s]"
      ]
     },
     "metadata": {},
     "output_type": "display_data"
    },
    {
     "data": {
      "application/vnd.jupyter.widget-view+json": {
       "model_id": "7a0a6c4ae22b4963863abf8c03a7878a",
       "version_major": 2,
       "version_minor": 0
      },
      "text/plain": [
       "Processing Dates:   0%|          | 0/60 [00:00<?, ?it/s]"
      ]
     },
     "metadata": {},
     "output_type": "display_data"
    },
    {
     "data": {
      "application/vnd.jupyter.widget-view+json": {
       "model_id": "db4d80decf2e4e0a877ff2ce72f218bf",
       "version_major": 2,
       "version_minor": 0
      },
      "text/plain": [
       "Processing Dates:   0%|          | 0/60 [00:00<?, ?it/s]"
      ]
     },
     "metadata": {},
     "output_type": "display_data"
    },
    {
     "data": {
      "application/vnd.jupyter.widget-view+json": {
       "model_id": "ed04545f705d427688c855d99bdd8645",
       "version_major": 2,
       "version_minor": 0
      },
      "text/plain": [
       "Processing Dates:   0%|          | 0/60 [00:00<?, ?it/s]"
      ]
     },
     "metadata": {},
     "output_type": "display_data"
    },
    {
     "data": {
      "application/vnd.jupyter.widget-view+json": {
       "model_id": "3c9bc8af72ab4802b661fe3bfdfb2149",
       "version_major": 2,
       "version_minor": 0
      },
      "text/plain": [
       "Processing Dates:   0%|          | 0/60 [00:00<?, ?it/s]"
      ]
     },
     "metadata": {},
     "output_type": "display_data"
    },
    {
     "data": {
      "application/vnd.jupyter.widget-view+json": {
       "model_id": "120c4e1e720c4d1e970894d6b3345535",
       "version_major": 2,
       "version_minor": 0
      },
      "text/plain": [
       "Processing Dates:   0%|          | 0/60 [00:00<?, ?it/s]"
      ]
     },
     "metadata": {},
     "output_type": "display_data"
    },
    {
     "data": {
      "application/vnd.jupyter.widget-view+json": {
       "model_id": "bc051e921c9040a7a1fafb8c0e87da48",
       "version_major": 2,
       "version_minor": 0
      },
      "text/plain": [
       "Processing Dates:   0%|          | 0/60 [00:00<?, ?it/s]"
      ]
     },
     "metadata": {},
     "output_type": "display_data"
    },
    {
     "data": {
      "application/vnd.jupyter.widget-view+json": {
       "model_id": "5f3991503aa64b47a2210d6fbc46e0c9",
       "version_major": 2,
       "version_minor": 0
      },
      "text/plain": [
       "Processing Commodities:   0%|          | 0/8 [00:00<?, ?it/s]"
      ]
     },
     "metadata": {},
     "output_type": "display_data"
    },
    {
     "data": {
      "application/vnd.jupyter.widget-view+json": {
       "model_id": "211931c059b34ad19d4b911266aa0644",
       "version_major": 2,
       "version_minor": 0
      },
      "text/plain": [
       "Processing Dates:   0%|          | 0/60 [00:00<?, ?it/s]"
      ]
     },
     "metadata": {},
     "output_type": "display_data"
    },
    {
     "data": {
      "application/vnd.jupyter.widget-view+json": {
       "model_id": "3a1da47066d74f438b2818ff7140a126",
       "version_major": 2,
       "version_minor": 0
      },
      "text/plain": [
       "Processing Dates:   0%|          | 0/60 [00:00<?, ?it/s]"
      ]
     },
     "metadata": {},
     "output_type": "display_data"
    },
    {
     "data": {
      "application/vnd.jupyter.widget-view+json": {
       "model_id": "fc395562d9d04b9db20f7ecbfa7dbf9e",
       "version_major": 2,
       "version_minor": 0
      },
      "text/plain": [
       "Processing Dates:   0%|          | 0/60 [00:00<?, ?it/s]"
      ]
     },
     "metadata": {},
     "output_type": "display_data"
    },
    {
     "data": {
      "application/vnd.jupyter.widget-view+json": {
       "model_id": "d3f7bd06aa8d4688a721530fca0df5ac",
       "version_major": 2,
       "version_minor": 0
      },
      "text/plain": [
       "Processing Dates:   0%|          | 0/60 [00:00<?, ?it/s]"
      ]
     },
     "metadata": {},
     "output_type": "display_data"
    },
    {
     "data": {
      "application/vnd.jupyter.widget-view+json": {
       "model_id": "d6d0572115c648a8bf3c1d4492cf8a16",
       "version_major": 2,
       "version_minor": 0
      },
      "text/plain": [
       "Processing Dates:   0%|          | 0/60 [00:00<?, ?it/s]"
      ]
     },
     "metadata": {},
     "output_type": "display_data"
    },
    {
     "data": {
      "application/vnd.jupyter.widget-view+json": {
       "model_id": "9d63d71207114c44855598a20e35f68c",
       "version_major": 2,
       "version_minor": 0
      },
      "text/plain": [
       "Processing Dates:   0%|          | 0/60 [00:00<?, ?it/s]"
      ]
     },
     "metadata": {},
     "output_type": "display_data"
    },
    {
     "data": {
      "application/vnd.jupyter.widget-view+json": {
       "model_id": "23edea5a3f9c485993c0476b22d10b8f",
       "version_major": 2,
       "version_minor": 0
      },
      "text/plain": [
       "Processing Dates:   0%|          | 0/60 [00:00<?, ?it/s]"
      ]
     },
     "metadata": {},
     "output_type": "display_data"
    },
    {
     "data": {
      "application/vnd.jupyter.widget-view+json": {
       "model_id": "61642a1e2c044068814e63a1404e3e00",
       "version_major": 2,
       "version_minor": 0
      },
      "text/plain": [
       "Processing Dates:   0%|          | 0/60 [00:00<?, ?it/s]"
      ]
     },
     "metadata": {},
     "output_type": "display_data"
    },
    {
     "data": {
      "application/vnd.jupyter.widget-view+json": {
       "model_id": "134b9775a0c24e1a80ffbbdedcc89277",
       "version_major": 2,
       "version_minor": 0
      },
      "text/plain": [
       "Processing Commodities:   0%|          | 0/8 [00:00<?, ?it/s]"
      ]
     },
     "metadata": {},
     "output_type": "display_data"
    },
    {
     "data": {
      "application/vnd.jupyter.widget-view+json": {
       "model_id": "3cd7bf3299bc4affa63487a3d2e271cc",
       "version_major": 2,
       "version_minor": 0
      },
      "text/plain": [
       "Processing Dates:   0%|          | 0/60 [00:00<?, ?it/s]"
      ]
     },
     "metadata": {},
     "output_type": "display_data"
    },
    {
     "data": {
      "application/vnd.jupyter.widget-view+json": {
       "model_id": "5d7c361a5ac14eff9fa01a2b89fdf262",
       "version_major": 2,
       "version_minor": 0
      },
      "text/plain": [
       "Processing Dates:   0%|          | 0/60 [00:00<?, ?it/s]"
      ]
     },
     "metadata": {},
     "output_type": "display_data"
    },
    {
     "data": {
      "application/vnd.jupyter.widget-view+json": {
       "model_id": "b90165728bae4d619a285219aa46d5d3",
       "version_major": 2,
       "version_minor": 0
      },
      "text/plain": [
       "Processing Dates:   0%|          | 0/60 [00:00<?, ?it/s]"
      ]
     },
     "metadata": {},
     "output_type": "display_data"
    },
    {
     "data": {
      "application/vnd.jupyter.widget-view+json": {
       "model_id": "4ca7887a6c3c424ca3d00a9b07dd98dc",
       "version_major": 2,
       "version_minor": 0
      },
      "text/plain": [
       "Processing Dates:   0%|          | 0/60 [00:00<?, ?it/s]"
      ]
     },
     "metadata": {},
     "output_type": "display_data"
    },
    {
     "data": {
      "application/vnd.jupyter.widget-view+json": {
       "model_id": "a422c9a4401f43c69f87dfd8e9e12618",
       "version_major": 2,
       "version_minor": 0
      },
      "text/plain": [
       "Processing Dates:   0%|          | 0/60 [00:00<?, ?it/s]"
      ]
     },
     "metadata": {},
     "output_type": "display_data"
    },
    {
     "data": {
      "application/vnd.jupyter.widget-view+json": {
       "model_id": "629ab70f20a142b7a74cdaf6d7818a34",
       "version_major": 2,
       "version_minor": 0
      },
      "text/plain": [
       "Processing Dates:   0%|          | 0/60 [00:00<?, ?it/s]"
      ]
     },
     "metadata": {},
     "output_type": "display_data"
    },
    {
     "data": {
      "application/vnd.jupyter.widget-view+json": {
       "model_id": "c56637a264574541ac767d17615695bc",
       "version_major": 2,
       "version_minor": 0
      },
      "text/plain": [
       "Processing Dates:   0%|          | 0/60 [00:00<?, ?it/s]"
      ]
     },
     "metadata": {},
     "output_type": "display_data"
    },
    {
     "data": {
      "application/vnd.jupyter.widget-view+json": {
       "model_id": "93c2653368a94d0997b8f0f8a5471b53",
       "version_major": 2,
       "version_minor": 0
      },
      "text/plain": [
       "Processing Dates:   0%|          | 0/60 [00:00<?, ?it/s]"
      ]
     },
     "metadata": {},
     "output_type": "display_data"
    },
    {
     "data": {
      "application/vnd.jupyter.widget-view+json": {
       "model_id": "f859479c84154deeadb709ae3959fa8e",
       "version_major": 2,
       "version_minor": 0
      },
      "text/plain": [
       "Processing Commodities:   0%|          | 0/8 [00:00<?, ?it/s]"
      ]
     },
     "metadata": {},
     "output_type": "display_data"
    },
    {
     "data": {
      "application/vnd.jupyter.widget-view+json": {
       "model_id": "2518a141975c4e3689d300610363e531",
       "version_major": 2,
       "version_minor": 0
      },
      "text/plain": [
       "Processing Dates:   0%|          | 0/60 [00:00<?, ?it/s]"
      ]
     },
     "metadata": {},
     "output_type": "display_data"
    },
    {
     "data": {
      "application/vnd.jupyter.widget-view+json": {
       "model_id": "4a648fff34c8401bb1b5f714b5882adb",
       "version_major": 2,
       "version_minor": 0
      },
      "text/plain": [
       "Processing Dates:   0%|          | 0/60 [00:00<?, ?it/s]"
      ]
     },
     "metadata": {},
     "output_type": "display_data"
    },
    {
     "data": {
      "application/vnd.jupyter.widget-view+json": {
       "model_id": "43906e424e50411eaa9a56795fdfd5f5",
       "version_major": 2,
       "version_minor": 0
      },
      "text/plain": [
       "Processing Dates:   0%|          | 0/60 [00:00<?, ?it/s]"
      ]
     },
     "metadata": {},
     "output_type": "display_data"
    },
    {
     "data": {
      "application/vnd.jupyter.widget-view+json": {
       "model_id": "09408ee169bc49d1a883f69d1c8d4a85",
       "version_major": 2,
       "version_minor": 0
      },
      "text/plain": [
       "Processing Dates:   0%|          | 0/60 [00:00<?, ?it/s]"
      ]
     },
     "metadata": {},
     "output_type": "display_data"
    },
    {
     "data": {
      "application/vnd.jupyter.widget-view+json": {
       "model_id": "015be5eee1ff43b792fb4d4c74fa244a",
       "version_major": 2,
       "version_minor": 0
      },
      "text/plain": [
       "Processing Dates:   0%|          | 0/60 [00:00<?, ?it/s]"
      ]
     },
     "metadata": {},
     "output_type": "display_data"
    },
    {
     "data": {
      "application/vnd.jupyter.widget-view+json": {
       "model_id": "353fbd32b4d94972a7c429e449be473f",
       "version_major": 2,
       "version_minor": 0
      },
      "text/plain": [
       "Processing Dates:   0%|          | 0/60 [00:00<?, ?it/s]"
      ]
     },
     "metadata": {},
     "output_type": "display_data"
    },
    {
     "data": {
      "application/vnd.jupyter.widget-view+json": {
       "model_id": "50586cb326874308b0a1d54867488188",
       "version_major": 2,
       "version_minor": 0
      },
      "text/plain": [
       "Processing Dates:   0%|          | 0/60 [00:00<?, ?it/s]"
      ]
     },
     "metadata": {},
     "output_type": "display_data"
    },
    {
     "data": {
      "application/vnd.jupyter.widget-view+json": {
       "model_id": "c5e1359c03b44fcea350f655718d719d",
       "version_major": 2,
       "version_minor": 0
      },
      "text/plain": [
       "Processing Dates:   0%|          | 0/60 [00:00<?, ?it/s]"
      ]
     },
     "metadata": {},
     "output_type": "display_data"
    },
    {
     "data": {
      "application/vnd.jupyter.widget-view+json": {
       "model_id": "a8e2bd2b546a4e2bb0eadec5f247a50d",
       "version_major": 2,
       "version_minor": 0
      },
      "text/plain": [
       "Processing Commodities:   0%|          | 0/8 [00:00<?, ?it/s]"
      ]
     },
     "metadata": {},
     "output_type": "display_data"
    },
    {
     "data": {
      "application/vnd.jupyter.widget-view+json": {
       "model_id": "21dbec5e935a43399f24f71a88419fbe",
       "version_major": 2,
       "version_minor": 0
      },
      "text/plain": [
       "Processing Dates:   0%|          | 0/60 [00:00<?, ?it/s]"
      ]
     },
     "metadata": {},
     "output_type": "display_data"
    },
    {
     "data": {
      "application/vnd.jupyter.widget-view+json": {
       "model_id": "182031e059ea4d29a657e6db9ac606a5",
       "version_major": 2,
       "version_minor": 0
      },
      "text/plain": [
       "Processing Dates:   0%|          | 0/60 [00:00<?, ?it/s]"
      ]
     },
     "metadata": {},
     "output_type": "display_data"
    },
    {
     "data": {
      "application/vnd.jupyter.widget-view+json": {
       "model_id": "8db85c08177f4f0d8a10a3ce8d15c6bb",
       "version_major": 2,
       "version_minor": 0
      },
      "text/plain": [
       "Processing Dates:   0%|          | 0/60 [00:00<?, ?it/s]"
      ]
     },
     "metadata": {},
     "output_type": "display_data"
    },
    {
     "data": {
      "application/vnd.jupyter.widget-view+json": {
       "model_id": "d54d16742cb6493b921c290f87674e92",
       "version_major": 2,
       "version_minor": 0
      },
      "text/plain": [
       "Processing Dates:   0%|          | 0/60 [00:00<?, ?it/s]"
      ]
     },
     "metadata": {},
     "output_type": "display_data"
    },
    {
     "data": {
      "application/vnd.jupyter.widget-view+json": {
       "model_id": "ae8762a46044486dba45a05f5afb7626",
       "version_major": 2,
       "version_minor": 0
      },
      "text/plain": [
       "Processing Dates:   0%|          | 0/60 [00:00<?, ?it/s]"
      ]
     },
     "metadata": {},
     "output_type": "display_data"
    },
    {
     "data": {
      "application/vnd.jupyter.widget-view+json": {
       "model_id": "c2a6ec27cc1945d58bb1b99d5f6b8ccf",
       "version_major": 2,
       "version_minor": 0
      },
      "text/plain": [
       "Processing Dates:   0%|          | 0/60 [00:00<?, ?it/s]"
      ]
     },
     "metadata": {},
     "output_type": "display_data"
    },
    {
     "data": {
      "application/vnd.jupyter.widget-view+json": {
       "model_id": "f3e908b8e9e34831a29f3a42867be3c6",
       "version_major": 2,
       "version_minor": 0
      },
      "text/plain": [
       "Processing Dates:   0%|          | 0/60 [00:00<?, ?it/s]"
      ]
     },
     "metadata": {},
     "output_type": "display_data"
    },
    {
     "data": {
      "application/vnd.jupyter.widget-view+json": {
       "model_id": "d4ad430f07dc4b62963c12ebfca73d84",
       "version_major": 2,
       "version_minor": 0
      },
      "text/plain": [
       "Processing Dates:   0%|          | 0/60 [00:00<?, ?it/s]"
      ]
     },
     "metadata": {},
     "output_type": "display_data"
    },
    {
     "data": {
      "application/vnd.jupyter.widget-view+json": {
       "model_id": "a1ac12608de14b9f96376bb6ac4a10d1",
       "version_major": 2,
       "version_minor": 0
      },
      "text/plain": [
       "Processing Commodities:   0%|          | 0/8 [00:00<?, ?it/s]"
      ]
     },
     "metadata": {},
     "output_type": "display_data"
    },
    {
     "data": {
      "application/vnd.jupyter.widget-view+json": {
       "model_id": "36faa04be4d246148c4f4d809e963fd6",
       "version_major": 2,
       "version_minor": 0
      },
      "text/plain": [
       "Processing Dates:   0%|          | 0/60 [00:00<?, ?it/s]"
      ]
     },
     "metadata": {},
     "output_type": "display_data"
    },
    {
     "data": {
      "application/vnd.jupyter.widget-view+json": {
       "model_id": "6a6da372080546fa90ae59f456a8858e",
       "version_major": 2,
       "version_minor": 0
      },
      "text/plain": [
       "Processing Dates:   0%|          | 0/60 [00:00<?, ?it/s]"
      ]
     },
     "metadata": {},
     "output_type": "display_data"
    },
    {
     "data": {
      "application/vnd.jupyter.widget-view+json": {
       "model_id": "718d1fd03b2b4bd5b4b38857667e7a4b",
       "version_major": 2,
       "version_minor": 0
      },
      "text/plain": [
       "Processing Dates:   0%|          | 0/60 [00:00<?, ?it/s]"
      ]
     },
     "metadata": {},
     "output_type": "display_data"
    },
    {
     "data": {
      "application/vnd.jupyter.widget-view+json": {
       "model_id": "ee847d5efcdb421292b1e43fd7429ca0",
       "version_major": 2,
       "version_minor": 0
      },
      "text/plain": [
       "Processing Dates:   0%|          | 0/60 [00:00<?, ?it/s]"
      ]
     },
     "metadata": {},
     "output_type": "display_data"
    },
    {
     "data": {
      "application/vnd.jupyter.widget-view+json": {
       "model_id": "d39cf1b2562f4f289c0a420b6b29b9d5",
       "version_major": 2,
       "version_minor": 0
      },
      "text/plain": [
       "Processing Dates:   0%|          | 0/60 [00:00<?, ?it/s]"
      ]
     },
     "metadata": {},
     "output_type": "display_data"
    },
    {
     "data": {
      "application/vnd.jupyter.widget-view+json": {
       "model_id": "5defc6ad57eb4607b8865048a09c1302",
       "version_major": 2,
       "version_minor": 0
      },
      "text/plain": [
       "Processing Dates:   0%|          | 0/60 [00:00<?, ?it/s]"
      ]
     },
     "metadata": {},
     "output_type": "display_data"
    },
    {
     "data": {
      "application/vnd.jupyter.widget-view+json": {
       "model_id": "b066fc956e864533b2ce0b8ece6602e3",
       "version_major": 2,
       "version_minor": 0
      },
      "text/plain": [
       "Processing Dates:   0%|          | 0/60 [00:00<?, ?it/s]"
      ]
     },
     "metadata": {},
     "output_type": "display_data"
    },
    {
     "data": {
      "application/vnd.jupyter.widget-view+json": {
       "model_id": "5c5c2cab1ded4429af0f0c2c71bf0cb1",
       "version_major": 2,
       "version_minor": 0
      },
      "text/plain": [
       "Processing Dates:   0%|          | 0/60 [00:00<?, ?it/s]"
      ]
     },
     "metadata": {},
     "output_type": "display_data"
    },
    {
     "data": {
      "application/vnd.jupyter.widget-view+json": {
       "model_id": "806bd841cc19450dbac14f54f63b3734",
       "version_major": 2,
       "version_minor": 0
      },
      "text/plain": [
       "Processing Commodities:   0%|          | 0/8 [00:00<?, ?it/s]"
      ]
     },
     "metadata": {},
     "output_type": "display_data"
    },
    {
     "data": {
      "application/vnd.jupyter.widget-view+json": {
       "model_id": "e62ac1d168a340d183cf77adc56aceb8",
       "version_major": 2,
       "version_minor": 0
      },
      "text/plain": [
       "Processing Dates:   0%|          | 0/60 [00:00<?, ?it/s]"
      ]
     },
     "metadata": {},
     "output_type": "display_data"
    },
    {
     "data": {
      "application/vnd.jupyter.widget-view+json": {
       "model_id": "ee5eb612adcd4b879e41ef3040b537bb",
       "version_major": 2,
       "version_minor": 0
      },
      "text/plain": [
       "Processing Dates:   0%|          | 0/60 [00:00<?, ?it/s]"
      ]
     },
     "metadata": {},
     "output_type": "display_data"
    },
    {
     "data": {
      "application/vnd.jupyter.widget-view+json": {
       "model_id": "e71d17371fa342c88cc6ac36ef1b54d8",
       "version_major": 2,
       "version_minor": 0
      },
      "text/plain": [
       "Processing Dates:   0%|          | 0/60 [00:00<?, ?it/s]"
      ]
     },
     "metadata": {},
     "output_type": "display_data"
    },
    {
     "data": {
      "application/vnd.jupyter.widget-view+json": {
       "model_id": "f4fd3a2a721c43b395571f7619f84e88",
       "version_major": 2,
       "version_minor": 0
      },
      "text/plain": [
       "Processing Dates:   0%|          | 0/60 [00:00<?, ?it/s]"
      ]
     },
     "metadata": {},
     "output_type": "display_data"
    },
    {
     "data": {
      "application/vnd.jupyter.widget-view+json": {
       "model_id": "76aa3e0a69864445a127e5d17a0c1a4d",
       "version_major": 2,
       "version_minor": 0
      },
      "text/plain": [
       "Processing Dates:   0%|          | 0/60 [00:00<?, ?it/s]"
      ]
     },
     "metadata": {},
     "output_type": "display_data"
    },
    {
     "data": {
      "application/vnd.jupyter.widget-view+json": {
       "model_id": "a28b3f395ed84f71b4bdbe28a6997656",
       "version_major": 2,
       "version_minor": 0
      },
      "text/plain": [
       "Processing Dates:   0%|          | 0/60 [00:00<?, ?it/s]"
      ]
     },
     "metadata": {},
     "output_type": "display_data"
    },
    {
     "data": {
      "application/vnd.jupyter.widget-view+json": {
       "model_id": "4ee4ee3950af4bbea14016d644ca5e99",
       "version_major": 2,
       "version_minor": 0
      },
      "text/plain": [
       "Processing Dates:   0%|          | 0/60 [00:00<?, ?it/s]"
      ]
     },
     "metadata": {},
     "output_type": "display_data"
    },
    {
     "data": {
      "application/vnd.jupyter.widget-view+json": {
       "model_id": "865ea37719d2411580c0beb60fe4d5dd",
       "version_major": 2,
       "version_minor": 0
      },
      "text/plain": [
       "Processing Dates:   0%|          | 0/60 [00:00<?, ?it/s]"
      ]
     },
     "metadata": {},
     "output_type": "display_data"
    },
    {
     "data": {
      "application/vnd.jupyter.widget-view+json": {
       "model_id": "07af9af790f04b9ca4809eba23e35986",
       "version_major": 2,
       "version_minor": 0
      },
      "text/plain": [
       "Processing Commodities:   0%|          | 0/8 [00:00<?, ?it/s]"
      ]
     },
     "metadata": {},
     "output_type": "display_data"
    },
    {
     "data": {
      "application/vnd.jupyter.widget-view+json": {
       "model_id": "783a073e42e84989a83424b73cc92781",
       "version_major": 2,
       "version_minor": 0
      },
      "text/plain": [
       "Processing Dates:   0%|          | 0/60 [00:00<?, ?it/s]"
      ]
     },
     "metadata": {},
     "output_type": "display_data"
    },
    {
     "data": {
      "application/vnd.jupyter.widget-view+json": {
       "model_id": "b4593afb317349f58ac95f27a7f51d4d",
       "version_major": 2,
       "version_minor": 0
      },
      "text/plain": [
       "Processing Dates:   0%|          | 0/60 [00:00<?, ?it/s]"
      ]
     },
     "metadata": {},
     "output_type": "display_data"
    },
    {
     "data": {
      "application/vnd.jupyter.widget-view+json": {
       "model_id": "0b361dffaf224fd599fed11199c2c8e4",
       "version_major": 2,
       "version_minor": 0
      },
      "text/plain": [
       "Processing Dates:   0%|          | 0/60 [00:00<?, ?it/s]"
      ]
     },
     "metadata": {},
     "output_type": "display_data"
    },
    {
     "data": {
      "application/vnd.jupyter.widget-view+json": {
       "model_id": "538d03394eaf4c5bb105ac54646540d5",
       "version_major": 2,
       "version_minor": 0
      },
      "text/plain": [
       "Processing Dates:   0%|          | 0/60 [00:00<?, ?it/s]"
      ]
     },
     "metadata": {},
     "output_type": "display_data"
    },
    {
     "data": {
      "application/vnd.jupyter.widget-view+json": {
       "model_id": "1773d45527de4849910d3a663fc2aefd",
       "version_major": 2,
       "version_minor": 0
      },
      "text/plain": [
       "Processing Dates:   0%|          | 0/60 [00:00<?, ?it/s]"
      ]
     },
     "metadata": {},
     "output_type": "display_data"
    },
    {
     "data": {
      "application/vnd.jupyter.widget-view+json": {
       "model_id": "c1c4e26369704695bb19eb2460c5a608",
       "version_major": 2,
       "version_minor": 0
      },
      "text/plain": [
       "Processing Dates:   0%|          | 0/60 [00:00<?, ?it/s]"
      ]
     },
     "metadata": {},
     "output_type": "display_data"
    },
    {
     "data": {
      "application/vnd.jupyter.widget-view+json": {
       "model_id": "683fba603c5945b79535ec81a1fb5ed6",
       "version_major": 2,
       "version_minor": 0
      },
      "text/plain": [
       "Processing Dates:   0%|          | 0/60 [00:00<?, ?it/s]"
      ]
     },
     "metadata": {},
     "output_type": "display_data"
    },
    {
     "data": {
      "application/vnd.jupyter.widget-view+json": {
       "model_id": "ca922406bff249e7b16f94634f069b8b",
       "version_major": 2,
       "version_minor": 0
      },
      "text/plain": [
       "Processing Dates:   0%|          | 0/60 [00:00<?, ?it/s]"
      ]
     },
     "metadata": {},
     "output_type": "display_data"
    },
    {
     "data": {
      "application/vnd.jupyter.widget-view+json": {
       "model_id": "822d42defb7e42289e63344d860b22ac",
       "version_major": 2,
       "version_minor": 0
      },
      "text/plain": [
       "Processing Commodities:   0%|          | 0/8 [00:00<?, ?it/s]"
      ]
     },
     "metadata": {},
     "output_type": "display_data"
    },
    {
     "data": {
      "application/vnd.jupyter.widget-view+json": {
       "model_id": "27d754b301eb4d99bf48129c449fb185",
       "version_major": 2,
       "version_minor": 0
      },
      "text/plain": [
       "Processing Dates:   0%|          | 0/60 [00:00<?, ?it/s]"
      ]
     },
     "metadata": {},
     "output_type": "display_data"
    },
    {
     "data": {
      "application/vnd.jupyter.widget-view+json": {
       "model_id": "e48853e9fb624e2c86a8377996a082f1",
       "version_major": 2,
       "version_minor": 0
      },
      "text/plain": [
       "Processing Dates:   0%|          | 0/60 [00:00<?, ?it/s]"
      ]
     },
     "metadata": {},
     "output_type": "display_data"
    },
    {
     "data": {
      "application/vnd.jupyter.widget-view+json": {
       "model_id": "c4d67bb081a240ca890e18cb7d7e2fdc",
       "version_major": 2,
       "version_minor": 0
      },
      "text/plain": [
       "Processing Dates:   0%|          | 0/60 [00:00<?, ?it/s]"
      ]
     },
     "metadata": {},
     "output_type": "display_data"
    },
    {
     "data": {
      "application/vnd.jupyter.widget-view+json": {
       "model_id": "0684d4ed092b434294d17cd892ed4862",
       "version_major": 2,
       "version_minor": 0
      },
      "text/plain": [
       "Processing Dates:   0%|          | 0/60 [00:00<?, ?it/s]"
      ]
     },
     "metadata": {},
     "output_type": "display_data"
    },
    {
     "data": {
      "application/vnd.jupyter.widget-view+json": {
       "model_id": "390cc0baad984733ac1a96df088edd41",
       "version_major": 2,
       "version_minor": 0
      },
      "text/plain": [
       "Processing Dates:   0%|          | 0/60 [00:00<?, ?it/s]"
      ]
     },
     "metadata": {},
     "output_type": "display_data"
    },
    {
     "data": {
      "application/vnd.jupyter.widget-view+json": {
       "model_id": "41912ffdaefe4446b4a1ccb2245f06e1",
       "version_major": 2,
       "version_minor": 0
      },
      "text/plain": [
       "Processing Dates:   0%|          | 0/60 [00:00<?, ?it/s]"
      ]
     },
     "metadata": {},
     "output_type": "display_data"
    },
    {
     "data": {
      "application/vnd.jupyter.widget-view+json": {
       "model_id": "8d19963543824c6caeb5b70dd39fcaa8",
       "version_major": 2,
       "version_minor": 0
      },
      "text/plain": [
       "Processing Dates:   0%|          | 0/60 [00:00<?, ?it/s]"
      ]
     },
     "metadata": {},
     "output_type": "display_data"
    },
    {
     "data": {
      "application/vnd.jupyter.widget-view+json": {
       "model_id": "3d9b5bbb4a684c3f9c02de1eff1fce0a",
       "version_major": 2,
       "version_minor": 0
      },
      "text/plain": [
       "Processing Dates:   0%|          | 0/60 [00:00<?, ?it/s]"
      ]
     },
     "metadata": {},
     "output_type": "display_data"
    },
    {
     "data": {
      "application/vnd.jupyter.widget-view+json": {
       "model_id": "b2d6426d686f43058fccd1f0bf8a8d1d",
       "version_major": 2,
       "version_minor": 0
      },
      "text/plain": [
       "Processing Commodities:   0%|          | 0/8 [00:00<?, ?it/s]"
      ]
     },
     "metadata": {},
     "output_type": "display_data"
    },
    {
     "data": {
      "application/vnd.jupyter.widget-view+json": {
       "model_id": "bc8afa973d464b36bf0a1ad3d93feea0",
       "version_major": 2,
       "version_minor": 0
      },
      "text/plain": [
       "Processing Dates:   0%|          | 0/60 [00:00<?, ?it/s]"
      ]
     },
     "metadata": {},
     "output_type": "display_data"
    },
    {
     "data": {
      "application/vnd.jupyter.widget-view+json": {
       "model_id": "e42f63e0b566429ea18f7f61e24d738e",
       "version_major": 2,
       "version_minor": 0
      },
      "text/plain": [
       "Processing Dates:   0%|          | 0/60 [00:00<?, ?it/s]"
      ]
     },
     "metadata": {},
     "output_type": "display_data"
    },
    {
     "data": {
      "application/vnd.jupyter.widget-view+json": {
       "model_id": "0e21881b329f44f1ac02b183ab4181ef",
       "version_major": 2,
       "version_minor": 0
      },
      "text/plain": [
       "Processing Dates:   0%|          | 0/60 [00:00<?, ?it/s]"
      ]
     },
     "metadata": {},
     "output_type": "display_data"
    },
    {
     "data": {
      "application/vnd.jupyter.widget-view+json": {
       "model_id": "94381cc46cb44cabba4ae918e9908e4e",
       "version_major": 2,
       "version_minor": 0
      },
      "text/plain": [
       "Processing Dates:   0%|          | 0/60 [00:00<?, ?it/s]"
      ]
     },
     "metadata": {},
     "output_type": "display_data"
    },
    {
     "data": {
      "application/vnd.jupyter.widget-view+json": {
       "model_id": "70caf8b394ce4293a36f2cb2d29ab511",
       "version_major": 2,
       "version_minor": 0
      },
      "text/plain": [
       "Processing Dates:   0%|          | 0/60 [00:00<?, ?it/s]"
      ]
     },
     "metadata": {},
     "output_type": "display_data"
    },
    {
     "data": {
      "application/vnd.jupyter.widget-view+json": {
       "model_id": "650f044c20de4a9fa286d3686ce7e85f",
       "version_major": 2,
       "version_minor": 0
      },
      "text/plain": [
       "Processing Dates:   0%|          | 0/60 [00:00<?, ?it/s]"
      ]
     },
     "metadata": {},
     "output_type": "display_data"
    },
    {
     "data": {
      "application/vnd.jupyter.widget-view+json": {
       "model_id": "dfaed1b5d9f84b0e9ad141ad098cbf28",
       "version_major": 2,
       "version_minor": 0
      },
      "text/plain": [
       "Processing Dates:   0%|          | 0/60 [00:00<?, ?it/s]"
      ]
     },
     "metadata": {},
     "output_type": "display_data"
    },
    {
     "data": {
      "application/vnd.jupyter.widget-view+json": {
       "model_id": "92302805f9be429c8b177e70a873637b",
       "version_major": 2,
       "version_minor": 0
      },
      "text/plain": [
       "Processing Dates:   0%|          | 0/60 [00:00<?, ?it/s]"
      ]
     },
     "metadata": {},
     "output_type": "display_data"
    },
    {
     "data": {
      "application/vnd.jupyter.widget-view+json": {
       "model_id": "0ae12e9c09c240de9e8bc8a396e3f057",
       "version_major": 2,
       "version_minor": 0
      },
      "text/plain": [
       "Processing Commodities:   0%|          | 0/8 [00:00<?, ?it/s]"
      ]
     },
     "metadata": {},
     "output_type": "display_data"
    },
    {
     "data": {
      "application/vnd.jupyter.widget-view+json": {
       "model_id": "198cc2f03ab643de96da83fad90c4381",
       "version_major": 2,
       "version_minor": 0
      },
      "text/plain": [
       "Processing Dates:   0%|          | 0/60 [00:00<?, ?it/s]"
      ]
     },
     "metadata": {},
     "output_type": "display_data"
    },
    {
     "data": {
      "application/vnd.jupyter.widget-view+json": {
       "model_id": "54c42b4f67b34dc0aac316209a366c75",
       "version_major": 2,
       "version_minor": 0
      },
      "text/plain": [
       "Processing Dates:   0%|          | 0/60 [00:00<?, ?it/s]"
      ]
     },
     "metadata": {},
     "output_type": "display_data"
    },
    {
     "data": {
      "application/vnd.jupyter.widget-view+json": {
       "model_id": "fea5bd3ed59d4d26a6c8de01c2bbd5ee",
       "version_major": 2,
       "version_minor": 0
      },
      "text/plain": [
       "Processing Dates:   0%|          | 0/60 [00:00<?, ?it/s]"
      ]
     },
     "metadata": {},
     "output_type": "display_data"
    },
    {
     "data": {
      "application/vnd.jupyter.widget-view+json": {
       "model_id": "bf6ee18af7114a2493f806f45e8206d3",
       "version_major": 2,
       "version_minor": 0
      },
      "text/plain": [
       "Processing Dates:   0%|          | 0/60 [00:00<?, ?it/s]"
      ]
     },
     "metadata": {},
     "output_type": "display_data"
    },
    {
     "data": {
      "application/vnd.jupyter.widget-view+json": {
       "model_id": "a7fdfbc806f740a88a9829e8671925ea",
       "version_major": 2,
       "version_minor": 0
      },
      "text/plain": [
       "Processing Dates:   0%|          | 0/60 [00:00<?, ?it/s]"
      ]
     },
     "metadata": {},
     "output_type": "display_data"
    },
    {
     "data": {
      "application/vnd.jupyter.widget-view+json": {
       "model_id": "dfad0a6079334c24955c69ebe2a7b640",
       "version_major": 2,
       "version_minor": 0
      },
      "text/plain": [
       "Processing Dates:   0%|          | 0/60 [00:00<?, ?it/s]"
      ]
     },
     "metadata": {},
     "output_type": "display_data"
    },
    {
     "data": {
      "application/vnd.jupyter.widget-view+json": {
       "model_id": "b7a27bbcc0ca4eeb808b6aa6ad5eed59",
       "version_major": 2,
       "version_minor": 0
      },
      "text/plain": [
       "Processing Dates:   0%|          | 0/60 [00:00<?, ?it/s]"
      ]
     },
     "metadata": {},
     "output_type": "display_data"
    },
    {
     "data": {
      "application/vnd.jupyter.widget-view+json": {
       "model_id": "4cd66e80c1844ecc90525a82f217b455",
       "version_major": 2,
       "version_minor": 0
      },
      "text/plain": [
       "Processing Dates:   0%|          | 0/60 [00:00<?, ?it/s]"
      ]
     },
     "metadata": {},
     "output_type": "display_data"
    },
    {
     "data": {
      "application/vnd.jupyter.widget-view+json": {
       "model_id": "2c912a5c64d04a1da5ee76f29823f2f7",
       "version_major": 2,
       "version_minor": 0
      },
      "text/plain": [
       "Processing Commodities:   0%|          | 0/8 [00:00<?, ?it/s]"
      ]
     },
     "metadata": {},
     "output_type": "display_data"
    },
    {
     "data": {
      "application/vnd.jupyter.widget-view+json": {
       "model_id": "f0589b7248fb4f28831b12a739faf142",
       "version_major": 2,
       "version_minor": 0
      },
      "text/plain": [
       "Processing Dates:   0%|          | 0/60 [00:00<?, ?it/s]"
      ]
     },
     "metadata": {},
     "output_type": "display_data"
    },
    {
     "data": {
      "application/vnd.jupyter.widget-view+json": {
       "model_id": "a8a63f919df24328a1cbcf71f9b64db8",
       "version_major": 2,
       "version_minor": 0
      },
      "text/plain": [
       "Processing Dates:   0%|          | 0/60 [00:00<?, ?it/s]"
      ]
     },
     "metadata": {},
     "output_type": "display_data"
    },
    {
     "data": {
      "application/vnd.jupyter.widget-view+json": {
       "model_id": "65fdf139f5a2470b9762073601b085a0",
       "version_major": 2,
       "version_minor": 0
      },
      "text/plain": [
       "Processing Dates:   0%|          | 0/60 [00:00<?, ?it/s]"
      ]
     },
     "metadata": {},
     "output_type": "display_data"
    },
    {
     "data": {
      "application/vnd.jupyter.widget-view+json": {
       "model_id": "eb5efd30c8f34ce5ba9dc2d4abf13893",
       "version_major": 2,
       "version_minor": 0
      },
      "text/plain": [
       "Processing Dates:   0%|          | 0/60 [00:00<?, ?it/s]"
      ]
     },
     "metadata": {},
     "output_type": "display_data"
    },
    {
     "data": {
      "application/vnd.jupyter.widget-view+json": {
       "model_id": "41a85486fefe4c77991ee2e9c54c5cc6",
       "version_major": 2,
       "version_minor": 0
      },
      "text/plain": [
       "Processing Dates:   0%|          | 0/60 [00:00<?, ?it/s]"
      ]
     },
     "metadata": {},
     "output_type": "display_data"
    },
    {
     "data": {
      "application/vnd.jupyter.widget-view+json": {
       "model_id": "9eb1fff7d5794966869641eb29a1b416",
       "version_major": 2,
       "version_minor": 0
      },
      "text/plain": [
       "Processing Dates:   0%|          | 0/60 [00:00<?, ?it/s]"
      ]
     },
     "metadata": {},
     "output_type": "display_data"
    },
    {
     "data": {
      "application/vnd.jupyter.widget-view+json": {
       "model_id": "5d25a48de9754e4ca00b9feb8c2b3a36",
       "version_major": 2,
       "version_minor": 0
      },
      "text/plain": [
       "Processing Dates:   0%|          | 0/60 [00:00<?, ?it/s]"
      ]
     },
     "metadata": {},
     "output_type": "display_data"
    },
    {
     "data": {
      "application/vnd.jupyter.widget-view+json": {
       "model_id": "f71a6faadfb04f41a986d6c158f71b36",
       "version_major": 2,
       "version_minor": 0
      },
      "text/plain": [
       "Processing Dates:   0%|          | 0/60 [00:00<?, ?it/s]"
      ]
     },
     "metadata": {},
     "output_type": "display_data"
    },
    {
     "data": {
      "application/vnd.jupyter.widget-view+json": {
       "model_id": "e8b7adaf0f2d46c681179b9a97419853",
       "version_major": 2,
       "version_minor": 0
      },
      "text/plain": [
       "Processing Commodities:   0%|          | 0/8 [00:00<?, ?it/s]"
      ]
     },
     "metadata": {},
     "output_type": "display_data"
    },
    {
     "data": {
      "application/vnd.jupyter.widget-view+json": {
       "model_id": "ced7ca5b5c6a4dcbad6e2e49a6c4a089",
       "version_major": 2,
       "version_minor": 0
      },
      "text/plain": [
       "Processing Dates:   0%|          | 0/60 [00:00<?, ?it/s]"
      ]
     },
     "metadata": {},
     "output_type": "display_data"
    },
    {
     "data": {
      "application/vnd.jupyter.widget-view+json": {
       "model_id": "d573734790934a8f90b79c79ad23f4f2",
       "version_major": 2,
       "version_minor": 0
      },
      "text/plain": [
       "Processing Dates:   0%|          | 0/60 [00:00<?, ?it/s]"
      ]
     },
     "metadata": {},
     "output_type": "display_data"
    },
    {
     "data": {
      "application/vnd.jupyter.widget-view+json": {
       "model_id": "02af110ee1b0473a95a659e110108d01",
       "version_major": 2,
       "version_minor": 0
      },
      "text/plain": [
       "Processing Dates:   0%|          | 0/60 [00:00<?, ?it/s]"
      ]
     },
     "metadata": {},
     "output_type": "display_data"
    },
    {
     "data": {
      "application/vnd.jupyter.widget-view+json": {
       "model_id": "fdb391cc7ed34de1b289a813d86878fc",
       "version_major": 2,
       "version_minor": 0
      },
      "text/plain": [
       "Processing Dates:   0%|          | 0/60 [00:00<?, ?it/s]"
      ]
     },
     "metadata": {},
     "output_type": "display_data"
    },
    {
     "data": {
      "application/vnd.jupyter.widget-view+json": {
       "model_id": "3de75b093ec34f94ad450a66c8f5b690",
       "version_major": 2,
       "version_minor": 0
      },
      "text/plain": [
       "Processing Dates:   0%|          | 0/60 [00:00<?, ?it/s]"
      ]
     },
     "metadata": {},
     "output_type": "display_data"
    },
    {
     "data": {
      "application/vnd.jupyter.widget-view+json": {
       "model_id": "e8666329622a4824a913aa7bb3d52193",
       "version_major": 2,
       "version_minor": 0
      },
      "text/plain": [
       "Processing Dates:   0%|          | 0/60 [00:00<?, ?it/s]"
      ]
     },
     "metadata": {},
     "output_type": "display_data"
    },
    {
     "data": {
      "application/vnd.jupyter.widget-view+json": {
       "model_id": "6ca05fd443904d7585650fa3af882e50",
       "version_major": 2,
       "version_minor": 0
      },
      "text/plain": [
       "Processing Dates:   0%|          | 0/60 [00:00<?, ?it/s]"
      ]
     },
     "metadata": {},
     "output_type": "display_data"
    },
    {
     "data": {
      "application/vnd.jupyter.widget-view+json": {
       "model_id": "f0350be242ff4755badcf2b72efe9db5",
       "version_major": 2,
       "version_minor": 0
      },
      "text/plain": [
       "Processing Dates:   0%|          | 0/60 [00:00<?, ?it/s]"
      ]
     },
     "metadata": {},
     "output_type": "display_data"
    },
    {
     "data": {
      "application/vnd.jupyter.widget-view+json": {
       "model_id": "078d3d0d986a492592a6cdc37df40160",
       "version_major": 2,
       "version_minor": 0
      },
      "text/plain": [
       "Processing Commodities:   0%|          | 0/8 [00:00<?, ?it/s]"
      ]
     },
     "metadata": {},
     "output_type": "display_data"
    },
    {
     "data": {
      "application/vnd.jupyter.widget-view+json": {
       "model_id": "1a40b6b8d2ff41a7ab26fec9255453d0",
       "version_major": 2,
       "version_minor": 0
      },
      "text/plain": [
       "Processing Dates:   0%|          | 0/60 [00:00<?, ?it/s]"
      ]
     },
     "metadata": {},
     "output_type": "display_data"
    },
    {
     "data": {
      "application/vnd.jupyter.widget-view+json": {
       "model_id": "5d481864efb94b4fbe51ce27dff5e940",
       "version_major": 2,
       "version_minor": 0
      },
      "text/plain": [
       "Processing Dates:   0%|          | 0/60 [00:00<?, ?it/s]"
      ]
     },
     "metadata": {},
     "output_type": "display_data"
    },
    {
     "data": {
      "application/vnd.jupyter.widget-view+json": {
       "model_id": "fc08ebdf26994aacbf5efcb763af0c3e",
       "version_major": 2,
       "version_minor": 0
      },
      "text/plain": [
       "Processing Dates:   0%|          | 0/60 [00:00<?, ?it/s]"
      ]
     },
     "metadata": {},
     "output_type": "display_data"
    },
    {
     "data": {
      "application/vnd.jupyter.widget-view+json": {
       "model_id": "c02a2665625b4130bf9ef9611e8dbdc0",
       "version_major": 2,
       "version_minor": 0
      },
      "text/plain": [
       "Processing Dates:   0%|          | 0/60 [00:00<?, ?it/s]"
      ]
     },
     "metadata": {},
     "output_type": "display_data"
    },
    {
     "data": {
      "application/vnd.jupyter.widget-view+json": {
       "model_id": "9225e0efcccf438e9b10456853214989",
       "version_major": 2,
       "version_minor": 0
      },
      "text/plain": [
       "Processing Dates:   0%|          | 0/60 [00:00<?, ?it/s]"
      ]
     },
     "metadata": {},
     "output_type": "display_data"
    },
    {
     "data": {
      "application/vnd.jupyter.widget-view+json": {
       "model_id": "705518353e28479a9c7f2d408d32b74d",
       "version_major": 2,
       "version_minor": 0
      },
      "text/plain": [
       "Processing Dates:   0%|          | 0/60 [00:00<?, ?it/s]"
      ]
     },
     "metadata": {},
     "output_type": "display_data"
    },
    {
     "data": {
      "application/vnd.jupyter.widget-view+json": {
       "model_id": "f86e1cb94d4e4e4c8ee31d141ae467a4",
       "version_major": 2,
       "version_minor": 0
      },
      "text/plain": [
       "Processing Dates:   0%|          | 0/60 [00:00<?, ?it/s]"
      ]
     },
     "metadata": {},
     "output_type": "display_data"
    },
    {
     "data": {
      "application/vnd.jupyter.widget-view+json": {
       "model_id": "70e10aaed0d54da0aca13bd908f9d5cc",
       "version_major": 2,
       "version_minor": 0
      },
      "text/plain": [
       "Processing Dates:   0%|          | 0/60 [00:00<?, ?it/s]"
      ]
     },
     "metadata": {},
     "output_type": "display_data"
    },
    {
     "data": {
      "application/vnd.jupyter.widget-view+json": {
       "model_id": "6d11833868e948d29c409c82a59b219d",
       "version_major": 2,
       "version_minor": 0
      },
      "text/plain": [
       "Processing Regions:   0%|          | 0/14 [00:00<?, ?it/s]"
      ]
     },
     "metadata": {},
     "output_type": "display_data"
    },
    {
     "data": {
      "application/vnd.jupyter.widget-view+json": {
       "model_id": "e7443519fd03415a951b26e26756e029",
       "version_major": 2,
       "version_minor": 0
      },
      "text/plain": [
       "Processing Commodities:   0%|          | 0/8 [00:00<?, ?it/s]"
      ]
     },
     "metadata": {},
     "output_type": "display_data"
    },
    {
     "data": {
      "application/vnd.jupyter.widget-view+json": {
       "model_id": "6cc5e30ec02f4238ab248512efa06f60",
       "version_major": 2,
       "version_minor": 0
      },
      "text/plain": [
       "Processing Dates:   0%|          | 0/60 [00:00<?, ?it/s]"
      ]
     },
     "metadata": {},
     "output_type": "display_data"
    },
    {
     "data": {
      "application/vnd.jupyter.widget-view+json": {
       "model_id": "0fb15982dd434e7a8614efadd1871d2f",
       "version_major": 2,
       "version_minor": 0
      },
      "text/plain": [
       "Processing Dates:   0%|          | 0/60 [00:00<?, ?it/s]"
      ]
     },
     "metadata": {},
     "output_type": "display_data"
    },
    {
     "data": {
      "application/vnd.jupyter.widget-view+json": {
       "model_id": "d7f74a193c504d83b09fb954663bd7e7",
       "version_major": 2,
       "version_minor": 0
      },
      "text/plain": [
       "Processing Dates:   0%|          | 0/60 [00:00<?, ?it/s]"
      ]
     },
     "metadata": {},
     "output_type": "display_data"
    },
    {
     "data": {
      "application/vnd.jupyter.widget-view+json": {
       "model_id": "53b6947e3f934e0b9f8e854cfee18530",
       "version_major": 2,
       "version_minor": 0
      },
      "text/plain": [
       "Processing Dates:   0%|          | 0/60 [00:00<?, ?it/s]"
      ]
     },
     "metadata": {},
     "output_type": "display_data"
    },
    {
     "data": {
      "application/vnd.jupyter.widget-view+json": {
       "model_id": "2a746c5710954762a230224b28a0e972",
       "version_major": 2,
       "version_minor": 0
      },
      "text/plain": [
       "Processing Dates:   0%|          | 0/60 [00:00<?, ?it/s]"
      ]
     },
     "metadata": {},
     "output_type": "display_data"
    },
    {
     "data": {
      "application/vnd.jupyter.widget-view+json": {
       "model_id": "777d5e91a5d5495e9db7c1bbed50788f",
       "version_major": 2,
       "version_minor": 0
      },
      "text/plain": [
       "Processing Dates:   0%|          | 0/60 [00:00<?, ?it/s]"
      ]
     },
     "metadata": {},
     "output_type": "display_data"
    },
    {
     "data": {
      "application/vnd.jupyter.widget-view+json": {
       "model_id": "bfb4373744464937bc1fe160d1d34a1e",
       "version_major": 2,
       "version_minor": 0
      },
      "text/plain": [
       "Processing Dates:   0%|          | 0/60 [00:00<?, ?it/s]"
      ]
     },
     "metadata": {},
     "output_type": "display_data"
    },
    {
     "data": {
      "application/vnd.jupyter.widget-view+json": {
       "model_id": "713105e06231498ba14d79ead5f30252",
       "version_major": 2,
       "version_minor": 0
      },
      "text/plain": [
       "Processing Dates:   0%|          | 0/60 [00:00<?, ?it/s]"
      ]
     },
     "metadata": {},
     "output_type": "display_data"
    },
    {
     "data": {
      "application/vnd.jupyter.widget-view+json": {
       "model_id": "94464f120dba4e3293d3dede8fc151fd",
       "version_major": 2,
       "version_minor": 0
      },
      "text/plain": [
       "Processing Commodities:   0%|          | 0/8 [00:00<?, ?it/s]"
      ]
     },
     "metadata": {},
     "output_type": "display_data"
    },
    {
     "data": {
      "application/vnd.jupyter.widget-view+json": {
       "model_id": "04b4102fb87a4a299b882884d2ef1376",
       "version_major": 2,
       "version_minor": 0
      },
      "text/plain": [
       "Processing Dates:   0%|          | 0/60 [00:00<?, ?it/s]"
      ]
     },
     "metadata": {},
     "output_type": "display_data"
    },
    {
     "data": {
      "application/vnd.jupyter.widget-view+json": {
       "model_id": "8f946bdfdd15454f9c3bf688a442efa2",
       "version_major": 2,
       "version_minor": 0
      },
      "text/plain": [
       "Processing Dates:   0%|          | 0/60 [00:00<?, ?it/s]"
      ]
     },
     "metadata": {},
     "output_type": "display_data"
    },
    {
     "data": {
      "application/vnd.jupyter.widget-view+json": {
       "model_id": "8190a2e3badb49bb8dfe141dcbbf9f0c",
       "version_major": 2,
       "version_minor": 0
      },
      "text/plain": [
       "Processing Dates:   0%|          | 0/60 [00:00<?, ?it/s]"
      ]
     },
     "metadata": {},
     "output_type": "display_data"
    },
    {
     "data": {
      "application/vnd.jupyter.widget-view+json": {
       "model_id": "0defdf6997f3417d8507d5ae6805719b",
       "version_major": 2,
       "version_minor": 0
      },
      "text/plain": [
       "Processing Dates:   0%|          | 0/60 [00:00<?, ?it/s]"
      ]
     },
     "metadata": {},
     "output_type": "display_data"
    },
    {
     "data": {
      "application/vnd.jupyter.widget-view+json": {
       "model_id": "99b4889ef71f4c64adde85454e384c8a",
       "version_major": 2,
       "version_minor": 0
      },
      "text/plain": [
       "Processing Dates:   0%|          | 0/60 [00:00<?, ?it/s]"
      ]
     },
     "metadata": {},
     "output_type": "display_data"
    },
    {
     "data": {
      "application/vnd.jupyter.widget-view+json": {
       "model_id": "f62bb1cd28854845ba52d60651150aa4",
       "version_major": 2,
       "version_minor": 0
      },
      "text/plain": [
       "Processing Dates:   0%|          | 0/60 [00:00<?, ?it/s]"
      ]
     },
     "metadata": {},
     "output_type": "display_data"
    },
    {
     "data": {
      "application/vnd.jupyter.widget-view+json": {
       "model_id": "8e01375e91c7405aa162e6008e5be49c",
       "version_major": 2,
       "version_minor": 0
      },
      "text/plain": [
       "Processing Dates:   0%|          | 0/60 [00:00<?, ?it/s]"
      ]
     },
     "metadata": {},
     "output_type": "display_data"
    },
    {
     "data": {
      "application/vnd.jupyter.widget-view+json": {
       "model_id": "65e30491e61646c49d9842b1f3cfb6da",
       "version_major": 2,
       "version_minor": 0
      },
      "text/plain": [
       "Processing Dates:   0%|          | 0/60 [00:00<?, ?it/s]"
      ]
     },
     "metadata": {},
     "output_type": "display_data"
    },
    {
     "data": {
      "application/vnd.jupyter.widget-view+json": {
       "model_id": "f87ab4b7968e452398ef97c5a542e6b0",
       "version_major": 2,
       "version_minor": 0
      },
      "text/plain": [
       "Processing Commodities:   0%|          | 0/8 [00:00<?, ?it/s]"
      ]
     },
     "metadata": {},
     "output_type": "display_data"
    },
    {
     "data": {
      "application/vnd.jupyter.widget-view+json": {
       "model_id": "3856ec583a99418589f60186d0f055ab",
       "version_major": 2,
       "version_minor": 0
      },
      "text/plain": [
       "Processing Dates:   0%|          | 0/60 [00:00<?, ?it/s]"
      ]
     },
     "metadata": {},
     "output_type": "display_data"
    },
    {
     "data": {
      "application/vnd.jupyter.widget-view+json": {
       "model_id": "e2944a186c2d479b83370d4a67d4f538",
       "version_major": 2,
       "version_minor": 0
      },
      "text/plain": [
       "Processing Dates:   0%|          | 0/60 [00:00<?, ?it/s]"
      ]
     },
     "metadata": {},
     "output_type": "display_data"
    },
    {
     "data": {
      "application/vnd.jupyter.widget-view+json": {
       "model_id": "45e5827b2f1b425b88006b7abfcda074",
       "version_major": 2,
       "version_minor": 0
      },
      "text/plain": [
       "Processing Dates:   0%|          | 0/60 [00:00<?, ?it/s]"
      ]
     },
     "metadata": {},
     "output_type": "display_data"
    },
    {
     "data": {
      "application/vnd.jupyter.widget-view+json": {
       "model_id": "934c771a041d489faf538fb66ccf34ed",
       "version_major": 2,
       "version_minor": 0
      },
      "text/plain": [
       "Processing Dates:   0%|          | 0/60 [00:00<?, ?it/s]"
      ]
     },
     "metadata": {},
     "output_type": "display_data"
    },
    {
     "data": {
      "application/vnd.jupyter.widget-view+json": {
       "model_id": "b627fa586c714573a2240678108d3b88",
       "version_major": 2,
       "version_minor": 0
      },
      "text/plain": [
       "Processing Dates:   0%|          | 0/60 [00:00<?, ?it/s]"
      ]
     },
     "metadata": {},
     "output_type": "display_data"
    },
    {
     "data": {
      "application/vnd.jupyter.widget-view+json": {
       "model_id": "ecb13862c63b46b69bd3ed9d03f9f242",
       "version_major": 2,
       "version_minor": 0
      },
      "text/plain": [
       "Processing Dates:   0%|          | 0/60 [00:00<?, ?it/s]"
      ]
     },
     "metadata": {},
     "output_type": "display_data"
    },
    {
     "data": {
      "application/vnd.jupyter.widget-view+json": {
       "model_id": "e36bd677c4334ca38b21ea9eee85fadf",
       "version_major": 2,
       "version_minor": 0
      },
      "text/plain": [
       "Processing Dates:   0%|          | 0/60 [00:00<?, ?it/s]"
      ]
     },
     "metadata": {},
     "output_type": "display_data"
    },
    {
     "data": {
      "application/vnd.jupyter.widget-view+json": {
       "model_id": "80261a2e39b9442e9c94e72da81c7001",
       "version_major": 2,
       "version_minor": 0
      },
      "text/plain": [
       "Processing Dates:   0%|          | 0/60 [00:00<?, ?it/s]"
      ]
     },
     "metadata": {},
     "output_type": "display_data"
    },
    {
     "data": {
      "application/vnd.jupyter.widget-view+json": {
       "model_id": "16347091daa049dca2b6b522bfdb8ff0",
       "version_major": 2,
       "version_minor": 0
      },
      "text/plain": [
       "Processing Commodities:   0%|          | 0/8 [00:00<?, ?it/s]"
      ]
     },
     "metadata": {},
     "output_type": "display_data"
    },
    {
     "data": {
      "application/vnd.jupyter.widget-view+json": {
       "model_id": "598b76bdd1564285af96e3a17e68c8b6",
       "version_major": 2,
       "version_minor": 0
      },
      "text/plain": [
       "Processing Dates:   0%|          | 0/60 [00:00<?, ?it/s]"
      ]
     },
     "metadata": {},
     "output_type": "display_data"
    },
    {
     "data": {
      "application/vnd.jupyter.widget-view+json": {
       "model_id": "96aa5989f4d74e1ebe72879d12d035fb",
       "version_major": 2,
       "version_minor": 0
      },
      "text/plain": [
       "Processing Dates:   0%|          | 0/60 [00:00<?, ?it/s]"
      ]
     },
     "metadata": {},
     "output_type": "display_data"
    },
    {
     "data": {
      "application/vnd.jupyter.widget-view+json": {
       "model_id": "d32acd2dfce9458ea8b13242a3e45f72",
       "version_major": 2,
       "version_minor": 0
      },
      "text/plain": [
       "Processing Dates:   0%|          | 0/60 [00:00<?, ?it/s]"
      ]
     },
     "metadata": {},
     "output_type": "display_data"
    },
    {
     "data": {
      "application/vnd.jupyter.widget-view+json": {
       "model_id": "e7b56abde30646bb9bdd63151f895e1d",
       "version_major": 2,
       "version_minor": 0
      },
      "text/plain": [
       "Processing Dates:   0%|          | 0/60 [00:00<?, ?it/s]"
      ]
     },
     "metadata": {},
     "output_type": "display_data"
    },
    {
     "data": {
      "application/vnd.jupyter.widget-view+json": {
       "model_id": "e346310c976147799585c62785138e46",
       "version_major": 2,
       "version_minor": 0
      },
      "text/plain": [
       "Processing Dates:   0%|          | 0/60 [00:00<?, ?it/s]"
      ]
     },
     "metadata": {},
     "output_type": "display_data"
    },
    {
     "data": {
      "application/vnd.jupyter.widget-view+json": {
       "model_id": "d345c2b2034b41fabae21f9e62bec08d",
       "version_major": 2,
       "version_minor": 0
      },
      "text/plain": [
       "Processing Dates:   0%|          | 0/60 [00:00<?, ?it/s]"
      ]
     },
     "metadata": {},
     "output_type": "display_data"
    },
    {
     "data": {
      "application/vnd.jupyter.widget-view+json": {
       "model_id": "2006984ad6904fda839b6468aae09341",
       "version_major": 2,
       "version_minor": 0
      },
      "text/plain": [
       "Processing Dates:   0%|          | 0/60 [00:00<?, ?it/s]"
      ]
     },
     "metadata": {},
     "output_type": "display_data"
    },
    {
     "data": {
      "application/vnd.jupyter.widget-view+json": {
       "model_id": "b440496ca5da4d1280e518f6a0b9a694",
       "version_major": 2,
       "version_minor": 0
      },
      "text/plain": [
       "Processing Dates:   0%|          | 0/60 [00:00<?, ?it/s]"
      ]
     },
     "metadata": {},
     "output_type": "display_data"
    },
    {
     "data": {
      "application/vnd.jupyter.widget-view+json": {
       "model_id": "730f62f148e74107a642de91fff6bb04",
       "version_major": 2,
       "version_minor": 0
      },
      "text/plain": [
       "Processing Commodities:   0%|          | 0/8 [00:00<?, ?it/s]"
      ]
     },
     "metadata": {},
     "output_type": "display_data"
    },
    {
     "data": {
      "application/vnd.jupyter.widget-view+json": {
       "model_id": "0fabdad04a844ebf8457d1ce8fea1054",
       "version_major": 2,
       "version_minor": 0
      },
      "text/plain": [
       "Processing Dates:   0%|          | 0/60 [00:00<?, ?it/s]"
      ]
     },
     "metadata": {},
     "output_type": "display_data"
    },
    {
     "data": {
      "application/vnd.jupyter.widget-view+json": {
       "model_id": "8602e240c4514dd68880b921485880ad",
       "version_major": 2,
       "version_minor": 0
      },
      "text/plain": [
       "Processing Dates:   0%|          | 0/60 [00:00<?, ?it/s]"
      ]
     },
     "metadata": {},
     "output_type": "display_data"
    },
    {
     "data": {
      "application/vnd.jupyter.widget-view+json": {
       "model_id": "99237ebf118c413c88e8de500792f4c7",
       "version_major": 2,
       "version_minor": 0
      },
      "text/plain": [
       "Processing Dates:   0%|          | 0/60 [00:00<?, ?it/s]"
      ]
     },
     "metadata": {},
     "output_type": "display_data"
    },
    {
     "data": {
      "application/vnd.jupyter.widget-view+json": {
       "model_id": "5f32b22e163a4508b420262ce78a9e14",
       "version_major": 2,
       "version_minor": 0
      },
      "text/plain": [
       "Processing Dates:   0%|          | 0/60 [00:00<?, ?it/s]"
      ]
     },
     "metadata": {},
     "output_type": "display_data"
    },
    {
     "data": {
      "application/vnd.jupyter.widget-view+json": {
       "model_id": "c684d351bb394315b6e82047050278b9",
       "version_major": 2,
       "version_minor": 0
      },
      "text/plain": [
       "Processing Dates:   0%|          | 0/60 [00:00<?, ?it/s]"
      ]
     },
     "metadata": {},
     "output_type": "display_data"
    },
    {
     "data": {
      "application/vnd.jupyter.widget-view+json": {
       "model_id": "3a8ea0945d4f4596bc819c4bde1052c7",
       "version_major": 2,
       "version_minor": 0
      },
      "text/plain": [
       "Processing Dates:   0%|          | 0/60 [00:00<?, ?it/s]"
      ]
     },
     "metadata": {},
     "output_type": "display_data"
    },
    {
     "data": {
      "application/vnd.jupyter.widget-view+json": {
       "model_id": "1074eebe4757457b9ea906fa1a302e31",
       "version_major": 2,
       "version_minor": 0
      },
      "text/plain": [
       "Processing Dates:   0%|          | 0/60 [00:00<?, ?it/s]"
      ]
     },
     "metadata": {},
     "output_type": "display_data"
    },
    {
     "data": {
      "application/vnd.jupyter.widget-view+json": {
       "model_id": "695fe3a7c7ec456d8ca7a0ec65c02998",
       "version_major": 2,
       "version_minor": 0
      },
      "text/plain": [
       "Processing Dates:   0%|          | 0/60 [00:00<?, ?it/s]"
      ]
     },
     "metadata": {},
     "output_type": "display_data"
    },
    {
     "data": {
      "application/vnd.jupyter.widget-view+json": {
       "model_id": "d76e9fc31d994c7d82b8bf9e51afe11d",
       "version_major": 2,
       "version_minor": 0
      },
      "text/plain": [
       "Processing Commodities:   0%|          | 0/8 [00:00<?, ?it/s]"
      ]
     },
     "metadata": {},
     "output_type": "display_data"
    },
    {
     "data": {
      "application/vnd.jupyter.widget-view+json": {
       "model_id": "8f90db094a9e4778b6fdda340ac3e231",
       "version_major": 2,
       "version_minor": 0
      },
      "text/plain": [
       "Processing Dates:   0%|          | 0/60 [00:00<?, ?it/s]"
      ]
     },
     "metadata": {},
     "output_type": "display_data"
    },
    {
     "data": {
      "application/vnd.jupyter.widget-view+json": {
       "model_id": "ed4a6cf8001a4b4dbaccb03202c155b2",
       "version_major": 2,
       "version_minor": 0
      },
      "text/plain": [
       "Processing Dates:   0%|          | 0/60 [00:00<?, ?it/s]"
      ]
     },
     "metadata": {},
     "output_type": "display_data"
    },
    {
     "data": {
      "application/vnd.jupyter.widget-view+json": {
       "model_id": "fd87ce716a974731954b767cabe7ba82",
       "version_major": 2,
       "version_minor": 0
      },
      "text/plain": [
       "Processing Dates:   0%|          | 0/60 [00:00<?, ?it/s]"
      ]
     },
     "metadata": {},
     "output_type": "display_data"
    },
    {
     "data": {
      "application/vnd.jupyter.widget-view+json": {
       "model_id": "4ec0b46fe8af4b4a8d1c24118dc4108a",
       "version_major": 2,
       "version_minor": 0
      },
      "text/plain": [
       "Processing Dates:   0%|          | 0/60 [00:00<?, ?it/s]"
      ]
     },
     "metadata": {},
     "output_type": "display_data"
    },
    {
     "data": {
      "application/vnd.jupyter.widget-view+json": {
       "model_id": "0173238dcd9b4b02958bd1667cebffda",
       "version_major": 2,
       "version_minor": 0
      },
      "text/plain": [
       "Processing Dates:   0%|          | 0/60 [00:00<?, ?it/s]"
      ]
     },
     "metadata": {},
     "output_type": "display_data"
    },
    {
     "data": {
      "application/vnd.jupyter.widget-view+json": {
       "model_id": "7260d1780c56459d9908b27e2a4f9f69",
       "version_major": 2,
       "version_minor": 0
      },
      "text/plain": [
       "Processing Dates:   0%|          | 0/60 [00:00<?, ?it/s]"
      ]
     },
     "metadata": {},
     "output_type": "display_data"
    },
    {
     "data": {
      "application/vnd.jupyter.widget-view+json": {
       "model_id": "c96d50154c5641abaddd5ea562e1cb1d",
       "version_major": 2,
       "version_minor": 0
      },
      "text/plain": [
       "Processing Dates:   0%|          | 0/60 [00:00<?, ?it/s]"
      ]
     },
     "metadata": {},
     "output_type": "display_data"
    },
    {
     "data": {
      "application/vnd.jupyter.widget-view+json": {
       "model_id": "c5be44722bc94c7996d2319069c8d3d3",
       "version_major": 2,
       "version_minor": 0
      },
      "text/plain": [
       "Processing Dates:   0%|          | 0/60 [00:00<?, ?it/s]"
      ]
     },
     "metadata": {},
     "output_type": "display_data"
    },
    {
     "data": {
      "application/vnd.jupyter.widget-view+json": {
       "model_id": "331de8fa47d04cdfac57154c192a2b0d",
       "version_major": 2,
       "version_minor": 0
      },
      "text/plain": [
       "Processing Commodities:   0%|          | 0/8 [00:00<?, ?it/s]"
      ]
     },
     "metadata": {},
     "output_type": "display_data"
    },
    {
     "data": {
      "application/vnd.jupyter.widget-view+json": {
       "model_id": "eb165cfe9c9541d0bff5b0f373e0dfb5",
       "version_major": 2,
       "version_minor": 0
      },
      "text/plain": [
       "Processing Dates:   0%|          | 0/60 [00:00<?, ?it/s]"
      ]
     },
     "metadata": {},
     "output_type": "display_data"
    },
    {
     "data": {
      "application/vnd.jupyter.widget-view+json": {
       "model_id": "66085da743dd48ada2ed9ca4a9301218",
       "version_major": 2,
       "version_minor": 0
      },
      "text/plain": [
       "Processing Dates:   0%|          | 0/60 [00:00<?, ?it/s]"
      ]
     },
     "metadata": {},
     "output_type": "display_data"
    },
    {
     "data": {
      "application/vnd.jupyter.widget-view+json": {
       "model_id": "0f3318f7c6154b62bedb47acaea3b67a",
       "version_major": 2,
       "version_minor": 0
      },
      "text/plain": [
       "Processing Dates:   0%|          | 0/60 [00:00<?, ?it/s]"
      ]
     },
     "metadata": {},
     "output_type": "display_data"
    },
    {
     "data": {
      "application/vnd.jupyter.widget-view+json": {
       "model_id": "b19f807e880b4fd58a11915b25428962",
       "version_major": 2,
       "version_minor": 0
      },
      "text/plain": [
       "Processing Dates:   0%|          | 0/60 [00:00<?, ?it/s]"
      ]
     },
     "metadata": {},
     "output_type": "display_data"
    },
    {
     "data": {
      "application/vnd.jupyter.widget-view+json": {
       "model_id": "b72b87a2d930433188901bc37438cad5",
       "version_major": 2,
       "version_minor": 0
      },
      "text/plain": [
       "Processing Dates:   0%|          | 0/60 [00:00<?, ?it/s]"
      ]
     },
     "metadata": {},
     "output_type": "display_data"
    },
    {
     "data": {
      "application/vnd.jupyter.widget-view+json": {
       "model_id": "46142fdd896346fcad05d31f54b8d1d8",
       "version_major": 2,
       "version_minor": 0
      },
      "text/plain": [
       "Processing Dates:   0%|          | 0/60 [00:00<?, ?it/s]"
      ]
     },
     "metadata": {},
     "output_type": "display_data"
    },
    {
     "data": {
      "application/vnd.jupyter.widget-view+json": {
       "model_id": "d67a19f34ddd4edf9b8fe406a9dd28af",
       "version_major": 2,
       "version_minor": 0
      },
      "text/plain": [
       "Processing Dates:   0%|          | 0/60 [00:00<?, ?it/s]"
      ]
     },
     "metadata": {},
     "output_type": "display_data"
    },
    {
     "data": {
      "application/vnd.jupyter.widget-view+json": {
       "model_id": "5c4d192037f54f30938fd6e8faf8f0a8",
       "version_major": 2,
       "version_minor": 0
      },
      "text/plain": [
       "Processing Dates:   0%|          | 0/60 [00:00<?, ?it/s]"
      ]
     },
     "metadata": {},
     "output_type": "display_data"
    },
    {
     "data": {
      "application/vnd.jupyter.widget-view+json": {
       "model_id": "c6c98bb38f9c45659f78773ba3315065",
       "version_major": 2,
       "version_minor": 0
      },
      "text/plain": [
       "Processing Commodities:   0%|          | 0/8 [00:00<?, ?it/s]"
      ]
     },
     "metadata": {},
     "output_type": "display_data"
    },
    {
     "data": {
      "application/vnd.jupyter.widget-view+json": {
       "model_id": "f353b5077aa84da3a1fa8ec32a579f52",
       "version_major": 2,
       "version_minor": 0
      },
      "text/plain": [
       "Processing Dates:   0%|          | 0/60 [00:00<?, ?it/s]"
      ]
     },
     "metadata": {},
     "output_type": "display_data"
    },
    {
     "data": {
      "application/vnd.jupyter.widget-view+json": {
       "model_id": "7b4ad2c954ac4682bdbe04a3a2bf55ce",
       "version_major": 2,
       "version_minor": 0
      },
      "text/plain": [
       "Processing Dates:   0%|          | 0/60 [00:00<?, ?it/s]"
      ]
     },
     "metadata": {},
     "output_type": "display_data"
    },
    {
     "data": {
      "application/vnd.jupyter.widget-view+json": {
       "model_id": "0fc2abd05c254b4dad4b92e948f7fcc0",
       "version_major": 2,
       "version_minor": 0
      },
      "text/plain": [
       "Processing Dates:   0%|          | 0/60 [00:00<?, ?it/s]"
      ]
     },
     "metadata": {},
     "output_type": "display_data"
    },
    {
     "data": {
      "application/vnd.jupyter.widget-view+json": {
       "model_id": "575954b6c6f44f28882d2b3488b9d530",
       "version_major": 2,
       "version_minor": 0
      },
      "text/plain": [
       "Processing Dates:   0%|          | 0/60 [00:00<?, ?it/s]"
      ]
     },
     "metadata": {},
     "output_type": "display_data"
    },
    {
     "data": {
      "application/vnd.jupyter.widget-view+json": {
       "model_id": "3397d8dddefa45e2ad19b92c6da6a56f",
       "version_major": 2,
       "version_minor": 0
      },
      "text/plain": [
       "Processing Dates:   0%|          | 0/60 [00:00<?, ?it/s]"
      ]
     },
     "metadata": {},
     "output_type": "display_data"
    },
    {
     "data": {
      "application/vnd.jupyter.widget-view+json": {
       "model_id": "8487f468fffc48ea811ff765e4e879ba",
       "version_major": 2,
       "version_minor": 0
      },
      "text/plain": [
       "Processing Dates:   0%|          | 0/60 [00:00<?, ?it/s]"
      ]
     },
     "metadata": {},
     "output_type": "display_data"
    },
    {
     "data": {
      "application/vnd.jupyter.widget-view+json": {
       "model_id": "7e816dd1db3d4fda94cba2d7a11acad4",
       "version_major": 2,
       "version_minor": 0
      },
      "text/plain": [
       "Processing Dates:   0%|          | 0/60 [00:00<?, ?it/s]"
      ]
     },
     "metadata": {},
     "output_type": "display_data"
    },
    {
     "data": {
      "application/vnd.jupyter.widget-view+json": {
       "model_id": "0a73c564e7554530ae46a9f481527691",
       "version_major": 2,
       "version_minor": 0
      },
      "text/plain": [
       "Processing Dates:   0%|          | 0/60 [00:00<?, ?it/s]"
      ]
     },
     "metadata": {},
     "output_type": "display_data"
    },
    {
     "data": {
      "application/vnd.jupyter.widget-view+json": {
       "model_id": "279bfa71f0ed4ebfa2645c1f7199732c",
       "version_major": 2,
       "version_minor": 0
      },
      "text/plain": [
       "Processing Commodities:   0%|          | 0/8 [00:00<?, ?it/s]"
      ]
     },
     "metadata": {},
     "output_type": "display_data"
    },
    {
     "data": {
      "application/vnd.jupyter.widget-view+json": {
       "model_id": "80225de2066a4eccb0858452e44ec068",
       "version_major": 2,
       "version_minor": 0
      },
      "text/plain": [
       "Processing Dates:   0%|          | 0/60 [00:00<?, ?it/s]"
      ]
     },
     "metadata": {},
     "output_type": "display_data"
    },
    {
     "data": {
      "application/vnd.jupyter.widget-view+json": {
       "model_id": "0e2d311b0e504742a517f8011dec01d9",
       "version_major": 2,
       "version_minor": 0
      },
      "text/plain": [
       "Processing Dates:   0%|          | 0/60 [00:00<?, ?it/s]"
      ]
     },
     "metadata": {},
     "output_type": "display_data"
    },
    {
     "data": {
      "application/vnd.jupyter.widget-view+json": {
       "model_id": "d403b8769d7e459dbce701b9dd74ee9e",
       "version_major": 2,
       "version_minor": 0
      },
      "text/plain": [
       "Processing Dates:   0%|          | 0/60 [00:00<?, ?it/s]"
      ]
     },
     "metadata": {},
     "output_type": "display_data"
    },
    {
     "data": {
      "application/vnd.jupyter.widget-view+json": {
       "model_id": "b7769e02f7734582a04161f2f0e490ca",
       "version_major": 2,
       "version_minor": 0
      },
      "text/plain": [
       "Processing Dates:   0%|          | 0/60 [00:00<?, ?it/s]"
      ]
     },
     "metadata": {},
     "output_type": "display_data"
    },
    {
     "data": {
      "application/vnd.jupyter.widget-view+json": {
       "model_id": "11a7731a33224146bdc647bc4ed1e912",
       "version_major": 2,
       "version_minor": 0
      },
      "text/plain": [
       "Processing Dates:   0%|          | 0/60 [00:00<?, ?it/s]"
      ]
     },
     "metadata": {},
     "output_type": "display_data"
    },
    {
     "data": {
      "application/vnd.jupyter.widget-view+json": {
       "model_id": "6b45671d6ad94f06a446236efdccf030",
       "version_major": 2,
       "version_minor": 0
      },
      "text/plain": [
       "Processing Dates:   0%|          | 0/60 [00:00<?, ?it/s]"
      ]
     },
     "metadata": {},
     "output_type": "display_data"
    },
    {
     "data": {
      "application/vnd.jupyter.widget-view+json": {
       "model_id": "f075099db7464c66a63dbbc1e665a75b",
       "version_major": 2,
       "version_minor": 0
      },
      "text/plain": [
       "Processing Dates:   0%|          | 0/60 [00:00<?, ?it/s]"
      ]
     },
     "metadata": {},
     "output_type": "display_data"
    },
    {
     "data": {
      "application/vnd.jupyter.widget-view+json": {
       "model_id": "7212c5fa8e2046968af82e855a37e995",
       "version_major": 2,
       "version_minor": 0
      },
      "text/plain": [
       "Processing Dates:   0%|          | 0/60 [00:00<?, ?it/s]"
      ]
     },
     "metadata": {},
     "output_type": "display_data"
    },
    {
     "data": {
      "application/vnd.jupyter.widget-view+json": {
       "model_id": "3584737877df46f8b4db7f0ed013ed1f",
       "version_major": 2,
       "version_minor": 0
      },
      "text/plain": [
       "Processing Commodities:   0%|          | 0/8 [00:00<?, ?it/s]"
      ]
     },
     "metadata": {},
     "output_type": "display_data"
    },
    {
     "data": {
      "application/vnd.jupyter.widget-view+json": {
       "model_id": "fa040ebe29d44c20a219daef4a1b2704",
       "version_major": 2,
       "version_minor": 0
      },
      "text/plain": [
       "Processing Dates:   0%|          | 0/60 [00:00<?, ?it/s]"
      ]
     },
     "metadata": {},
     "output_type": "display_data"
    },
    {
     "data": {
      "application/vnd.jupyter.widget-view+json": {
       "model_id": "1f4e48cba09a4a139eb76b7a3a145f98",
       "version_major": 2,
       "version_minor": 0
      },
      "text/plain": [
       "Processing Dates:   0%|          | 0/60 [00:00<?, ?it/s]"
      ]
     },
     "metadata": {},
     "output_type": "display_data"
    },
    {
     "data": {
      "application/vnd.jupyter.widget-view+json": {
       "model_id": "07360bd763be4f60bee97e6ade6680b3",
       "version_major": 2,
       "version_minor": 0
      },
      "text/plain": [
       "Processing Dates:   0%|          | 0/60 [00:00<?, ?it/s]"
      ]
     },
     "metadata": {},
     "output_type": "display_data"
    },
    {
     "data": {
      "application/vnd.jupyter.widget-view+json": {
       "model_id": "9b91ca82479443528067a26c1e6abd56",
       "version_major": 2,
       "version_minor": 0
      },
      "text/plain": [
       "Processing Dates:   0%|          | 0/60 [00:00<?, ?it/s]"
      ]
     },
     "metadata": {},
     "output_type": "display_data"
    },
    {
     "data": {
      "application/vnd.jupyter.widget-view+json": {
       "model_id": "9b2de906f8fc4027bc94b6c55fdd1b7e",
       "version_major": 2,
       "version_minor": 0
      },
      "text/plain": [
       "Processing Dates:   0%|          | 0/60 [00:00<?, ?it/s]"
      ]
     },
     "metadata": {},
     "output_type": "display_data"
    },
    {
     "data": {
      "application/vnd.jupyter.widget-view+json": {
       "model_id": "7f4a1cf82723434ebd3e363b738b4c66",
       "version_major": 2,
       "version_minor": 0
      },
      "text/plain": [
       "Processing Dates:   0%|          | 0/60 [00:00<?, ?it/s]"
      ]
     },
     "metadata": {},
     "output_type": "display_data"
    },
    {
     "data": {
      "application/vnd.jupyter.widget-view+json": {
       "model_id": "e6d2b5fd021444a1b5290c80929cfe76",
       "version_major": 2,
       "version_minor": 0
      },
      "text/plain": [
       "Processing Dates:   0%|          | 0/60 [00:00<?, ?it/s]"
      ]
     },
     "metadata": {},
     "output_type": "display_data"
    },
    {
     "data": {
      "application/vnd.jupyter.widget-view+json": {
       "model_id": "6316441b2b3b44e58413b27ebff6bbe9",
       "version_major": 2,
       "version_minor": 0
      },
      "text/plain": [
       "Processing Dates:   0%|          | 0/60 [00:00<?, ?it/s]"
      ]
     },
     "metadata": {},
     "output_type": "display_data"
    },
    {
     "data": {
      "application/vnd.jupyter.widget-view+json": {
       "model_id": "7bb9d5d00ce94d7288180ccf6ea69a62",
       "version_major": 2,
       "version_minor": 0
      },
      "text/plain": [
       "Processing Commodities:   0%|          | 0/8 [00:00<?, ?it/s]"
      ]
     },
     "metadata": {},
     "output_type": "display_data"
    },
    {
     "data": {
      "application/vnd.jupyter.widget-view+json": {
       "model_id": "5296c91700fb48af8812bc93b7a8b91f",
       "version_major": 2,
       "version_minor": 0
      },
      "text/plain": [
       "Processing Dates:   0%|          | 0/60 [00:00<?, ?it/s]"
      ]
     },
     "metadata": {},
     "output_type": "display_data"
    },
    {
     "data": {
      "application/vnd.jupyter.widget-view+json": {
       "model_id": "ecc6cb8fe70c41dcadd02a6326cfc706",
       "version_major": 2,
       "version_minor": 0
      },
      "text/plain": [
       "Processing Dates:   0%|          | 0/60 [00:00<?, ?it/s]"
      ]
     },
     "metadata": {},
     "output_type": "display_data"
    },
    {
     "data": {
      "application/vnd.jupyter.widget-view+json": {
       "model_id": "214346934f3e4ab085add3f62a2c6b59",
       "version_major": 2,
       "version_minor": 0
      },
      "text/plain": [
       "Processing Dates:   0%|          | 0/60 [00:00<?, ?it/s]"
      ]
     },
     "metadata": {},
     "output_type": "display_data"
    },
    {
     "data": {
      "application/vnd.jupyter.widget-view+json": {
       "model_id": "bf869231bf9e4b999220b599e0c083d7",
       "version_major": 2,
       "version_minor": 0
      },
      "text/plain": [
       "Processing Dates:   0%|          | 0/60 [00:00<?, ?it/s]"
      ]
     },
     "metadata": {},
     "output_type": "display_data"
    },
    {
     "data": {
      "application/vnd.jupyter.widget-view+json": {
       "model_id": "7dafd2e9a9d642ef963e58fd6f0e9dff",
       "version_major": 2,
       "version_minor": 0
      },
      "text/plain": [
       "Processing Dates:   0%|          | 0/60 [00:00<?, ?it/s]"
      ]
     },
     "metadata": {},
     "output_type": "display_data"
    },
    {
     "data": {
      "application/vnd.jupyter.widget-view+json": {
       "model_id": "21633b542ad9497c98c4008e274c141c",
       "version_major": 2,
       "version_minor": 0
      },
      "text/plain": [
       "Processing Dates:   0%|          | 0/60 [00:00<?, ?it/s]"
      ]
     },
     "metadata": {},
     "output_type": "display_data"
    },
    {
     "data": {
      "application/vnd.jupyter.widget-view+json": {
       "model_id": "e283dbadc5244549afcb602b4a79fdb2",
       "version_major": 2,
       "version_minor": 0
      },
      "text/plain": [
       "Processing Dates:   0%|          | 0/60 [00:00<?, ?it/s]"
      ]
     },
     "metadata": {},
     "output_type": "display_data"
    },
    {
     "data": {
      "application/vnd.jupyter.widget-view+json": {
       "model_id": "888ceab1b53e4e08b1676b56a964578e",
       "version_major": 2,
       "version_minor": 0
      },
      "text/plain": [
       "Processing Dates:   0%|          | 0/60 [00:00<?, ?it/s]"
      ]
     },
     "metadata": {},
     "output_type": "display_data"
    },
    {
     "data": {
      "application/vnd.jupyter.widget-view+json": {
       "model_id": "14df9e9a102a494996308198e9ac3f9e",
       "version_major": 2,
       "version_minor": 0
      },
      "text/plain": [
       "Processing Commodities:   0%|          | 0/8 [00:00<?, ?it/s]"
      ]
     },
     "metadata": {},
     "output_type": "display_data"
    },
    {
     "data": {
      "application/vnd.jupyter.widget-view+json": {
       "model_id": "c2c1f30a8e02435b9f839ad7e9f95f56",
       "version_major": 2,
       "version_minor": 0
      },
      "text/plain": [
       "Processing Dates:   0%|          | 0/60 [00:00<?, ?it/s]"
      ]
     },
     "metadata": {},
     "output_type": "display_data"
    },
    {
     "data": {
      "application/vnd.jupyter.widget-view+json": {
       "model_id": "02944356ed4548d8985ebfe74b65668b",
       "version_major": 2,
       "version_minor": 0
      },
      "text/plain": [
       "Processing Dates:   0%|          | 0/60 [00:00<?, ?it/s]"
      ]
     },
     "metadata": {},
     "output_type": "display_data"
    },
    {
     "data": {
      "application/vnd.jupyter.widget-view+json": {
       "model_id": "7487d19ff1b6436caea611f4623784a7",
       "version_major": 2,
       "version_minor": 0
      },
      "text/plain": [
       "Processing Dates:   0%|          | 0/60 [00:00<?, ?it/s]"
      ]
     },
     "metadata": {},
     "output_type": "display_data"
    },
    {
     "data": {
      "application/vnd.jupyter.widget-view+json": {
       "model_id": "a8b446ea2e994a8ba28fbd8c43d2eb92",
       "version_major": 2,
       "version_minor": 0
      },
      "text/plain": [
       "Processing Dates:   0%|          | 0/60 [00:00<?, ?it/s]"
      ]
     },
     "metadata": {},
     "output_type": "display_data"
    },
    {
     "data": {
      "application/vnd.jupyter.widget-view+json": {
       "model_id": "9792bcdb7ff641eabc7019f6fdbfdb15",
       "version_major": 2,
       "version_minor": 0
      },
      "text/plain": [
       "Processing Dates:   0%|          | 0/60 [00:00<?, ?it/s]"
      ]
     },
     "metadata": {},
     "output_type": "display_data"
    },
    {
     "data": {
      "application/vnd.jupyter.widget-view+json": {
       "model_id": "158366ae426b4bec8e1e563aa61bf48b",
       "version_major": 2,
       "version_minor": 0
      },
      "text/plain": [
       "Processing Dates:   0%|          | 0/60 [00:00<?, ?it/s]"
      ]
     },
     "metadata": {},
     "output_type": "display_data"
    },
    {
     "data": {
      "application/vnd.jupyter.widget-view+json": {
       "model_id": "551d5337c0e747c88c669434278c82b9",
       "version_major": 2,
       "version_minor": 0
      },
      "text/plain": [
       "Processing Dates:   0%|          | 0/60 [00:00<?, ?it/s]"
      ]
     },
     "metadata": {},
     "output_type": "display_data"
    },
    {
     "data": {
      "application/vnd.jupyter.widget-view+json": {
       "model_id": "862cff50f5fe44efaadadfe346101772",
       "version_major": 2,
       "version_minor": 0
      },
      "text/plain": [
       "Processing Dates:   0%|          | 0/60 [00:00<?, ?it/s]"
      ]
     },
     "metadata": {},
     "output_type": "display_data"
    },
    {
     "data": {
      "application/vnd.jupyter.widget-view+json": {
       "model_id": "df11233dc814416cb44be88a8edf912b",
       "version_major": 2,
       "version_minor": 0
      },
      "text/plain": [
       "Processing Commodities:   0%|          | 0/8 [00:00<?, ?it/s]"
      ]
     },
     "metadata": {},
     "output_type": "display_data"
    },
    {
     "data": {
      "application/vnd.jupyter.widget-view+json": {
       "model_id": "beebfd3e347a4100852604d995c17a5c",
       "version_major": 2,
       "version_minor": 0
      },
      "text/plain": [
       "Processing Dates:   0%|          | 0/60 [00:00<?, ?it/s]"
      ]
     },
     "metadata": {},
     "output_type": "display_data"
    },
    {
     "data": {
      "application/vnd.jupyter.widget-view+json": {
       "model_id": "e68e5d10f12b42da8fff0bf56dd42ca4",
       "version_major": 2,
       "version_minor": 0
      },
      "text/plain": [
       "Processing Dates:   0%|          | 0/60 [00:00<?, ?it/s]"
      ]
     },
     "metadata": {},
     "output_type": "display_data"
    },
    {
     "data": {
      "application/vnd.jupyter.widget-view+json": {
       "model_id": "2070cfa9dc194bfeb664a24e09ba6989",
       "version_major": 2,
       "version_minor": 0
      },
      "text/plain": [
       "Processing Dates:   0%|          | 0/60 [00:00<?, ?it/s]"
      ]
     },
     "metadata": {},
     "output_type": "display_data"
    },
    {
     "data": {
      "application/vnd.jupyter.widget-view+json": {
       "model_id": "fc812784d9f84865b3b3a255f846feb3",
       "version_major": 2,
       "version_minor": 0
      },
      "text/plain": [
       "Processing Dates:   0%|          | 0/60 [00:00<?, ?it/s]"
      ]
     },
     "metadata": {},
     "output_type": "display_data"
    },
    {
     "data": {
      "application/vnd.jupyter.widget-view+json": {
       "model_id": "8f315ccc3f4543079a86d2bfd8e82f5f",
       "version_major": 2,
       "version_minor": 0
      },
      "text/plain": [
       "Processing Dates:   0%|          | 0/60 [00:00<?, ?it/s]"
      ]
     },
     "metadata": {},
     "output_type": "display_data"
    },
    {
     "data": {
      "application/vnd.jupyter.widget-view+json": {
       "model_id": "e434d7c29435434c8b80442a389985cb",
       "version_major": 2,
       "version_minor": 0
      },
      "text/plain": [
       "Processing Dates:   0%|          | 0/60 [00:00<?, ?it/s]"
      ]
     },
     "metadata": {},
     "output_type": "display_data"
    },
    {
     "data": {
      "application/vnd.jupyter.widget-view+json": {
       "model_id": "78b9551dde4c41afaa0680d09e9be12c",
       "version_major": 2,
       "version_minor": 0
      },
      "text/plain": [
       "Processing Dates:   0%|          | 0/60 [00:00<?, ?it/s]"
      ]
     },
     "metadata": {},
     "output_type": "display_data"
    },
    {
     "data": {
      "application/vnd.jupyter.widget-view+json": {
       "model_id": "e178cf11c8d14ac58ebb8effb66e1e0d",
       "version_major": 2,
       "version_minor": 0
      },
      "text/plain": [
       "Processing Dates:   0%|          | 0/60 [00:00<?, ?it/s]"
      ]
     },
     "metadata": {},
     "output_type": "display_data"
    },
    {
     "data": {
      "application/vnd.jupyter.widget-view+json": {
       "model_id": "e6202335453041a6a1abd1de63975af2",
       "version_major": 2,
       "version_minor": 0
      },
      "text/plain": [
       "Processing Commodities:   0%|          | 0/8 [00:00<?, ?it/s]"
      ]
     },
     "metadata": {},
     "output_type": "display_data"
    },
    {
     "data": {
      "application/vnd.jupyter.widget-view+json": {
       "model_id": "36b16afc985e46c4bd88e6dee1e4689c",
       "version_major": 2,
       "version_minor": 0
      },
      "text/plain": [
       "Processing Dates:   0%|          | 0/60 [00:00<?, ?it/s]"
      ]
     },
     "metadata": {},
     "output_type": "display_data"
    },
    {
     "data": {
      "application/vnd.jupyter.widget-view+json": {
       "model_id": "c8276076152c42d184ca9496f93a0dc9",
       "version_major": 2,
       "version_minor": 0
      },
      "text/plain": [
       "Processing Dates:   0%|          | 0/60 [00:00<?, ?it/s]"
      ]
     },
     "metadata": {},
     "output_type": "display_data"
    },
    {
     "data": {
      "application/vnd.jupyter.widget-view+json": {
       "model_id": "dd385cdd5ece4e6f8bca65e28014e53c",
       "version_major": 2,
       "version_minor": 0
      },
      "text/plain": [
       "Processing Dates:   0%|          | 0/60 [00:00<?, ?it/s]"
      ]
     },
     "metadata": {},
     "output_type": "display_data"
    },
    {
     "data": {
      "application/vnd.jupyter.widget-view+json": {
       "model_id": "71c0c1957c4044f1834078fc1dcba1fe",
       "version_major": 2,
       "version_minor": 0
      },
      "text/plain": [
       "Processing Dates:   0%|          | 0/60 [00:00<?, ?it/s]"
      ]
     },
     "metadata": {},
     "output_type": "display_data"
    },
    {
     "data": {
      "application/vnd.jupyter.widget-view+json": {
       "model_id": "2460d63b7c9b49579e2175c324847bc2",
       "version_major": 2,
       "version_minor": 0
      },
      "text/plain": [
       "Processing Dates:   0%|          | 0/60 [00:00<?, ?it/s]"
      ]
     },
     "metadata": {},
     "output_type": "display_data"
    },
    {
     "data": {
      "application/vnd.jupyter.widget-view+json": {
       "model_id": "c7deb963763e48eb9ab6946fc1252e00",
       "version_major": 2,
       "version_minor": 0
      },
      "text/plain": [
       "Processing Dates:   0%|          | 0/60 [00:00<?, ?it/s]"
      ]
     },
     "metadata": {},
     "output_type": "display_data"
    },
    {
     "data": {
      "application/vnd.jupyter.widget-view+json": {
       "model_id": "c9920147831a43d5a82bede3d3a3add0",
       "version_major": 2,
       "version_minor": 0
      },
      "text/plain": [
       "Processing Dates:   0%|          | 0/60 [00:00<?, ?it/s]"
      ]
     },
     "metadata": {},
     "output_type": "display_data"
    },
    {
     "data": {
      "application/vnd.jupyter.widget-view+json": {
       "model_id": "4616ded2ecc041d78b7b70727627d4ca",
       "version_major": 2,
       "version_minor": 0
      },
      "text/plain": [
       "Processing Dates:   0%|          | 0/60 [00:00<?, ?it/s]"
      ]
     },
     "metadata": {},
     "output_type": "display_data"
    },
    {
     "data": {
      "application/vnd.jupyter.widget-view+json": {
       "model_id": "a6ee78ba6c404567b824046542f18293",
       "version_major": 2,
       "version_minor": 0
      },
      "text/plain": [
       "Processing Regions:   0%|          | 0/1 [00:00<?, ?it/s]"
      ]
     },
     "metadata": {},
     "output_type": "display_data"
    },
    {
     "data": {
      "application/vnd.jupyter.widget-view+json": {
       "model_id": "a15ead119d944017ae8341960701bb51",
       "version_major": 2,
       "version_minor": 0
      },
      "text/plain": [
       "Processing Commodities:   0%|          | 0/6 [00:00<?, ?it/s]"
      ]
     },
     "metadata": {},
     "output_type": "display_data"
    },
    {
     "data": {
      "application/vnd.jupyter.widget-view+json": {
       "model_id": "293508a06207467989365812c2631b05",
       "version_major": 2,
       "version_minor": 0
      },
      "text/plain": [
       "Processing Dates:   0%|          | 0/60 [00:00<?, ?it/s]"
      ]
     },
     "metadata": {},
     "output_type": "display_data"
    },
    {
     "data": {
      "application/vnd.jupyter.widget-view+json": {
       "model_id": "b61aa7dba8c44062a25c65a54353299f",
       "version_major": 2,
       "version_minor": 0
      },
      "text/plain": [
       "Processing Dates:   0%|          | 0/60 [00:00<?, ?it/s]"
      ]
     },
     "metadata": {},
     "output_type": "display_data"
    },
    {
     "data": {
      "application/vnd.jupyter.widget-view+json": {
       "model_id": "daaae9b3c1434eaaa1717df473a8550c",
       "version_major": 2,
       "version_minor": 0
      },
      "text/plain": [
       "Processing Dates:   0%|          | 0/60 [00:00<?, ?it/s]"
      ]
     },
     "metadata": {},
     "output_type": "display_data"
    },
    {
     "data": {
      "application/vnd.jupyter.widget-view+json": {
       "model_id": "a1bc7e19f1234a668fd1bd3abd418037",
       "version_major": 2,
       "version_minor": 0
      },
      "text/plain": [
       "Processing Dates:   0%|          | 0/60 [00:00<?, ?it/s]"
      ]
     },
     "metadata": {},
     "output_type": "display_data"
    },
    {
     "data": {
      "application/vnd.jupyter.widget-view+json": {
       "model_id": "fc1580cc8e834d55a4cd57689ca7ba16",
       "version_major": 2,
       "version_minor": 0
      },
      "text/plain": [
       "Processing Dates:   0%|          | 0/60 [00:00<?, ?it/s]"
      ]
     },
     "metadata": {},
     "output_type": "display_data"
    },
    {
     "data": {
      "application/vnd.jupyter.widget-view+json": {
       "model_id": "8bdc518cecd44781943751a201c93b77",
       "version_major": 2,
       "version_minor": 0
      },
      "text/plain": [
       "Processing Dates:   0%|          | 0/60 [00:00<?, ?it/s]"
      ]
     },
     "metadata": {},
     "output_type": "display_data"
    },
    {
     "data": {
      "application/vnd.jupyter.widget-view+json": {
       "model_id": "1c03efc7bf67438f8b5394417a4754d6",
       "version_major": 2,
       "version_minor": 0
      },
      "text/plain": [
       "Processing Regions:   0%|          | 0/1 [00:00<?, ?it/s]"
      ]
     },
     "metadata": {},
     "output_type": "display_data"
    },
    {
     "data": {
      "application/vnd.jupyter.widget-view+json": {
       "model_id": "b5040a55adf449c49291ab68c4b2fff0",
       "version_major": 2,
       "version_minor": 0
      },
      "text/plain": [
       "Processing Commodities:   0%|          | 0/6 [00:00<?, ?it/s]"
      ]
     },
     "metadata": {},
     "output_type": "display_data"
    },
    {
     "data": {
      "application/vnd.jupyter.widget-view+json": {
       "model_id": "07c88a607fcf4802a79c849a281ebb9a",
       "version_major": 2,
       "version_minor": 0
      },
      "text/plain": [
       "Processing Dates:   0%|          | 0/60 [00:00<?, ?it/s]"
      ]
     },
     "metadata": {},
     "output_type": "display_data"
    },
    {
     "data": {
      "application/vnd.jupyter.widget-view+json": {
       "model_id": "41b4e02c79764a2db18cc1ac37b56795",
       "version_major": 2,
       "version_minor": 0
      },
      "text/plain": [
       "Processing Dates:   0%|          | 0/60 [00:00<?, ?it/s]"
      ]
     },
     "metadata": {},
     "output_type": "display_data"
    },
    {
     "data": {
      "application/vnd.jupyter.widget-view+json": {
       "model_id": "d5f8870edb8c4eb286c80ad6fa46e504",
       "version_major": 2,
       "version_minor": 0
      },
      "text/plain": [
       "Processing Dates:   0%|          | 0/60 [00:00<?, ?it/s]"
      ]
     },
     "metadata": {},
     "output_type": "display_data"
    },
    {
     "data": {
      "application/vnd.jupyter.widget-view+json": {
       "model_id": "b365ebb3b0a3467083941ca9e49be162",
       "version_major": 2,
       "version_minor": 0
      },
      "text/plain": [
       "Processing Dates:   0%|          | 0/60 [00:00<?, ?it/s]"
      ]
     },
     "metadata": {},
     "output_type": "display_data"
    },
    {
     "data": {
      "application/vnd.jupyter.widget-view+json": {
       "model_id": "9ef5f91b8d6e476aad962d64a2be6185",
       "version_major": 2,
       "version_minor": 0
      },
      "text/plain": [
       "Processing Dates:   0%|          | 0/60 [00:00<?, ?it/s]"
      ]
     },
     "metadata": {},
     "output_type": "display_data"
    },
    {
     "data": {
      "application/vnd.jupyter.widget-view+json": {
       "model_id": "0e3d61cbce654421ae7c630bc24131cc",
       "version_major": 2,
       "version_minor": 0
      },
      "text/plain": [
       "Processing Dates:   0%|          | 0/60 [00:00<?, ?it/s]"
      ]
     },
     "metadata": {},
     "output_type": "display_data"
    },
    {
     "data": {
      "application/vnd.jupyter.widget-view+json": {
       "model_id": "acb54bff8c794c0f8a160c6b781b20a2",
       "version_major": 2,
       "version_minor": 0
      },
      "text/plain": [
       "Processing Regions:   0%|          | 0/14 [00:00<?, ?it/s]"
      ]
     },
     "metadata": {},
     "output_type": "display_data"
    },
    {
     "data": {
      "application/vnd.jupyter.widget-view+json": {
       "model_id": "39f07b8c7cd2454da6ff707714cab9df",
       "version_major": 2,
       "version_minor": 0
      },
      "text/plain": [
       "Processing Commodities:   0%|          | 0/2 [00:00<?, ?it/s]"
      ]
     },
     "metadata": {},
     "output_type": "display_data"
    },
    {
     "data": {
      "application/vnd.jupyter.widget-view+json": {
       "model_id": "29020b66f61b480fac75d369911e31c1",
       "version_major": 2,
       "version_minor": 0
      },
      "text/plain": [
       "Processing Dates:   0%|          | 0/60 [00:00<?, ?it/s]"
      ]
     },
     "metadata": {},
     "output_type": "display_data"
    },
    {
     "data": {
      "application/vnd.jupyter.widget-view+json": {
       "model_id": "cedda712bca74a99a8a12eb432b378eb",
       "version_major": 2,
       "version_minor": 0
      },
      "text/plain": [
       "Processing Dates:   0%|          | 0/60 [00:00<?, ?it/s]"
      ]
     },
     "metadata": {},
     "output_type": "display_data"
    },
    {
     "data": {
      "application/vnd.jupyter.widget-view+json": {
       "model_id": "c1f855bb718347a49733cfd30326843c",
       "version_major": 2,
       "version_minor": 0
      },
      "text/plain": [
       "Processing Commodities:   0%|          | 0/2 [00:00<?, ?it/s]"
      ]
     },
     "metadata": {},
     "output_type": "display_data"
    },
    {
     "data": {
      "application/vnd.jupyter.widget-view+json": {
       "model_id": "03fe7e57435644f4b09e49fd11b20952",
       "version_major": 2,
       "version_minor": 0
      },
      "text/plain": [
       "Processing Dates:   0%|          | 0/60 [00:00<?, ?it/s]"
      ]
     },
     "metadata": {},
     "output_type": "display_data"
    },
    {
     "data": {
      "application/vnd.jupyter.widget-view+json": {
       "model_id": "04af39ae37314cf2a88a6b25e65d886b",
       "version_major": 2,
       "version_minor": 0
      },
      "text/plain": [
       "Processing Dates:   0%|          | 0/60 [00:00<?, ?it/s]"
      ]
     },
     "metadata": {},
     "output_type": "display_data"
    },
    {
     "data": {
      "application/vnd.jupyter.widget-view+json": {
       "model_id": "1ea6cde66ba84fa5ba610bb5ccb95b1b",
       "version_major": 2,
       "version_minor": 0
      },
      "text/plain": [
       "Processing Commodities:   0%|          | 0/2 [00:00<?, ?it/s]"
      ]
     },
     "metadata": {},
     "output_type": "display_data"
    },
    {
     "data": {
      "application/vnd.jupyter.widget-view+json": {
       "model_id": "124f9f3d076e449da6c0ef93ee325acc",
       "version_major": 2,
       "version_minor": 0
      },
      "text/plain": [
       "Processing Dates:   0%|          | 0/60 [00:00<?, ?it/s]"
      ]
     },
     "metadata": {},
     "output_type": "display_data"
    },
    {
     "data": {
      "application/vnd.jupyter.widget-view+json": {
       "model_id": "53a6258b7f60402e88784eb809631600",
       "version_major": 2,
       "version_minor": 0
      },
      "text/plain": [
       "Processing Dates:   0%|          | 0/60 [00:00<?, ?it/s]"
      ]
     },
     "metadata": {},
     "output_type": "display_data"
    },
    {
     "data": {
      "application/vnd.jupyter.widget-view+json": {
       "model_id": "634cfb45abb54e81a81e2e4fe336da21",
       "version_major": 2,
       "version_minor": 0
      },
      "text/plain": [
       "Processing Commodities:   0%|          | 0/2 [00:00<?, ?it/s]"
      ]
     },
     "metadata": {},
     "output_type": "display_data"
    },
    {
     "data": {
      "application/vnd.jupyter.widget-view+json": {
       "model_id": "3b32773682d34e2b9f020203920b4250",
       "version_major": 2,
       "version_minor": 0
      },
      "text/plain": [
       "Processing Dates:   0%|          | 0/60 [00:00<?, ?it/s]"
      ]
     },
     "metadata": {},
     "output_type": "display_data"
    },
    {
     "data": {
      "application/vnd.jupyter.widget-view+json": {
       "model_id": "cfded4ec6f26483487e28f9466a50a47",
       "version_major": 2,
       "version_minor": 0
      },
      "text/plain": [
       "Processing Dates:   0%|          | 0/60 [00:00<?, ?it/s]"
      ]
     },
     "metadata": {},
     "output_type": "display_data"
    },
    {
     "data": {
      "application/vnd.jupyter.widget-view+json": {
       "model_id": "3fc24dbef8ed448382c157031f9d2017",
       "version_major": 2,
       "version_minor": 0
      },
      "text/plain": [
       "Processing Commodities:   0%|          | 0/2 [00:00<?, ?it/s]"
      ]
     },
     "metadata": {},
     "output_type": "display_data"
    },
    {
     "data": {
      "application/vnd.jupyter.widget-view+json": {
       "model_id": "848ace6e48764eb09ec4f6b1f693266a",
       "version_major": 2,
       "version_minor": 0
      },
      "text/plain": [
       "Processing Dates:   0%|          | 0/60 [00:00<?, ?it/s]"
      ]
     },
     "metadata": {},
     "output_type": "display_data"
    },
    {
     "data": {
      "application/vnd.jupyter.widget-view+json": {
       "model_id": "a861c5e246064d688111b90e7019377f",
       "version_major": 2,
       "version_minor": 0
      },
      "text/plain": [
       "Processing Dates:   0%|          | 0/60 [00:00<?, ?it/s]"
      ]
     },
     "metadata": {},
     "output_type": "display_data"
    },
    {
     "data": {
      "application/vnd.jupyter.widget-view+json": {
       "model_id": "210ce5d7c7d74e0b81dd43d27a330e7c",
       "version_major": 2,
       "version_minor": 0
      },
      "text/plain": [
       "Processing Commodities:   0%|          | 0/2 [00:00<?, ?it/s]"
      ]
     },
     "metadata": {},
     "output_type": "display_data"
    },
    {
     "data": {
      "application/vnd.jupyter.widget-view+json": {
       "model_id": "b68445b947c4417aa469d3bf27b117cf",
       "version_major": 2,
       "version_minor": 0
      },
      "text/plain": [
       "Processing Dates:   0%|          | 0/60 [00:00<?, ?it/s]"
      ]
     },
     "metadata": {},
     "output_type": "display_data"
    },
    {
     "data": {
      "application/vnd.jupyter.widget-view+json": {
       "model_id": "3b18e33a781a44eab1563ad505d6894a",
       "version_major": 2,
       "version_minor": 0
      },
      "text/plain": [
       "Processing Dates:   0%|          | 0/60 [00:00<?, ?it/s]"
      ]
     },
     "metadata": {},
     "output_type": "display_data"
    },
    {
     "data": {
      "application/vnd.jupyter.widget-view+json": {
       "model_id": "1b0f2784bc074ee4b1905f4c2f84e04f",
       "version_major": 2,
       "version_minor": 0
      },
      "text/plain": [
       "Processing Commodities:   0%|          | 0/2 [00:00<?, ?it/s]"
      ]
     },
     "metadata": {},
     "output_type": "display_data"
    },
    {
     "data": {
      "application/vnd.jupyter.widget-view+json": {
       "model_id": "f7e49404af1f42778906244998923822",
       "version_major": 2,
       "version_minor": 0
      },
      "text/plain": [
       "Processing Dates:   0%|          | 0/60 [00:00<?, ?it/s]"
      ]
     },
     "metadata": {},
     "output_type": "display_data"
    },
    {
     "data": {
      "application/vnd.jupyter.widget-view+json": {
       "model_id": "260894353baa4200b18d5529bc93f232",
       "version_major": 2,
       "version_minor": 0
      },
      "text/plain": [
       "Processing Dates:   0%|          | 0/60 [00:00<?, ?it/s]"
      ]
     },
     "metadata": {},
     "output_type": "display_data"
    },
    {
     "data": {
      "application/vnd.jupyter.widget-view+json": {
       "model_id": "5ec9610a359b454e970cdab94487e4e6",
       "version_major": 2,
       "version_minor": 0
      },
      "text/plain": [
       "Processing Commodities:   0%|          | 0/2 [00:00<?, ?it/s]"
      ]
     },
     "metadata": {},
     "output_type": "display_data"
    },
    {
     "data": {
      "application/vnd.jupyter.widget-view+json": {
       "model_id": "8392f7106afa4bb0b77767dd2a59c2a6",
       "version_major": 2,
       "version_minor": 0
      },
      "text/plain": [
       "Processing Dates:   0%|          | 0/60 [00:00<?, ?it/s]"
      ]
     },
     "metadata": {},
     "output_type": "display_data"
    },
    {
     "data": {
      "application/vnd.jupyter.widget-view+json": {
       "model_id": "282532ea1d5749e49c6972dad7165623",
       "version_major": 2,
       "version_minor": 0
      },
      "text/plain": [
       "Processing Dates:   0%|          | 0/60 [00:00<?, ?it/s]"
      ]
     },
     "metadata": {},
     "output_type": "display_data"
    },
    {
     "data": {
      "application/vnd.jupyter.widget-view+json": {
       "model_id": "6fe06458f2ff42e3a2a37876fd9c312b",
       "version_major": 2,
       "version_minor": 0
      },
      "text/plain": [
       "Processing Commodities:   0%|          | 0/2 [00:00<?, ?it/s]"
      ]
     },
     "metadata": {},
     "output_type": "display_data"
    },
    {
     "data": {
      "application/vnd.jupyter.widget-view+json": {
       "model_id": "b332bcbe126e4423a48fb07275746261",
       "version_major": 2,
       "version_minor": 0
      },
      "text/plain": [
       "Processing Dates:   0%|          | 0/60 [00:00<?, ?it/s]"
      ]
     },
     "metadata": {},
     "output_type": "display_data"
    },
    {
     "data": {
      "application/vnd.jupyter.widget-view+json": {
       "model_id": "f04ea8f6d34d46248f5d14c5783fba17",
       "version_major": 2,
       "version_minor": 0
      },
      "text/plain": [
       "Processing Dates:   0%|          | 0/60 [00:00<?, ?it/s]"
      ]
     },
     "metadata": {},
     "output_type": "display_data"
    },
    {
     "data": {
      "application/vnd.jupyter.widget-view+json": {
       "model_id": "85682e9545964a3ca981389fce23137e",
       "version_major": 2,
       "version_minor": 0
      },
      "text/plain": [
       "Processing Commodities:   0%|          | 0/2 [00:00<?, ?it/s]"
      ]
     },
     "metadata": {},
     "output_type": "display_data"
    },
    {
     "data": {
      "application/vnd.jupyter.widget-view+json": {
       "model_id": "69b8668e904c46649160fe724f4b0422",
       "version_major": 2,
       "version_minor": 0
      },
      "text/plain": [
       "Processing Dates:   0%|          | 0/60 [00:00<?, ?it/s]"
      ]
     },
     "metadata": {},
     "output_type": "display_data"
    },
    {
     "data": {
      "application/vnd.jupyter.widget-view+json": {
       "model_id": "4d9220ea74314a4caa722a2ccda10784",
       "version_major": 2,
       "version_minor": 0
      },
      "text/plain": [
       "Processing Dates:   0%|          | 0/60 [00:00<?, ?it/s]"
      ]
     },
     "metadata": {},
     "output_type": "display_data"
    },
    {
     "data": {
      "application/vnd.jupyter.widget-view+json": {
       "model_id": "dd5c9f1119d54558a72b3a370075bde0",
       "version_major": 2,
       "version_minor": 0
      },
      "text/plain": [
       "Processing Commodities:   0%|          | 0/2 [00:00<?, ?it/s]"
      ]
     },
     "metadata": {},
     "output_type": "display_data"
    },
    {
     "data": {
      "application/vnd.jupyter.widget-view+json": {
       "model_id": "dc1864c7174345eb8fc62cf19d5e86ab",
       "version_major": 2,
       "version_minor": 0
      },
      "text/plain": [
       "Processing Dates:   0%|          | 0/60 [00:00<?, ?it/s]"
      ]
     },
     "metadata": {},
     "output_type": "display_data"
    },
    {
     "data": {
      "application/vnd.jupyter.widget-view+json": {
       "model_id": "98722436f23d48069f825ab7e5b1e686",
       "version_major": 2,
       "version_minor": 0
      },
      "text/plain": [
       "Processing Dates:   0%|          | 0/60 [00:00<?, ?it/s]"
      ]
     },
     "metadata": {},
     "output_type": "display_data"
    },
    {
     "data": {
      "application/vnd.jupyter.widget-view+json": {
       "model_id": "315c7c5546bd4124a3c46d87d4d70551",
       "version_major": 2,
       "version_minor": 0
      },
      "text/plain": [
       "Processing Commodities:   0%|          | 0/2 [00:00<?, ?it/s]"
      ]
     },
     "metadata": {},
     "output_type": "display_data"
    },
    {
     "data": {
      "application/vnd.jupyter.widget-view+json": {
       "model_id": "6cd655b9c6c847d590ee5095b748f7c3",
       "version_major": 2,
       "version_minor": 0
      },
      "text/plain": [
       "Processing Dates:   0%|          | 0/60 [00:00<?, ?it/s]"
      ]
     },
     "metadata": {},
     "output_type": "display_data"
    },
    {
     "data": {
      "application/vnd.jupyter.widget-view+json": {
       "model_id": "b2dfa6edc1ec46e9a0a4a713872db400",
       "version_major": 2,
       "version_minor": 0
      },
      "text/plain": [
       "Processing Dates:   0%|          | 0/60 [00:00<?, ?it/s]"
      ]
     },
     "metadata": {},
     "output_type": "display_data"
    },
    {
     "data": {
      "application/vnd.jupyter.widget-view+json": {
       "model_id": "661b695a1f8e4fcda92e515baad65d35",
       "version_major": 2,
       "version_minor": 0
      },
      "text/plain": [
       "Processing Commodities:   0%|          | 0/2 [00:00<?, ?it/s]"
      ]
     },
     "metadata": {},
     "output_type": "display_data"
    },
    {
     "data": {
      "application/vnd.jupyter.widget-view+json": {
       "model_id": "ed7ebeaf22e842ddad31209b23a3d37f",
       "version_major": 2,
       "version_minor": 0
      },
      "text/plain": [
       "Processing Dates:   0%|          | 0/60 [00:00<?, ?it/s]"
      ]
     },
     "metadata": {},
     "output_type": "display_data"
    },
    {
     "data": {
      "application/vnd.jupyter.widget-view+json": {
       "model_id": "35ffb426f5d84d3c9deb35c77ccc4e43",
       "version_major": 2,
       "version_minor": 0
      },
      "text/plain": [
       "Processing Dates:   0%|          | 0/60 [00:00<?, ?it/s]"
      ]
     },
     "metadata": {},
     "output_type": "display_data"
    },
    {
     "data": {
      "application/vnd.jupyter.widget-view+json": {
       "model_id": "3d3d222915fb4f8da05d6f83d9d8d295",
       "version_major": 2,
       "version_minor": 0
      },
      "text/plain": [
       "Processing Commodities:   0%|          | 0/2 [00:00<?, ?it/s]"
      ]
     },
     "metadata": {},
     "output_type": "display_data"
    },
    {
     "data": {
      "application/vnd.jupyter.widget-view+json": {
       "model_id": "738ea20c181b41eb8d3e76a3d8859ddb",
       "version_major": 2,
       "version_minor": 0
      },
      "text/plain": [
       "Processing Dates:   0%|          | 0/60 [00:00<?, ?it/s]"
      ]
     },
     "metadata": {},
     "output_type": "display_data"
    },
    {
     "data": {
      "application/vnd.jupyter.widget-view+json": {
       "model_id": "6747a8eec7d94073a84a0bc7b1145939",
       "version_major": 2,
       "version_minor": 0
      },
      "text/plain": [
       "Processing Dates:   0%|          | 0/60 [00:00<?, ?it/s]"
      ]
     },
     "metadata": {},
     "output_type": "display_data"
    }
   ],
   "source": [
    "farmgate_converted = convert_data(farmgate_copy, \"Price\")\n",
    "wholesale_converted = convert_data(wholesale_copy, \"Price\")\n",
    "retail_converted = convert_data(wholesale_copy, \"Price\")\n",
    "production_converted = convert_data(production_copy, \"Production_Volume_in_MetricTons\")\n",
    "harvested_converted = convert_data(harvested_copy, \"Area_Harvested_in_Hectares\")\n",
    "cpi_converted = convert_data(cpi_copy, \"Consumer_Price_Index\")"
   ]
  },
  {
   "cell_type": "code",
   "execution_count": 8,
   "metadata": {},
   "outputs": [],
   "source": [
    "final_df = pd.concat([farmgate_converted, wholesale_converted, retail_converted, production_converted, harvested_converted, cpi_converted])\n",
    "\n",
    "final_df.to_csv('../data/final/final_df.csv', index=False)"
   ]
  },
  {
   "cell_type": "code",
   "execution_count": null,
   "metadata": {},
   "outputs": [],
   "source": []
  }
 ],
 "metadata": {
  "kernelspec": {
   "display_name": "Python 3",
   "language": "python",
   "name": "python3"
  },
  "language_info": {
   "codemirror_mode": {
    "name": "ipython",
    "version": 3
   },
   "file_extension": ".py",
   "mimetype": "text/x-python",
   "name": "python",
   "nbconvert_exporter": "python",
   "pygments_lexer": "ipython3",
   "version": "3.11.9"
  }
 },
 "nbformat": 4,
 "nbformat_minor": 2
}
