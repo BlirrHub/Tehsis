{
 "cells": [
  {
   "cell_type": "code",
   "execution_count": 2,
   "metadata": {},
   "outputs": [],
   "source": [
    "import pandas as pd\n",
    "import numpy as np\n",
    "import matplotlib.pyplot as plt"
   ]
  },
  {
   "cell_type": "code",
   "execution_count": 3,
   "metadata": {},
   "outputs": [],
   "source": [
    "# Prices datasets\n",
    "farmgate = pd.read_csv('../data/raw/FarmgatePrice.csv')\n",
    "wholesale = pd.read_csv('../data/raw/WholesalePrice.csv')\n",
    "retail = pd.read_csv('../data/raw/RetailPrice.csv')\n",
    "\n",
    "# Additional datasets\n",
    "cpi = pd.read_csv('../data/raw/ConsumerPriceIndex.csv')\n",
    "vop = pd.read_csv('../data/raw/VolumeOfProductionByMetricTons.csv')\n",
    "harvested = pd.read_csv('../data/raw/AreaHarvestedInHectares.csv')"
   ]
  },
  {
   "cell_type": "code",
   "execution_count": 4,
   "metadata": {},
   "outputs": [],
   "source": [
    "# clean data and reshaped data\n",
    "def clean_data(df, column_1, column_2, value_column_name, monthly):\n",
    "    df = df.copy()\n",
    "\n",
    "    df_long = df.melt(id_vars=[column_1, column_2], var_name='Date', value_name=value_column_name) if monthly else distribute_quarterly_to_monthly(df, column_1, column_2, value_column_name)\n",
    "\n",
    "    df_long = clean_geolocation(df_long)\n",
    "    \n",
    "    df_long[value_column_name] = pd.to_numeric(df_long[value_column_name], errors='coerce')\n",
    "    \n",
    "    df_long['Date'] = pd.to_datetime(df_long['Date'], format='%Y %B')\n",
    "    \n",
    "    df_long = df_long.sort_values(by=[column_1, \"Commodity\", 'Date'])\n",
    "    \n",
    "    df_long[column_1] = df_long[column_1].str.lower().str.strip()\n",
    "    \n",
    "    df_long[\"Commodity\"] = df_long[\"Commodity\"].str.lower().str.strip()\n",
    "    \n",
    "    return df_long\n",
    "\n",
    "def distribute_quarterly_to_monthly(df, column_1, column_2, value_column_name):\n",
    "    df = df.copy()\n",
    "    \n",
    "    # Melt dataset to long format\n",
    "    df_long = df.melt(id_vars=[column_1, column_2], var_name=\"Quarter\", value_name=value_column_name)\n",
    "    \n",
    "    # Extract year and quarter from the Quarter column\n",
    "    df_long[\"Year\"] = df_long[\"Quarter\"].str[:4].astype(int)\n",
    "    df_long[\"Quarter\"] = df_long[\"Quarter\"].str[-1].astype(int)\n",
    "\n",
    "    quarter_to_months = {\n",
    "        1: [1, 2, 3],\n",
    "        2: [4, 5, 6],\n",
    "        3: [7, 8, 9],\n",
    "        4: [10, 11, 12]\n",
    "    }\n",
    "    \n",
    "    expanded_rows = []\n",
    "    \n",
    "    for _, row in df_long.iterrows():\n",
    "        for month in quarter_to_months[row[\"Quarter\"]]:\n",
    "            expanded_rows.append({\n",
    "                column_1: row[column_1],\n",
    "                column_2: row[column_2],\n",
    "                \"Date\": pd.Timestamp(year=row[\"Year\"], month=month, day=1),\n",
    "                value_column_name: row[value_column_name] / 3\n",
    "            })\n",
    "            \n",
    "    df_monthly = pd.DataFrame(expanded_rows)\n",
    "    \n",
    "    return df_monthly\n",
    "\n",
    "# remove .. in geolocation values and replace .. values to na\n",
    "def clean_geolocation(df):\n",
    "    df = df.rename(columns={df.columns.values[0]: \"Geolocation\", df.columns.values[1]: \"Commodity\"})\n",
    "    \n",
    "    df.replace('..', pd.NA, inplace=True)\n",
    "    df[\"Geolocation\"] = df[\"Geolocation\"].str.replace(r'^\\.\\.', '', regex=True).str.strip()\n",
    "    \n",
    "    return df"
   ]
  },
  {
   "cell_type": "code",
   "execution_count": 5,
   "metadata": {},
   "outputs": [],
   "source": [
    "farmgate = clean_data(farmgate, \"Geolocation\", \"Commodity\", \"Price\", True)\n",
    "wholesale = clean_data(wholesale, \"Geolocation\", \"Commodity\", \"Price\", True)\n",
    "retail = clean_data(retail, \"Geolocation\", \"Commodity\", \"Price\", True)\n",
    "\n",
    "vop = clean_data(vop, \"Geolocation\", \"Ecosystem/Croptype\", \"Production_Volume_by_MetricTons\", False)"
   ]
  },
  {
   "cell_type": "code",
   "execution_count": 6,
   "metadata": {},
   "outputs": [],
   "source": [
    "# remove commodtities with high missing values per region\n",
    "def filter_missing_values(df, threshold = 0.4):\n",
    "    filtered_dfs = []\n",
    "    \n",
    "    for region in df['Geolocation'].unique():\n",
    "        region_df = df[df['Geolocation'] == region]\n",
    "        \n",
    "        missing_ratio = region_df.groupby('Commodity')['Price'].apply(lambda x: x.isna().mean())\n",
    "        \n",
    "        valid_commodities = missing_ratio[missing_ratio < threshold].index\n",
    "        filtered_region_df = region_df[region_df['Commodity'].isin(valid_commodities)]\n",
    "        \n",
    "        filtered_dfs.append(filtered_region_df)\n",
    "        \n",
    "    return pd.concat(filtered_dfs, ignore_index=True)"
   ]
  },
  {
   "cell_type": "code",
   "execution_count": 7,
   "metadata": {},
   "outputs": [],
   "source": [
    "# apply filtering\n",
    "farmgate = filter_missing_values(farmgate)\n",
    "wholesale = filter_missing_values(wholesale)\n",
    "retail = filter_missing_values(retail)"
   ]
  },
  {
   "cell_type": "code",
   "execution_count": 8,
   "metadata": {},
   "outputs": [],
   "source": [
    "# Fill remaining missing values using forward and backward fill per region & commodity\n",
    "def fill_missing_values(df):\n",
    "    return df.groupby([\"Geolocation\", \"Commodity\"], group_keys=False).apply(lambda group: group.ffill().bfill()).reset_index(drop=True)"
   ]
  },
  {
   "cell_type": "code",
   "execution_count": 9,
   "metadata": {},
   "outputs": [
    {
     "name": "stderr",
     "output_type": "stream",
     "text": [
      "C:\\Users\\blirr\\AppData\\Local\\Temp\\ipykernel_20048\\10255930.py:3: DeprecationWarning: DataFrameGroupBy.apply operated on the grouping columns. This behavior is deprecated, and in a future version of pandas the grouping columns will be excluded from the operation. Either pass `include_groups=False` to exclude the groupings or explicitly select the grouping columns after groupby to silence this warning.\n",
      "  return df.groupby([\"Geolocation\", \"Commodity\"], group_keys=False).apply(lambda group: group.ffill().bfill()).reset_index(drop=True)\n",
      "C:\\Users\\blirr\\AppData\\Local\\Temp\\ipykernel_20048\\10255930.py:3: DeprecationWarning: DataFrameGroupBy.apply operated on the grouping columns. This behavior is deprecated, and in a future version of pandas the grouping columns will be excluded from the operation. Either pass `include_groups=False` to exclude the groupings or explicitly select the grouping columns after groupby to silence this warning.\n",
      "  return df.groupby([\"Geolocation\", \"Commodity\"], group_keys=False).apply(lambda group: group.ffill().bfill()).reset_index(drop=True)\n",
      "C:\\Users\\blirr\\AppData\\Local\\Temp\\ipykernel_20048\\10255930.py:3: DeprecationWarning: DataFrameGroupBy.apply operated on the grouping columns. This behavior is deprecated, and in a future version of pandas the grouping columns will be excluded from the operation. Either pass `include_groups=False` to exclude the groupings or explicitly select the grouping columns after groupby to silence this warning.\n",
      "  return df.groupby([\"Geolocation\", \"Commodity\"], group_keys=False).apply(lambda group: group.ffill().bfill()).reset_index(drop=True)\n"
     ]
    }
   ],
   "source": [
    "cleaned_farmgate = fill_missing_values(farmgate)\n",
    "cleaned_wholesale = fill_missing_values(wholesale)\n",
    "cleaned_retail = fill_missing_values(retail)"
   ]
  },
  {
   "cell_type": "code",
   "execution_count": 10,
   "metadata": {},
   "outputs": [],
   "source": [
    "# save cleaned data\n",
    "cleaned_farmgate.to_csv('../data/cleaned/cleaned_farmgate.csv', index=False)\n",
    "cleaned_wholesale.to_csv('../data/cleaned/cleaned_wholesale.csv', index=False)\n",
    "cleaned_retail.to_csv('../data/cleaned/cleaned_retail.csv', index=False)"
   ]
  },
  {
   "cell_type": "code",
   "execution_count": 11,
   "metadata": {},
   "outputs": [],
   "source": [
    "def plot_trends(df, price_type):\n",
    "    regions = df['Geolocation'].unique()\n",
    "    \n",
    "    for region in regions:\n",
    "        plt.figure(figsize=(12, 6))\n",
    "        \n",
    "        region_df = df[df['Geolocation'] == region]\n",
    "        \n",
    "        commodities = region_df['Commodity'].unique()\n",
    "        \n",
    "        for commodity in commodities:\n",
    "            subset = region_df[region_df['Commodity'] == commodity].groupby('Date')['Price'].mean()\n",
    "            plt.plot(subset.index, subset.values, label=commodity, marker='o', markersize=5, linestyle='-')\n",
    "            \n",
    "        \n",
    "        plt.xlabel('Date')\n",
    "        plt.ylabel('Average Price (PHP)')\n",
    "        plt.title(f'{price_type} Price Trends for Each Commodity in {region} {2020-2024}')\n",
    "        plt.xticks(rotation=45)\n",
    "        plt.legend()\n",
    "        plt.grid(True)\n",
    "        \n",
    "        plt.show()\n",
    "    "
   ]
  }
 ],
 "metadata": {
  "kernelspec": {
   "display_name": "Python 3",
   "language": "python",
   "name": "python3"
  },
  "language_info": {
   "codemirror_mode": {
    "name": "ipython",
    "version": 3
   },
   "file_extension": ".py",
   "mimetype": "text/x-python",
   "name": "python",
   "nbconvert_exporter": "python",
   "pygments_lexer": "ipython3",
   "version": "3.11.9"
  }
 },
 "nbformat": 4,
 "nbformat_minor": 2
}
