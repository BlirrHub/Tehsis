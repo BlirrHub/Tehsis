{
 "cells": [
  {
   "cell_type": "code",
   "execution_count": 18,
   "metadata": {},
   "outputs": [],
   "source": [
    "import pandas as pd\n",
    "import xgboost as xgb\n",
    "from sklearn.model_selection import train_test_split\n",
    "from sklearn.metrics import mean_squared_error"
   ]
  },
  {
   "cell_type": "code",
   "execution_count": 19,
   "metadata": {},
   "outputs": [],
   "source": [
    "df = pd.read_csv('../data/final/final_dataset_encoded.csv')"
   ]
  },
  {
   "cell_type": "code",
   "execution_count": 20,
   "metadata": {},
   "outputs": [],
   "source": [
    "feature_columns = ['Geolocation_Encoded', 'Commodity_Encoded', 'Commodity_Type_Encoded', \"Year\", \n",
    "                   \"Month\", \"Quarter\", \"Price_Lag_1\", \"Price_MA_3\", \"Price_MA_6\", \"Price_Std_3\", \n",
    "                   \"CPI_Lag_1\", \"CPI\", \"Production_Volume_by_MetricTons\", \"Area_Harvested_in_Hectares\"]\n",
    "\n",
    "target_column = 'Price'\n",
    "\n",
    "df = df.dropna()\n",
    "\n",
    "X = df[feature_columns]\n",
    "y = df[target_column]\n",
    "\n",
    "X_train, X_test, y_train, y_test = train_test_split(X, y, test_size=0.2, shuffle=False, random_state=42)\n",
    "\n",
    "X_train.to_csv('../data/training/X_train_final_encoded.csv', index=False)\n",
    "X_test.to_csv('../data/training/X_test_final_encoded.csv', index=False)\n",
    "y_train.to_csv('../data/training/y_train_final_encoded.csv', index=False)\n",
    "y_test.to_csv('../data/training/y_test_final_encoded.csv', index=False)"
   ]
  }
 ],
 "metadata": {
  "kernelspec": {
   "display_name": "Python 3",
   "language": "python",
   "name": "python3"
  },
  "language_info": {
   "codemirror_mode": {
    "name": "ipython",
    "version": 3
   },
   "file_extension": ".py",
   "mimetype": "text/x-python",
   "name": "python",
   "nbconvert_exporter": "python",
   "pygments_lexer": "ipython3",
   "version": "3.11.9"
  }
 },
 "nbformat": 4,
 "nbformat_minor": 2
}
