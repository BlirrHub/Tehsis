{
 "cells": [
  {
   "cell_type": "code",
   "execution_count": 1,
   "metadata": {},
   "outputs": [],
   "source": [
    "import pandas as pd\n",
    "import matplotlib.pyplot as plt\n",
    "from sklearn.preprocessing import LabelEncoder"
   ]
  },
  {
   "cell_type": "code",
   "execution_count": 2,
   "metadata": {},
   "outputs": [],
   "source": [
    "# Prices datasets\n",
    "farmgate = pd.read_csv('../data/raw/FarmgatePrice.csv')\n",
    "wholesale = pd.read_csv('../data/raw/WholesalePrice.csv')\n",
    "retail = pd.read_csv('../data/raw/RetailPrice.csv')\n",
    "\n",
    "# Additional datasets\n",
    "cpi = pd.read_csv('../data/raw/ConsumerPriceIndex.csv')\n",
    "vop = pd.read_csv('../data/raw/VolumeOfProductionByMetricTons.csv')\n",
    "harvested = pd.read_csv('../data/raw/AreaHarvestedInHectares.csv')"
   ]
  },
  {
   "cell_type": "code",
   "execution_count": null,
   "metadata": {},
   "outputs": [],
   "source": [
    "# clean data and reshaped data\n",
    "def clean_data(df, column_1, column_2, value_column_name, monthly, is_cpi = False):\n",
    "    df = df.copy()\n",
    "\n",
    "    df_long = df.melt(id_vars=[column_1, column_2], var_name='Date', value_name=value_column_name) if monthly else distribute_quarterly_to_monthly(df, column_1, column_2, value_column_name)\n",
    "\n",
    "    df_long = clean_geolocation(df_long)\n",
    "    \n",
    "    df_long[value_column_name] = pd.to_numeric(df_long[value_column_name], errors='coerce')\n",
    "    \n",
    "    if is_cpi:\n",
    "        df_long['Date'] = pd.to_datetime(df_long['Date'], format='%Y %b')\n",
    "    else:\n",
    "        df_long['Date'] = pd.to_datetime(df_long['Date'], format='%Y %B')\n",
    "    \n",
    "    df_long = df_long.sort_values(by=[column_1, \"Commodity\", 'Date'])\n",
    "    \n",
    "    df_long[column_1] = df_long[column_1].str.lower().str.strip()\n",
    "    \n",
    "    df_long[\"Commodity\"] = df_long[\"Commodity\"].str.lower().str.strip()\n",
    "    \n",
    "    return df_long\n",
    "\n",
    "def distribute_quarterly_to_monthly(df, column_1, column_2, value_column_name):\n",
    "    df = df.copy()\n",
    "    \n",
    "    # Melt dataset to long format\n",
    "    df_long = df.melt(id_vars=[column_1, column_2], var_name=\"Quarter\", value_name=value_column_name)\n",
    "    \n",
    "    # Extract year and quarter from the Quarter column\n",
    "    df_long[\"Year\"] = df_long[\"Quarter\"].str[:4].astype(int)\n",
    "    df_long[\"Quarter\"] = df_long[\"Quarter\"].str[-1].astype(int)\n",
    "\n",
    "    quarter_to_months = {\n",
    "        1: [1, 2, 3],\n",
    "        2: [4, 5, 6],\n",
    "        3: [7, 8, 9],\n",
    "        4: [10, 11, 12]\n",
    "    }\n",
    "    \n",
    "    expanded_rows = []\n",
    "    \n",
    "    for _, row in df_long.iterrows():\n",
    "        for month in quarter_to_months[row[\"Quarter\"]]:\n",
    "            expanded_rows.append({\n",
    "                column_1: row[column_1],\n",
    "                column_2: row[column_2],\n",
    "                \"Date\": pd.Timestamp(year=row[\"Year\"], month=month, day=1),\n",
    "                value_column_name: row[value_column_name] / 3\n",
    "            })\n",
    "            \n",
    "    df_monthly = pd.DataFrame(expanded_rows)\n",
    "    \n",
    "    return df_monthly\n",
    "\n",
    "# remove .. in geolocation values and replace .. values to na\n",
    "def clean_geolocation(df):\n",
    "    df = df.rename(columns={df.columns.values[0]: \"Geolocation\", df.columns.values[1]: \"Commodity\"})\n",
    "    \n",
    "    \n",
    "    \n",
    "    return df\n",
    "\n",
    "def clean_cpi_commodity(commodity):\n",
    "    return commodity.split(' - ')[-1].strip().lower()\n",
    "\n",
    "def map_commodity_to_standard(commodity):\n",
    "    \n",
    "    commodity_lower = commodity.lower()\n",
    "    \n",
    "    if 'corn' in commodity_lower or 'maize' in commodity_lower:\n",
    "        return 'corn'\n",
    "    elif 'palay' in commodity_lower or 'rice' in commodity_lower:\n",
    "        return 'rice'\n",
    "    else:\n",
    "        return None\n",
    "    \n",
    "def merge_datasets(price_df, cpi_df, vop_df, harvested_df):\n",
    "    \n",
    "    price_df = price_df.merge(cpi_df, left_on=[\"Geolocation\", \"Commodity_Type\", \"Date\"], \n",
    "                              right_on=[\"Geolocation\", \"Commodity\", \"Date\"], how=\"left\").drop(columns=[\"Commodity_y\"]).rename(columns={\"Commodity_x\": \"Commodity\"})\n",
    "    \n",
    "    price_df = price_df.merge(vop_df, left_on=[\"Geolocation\", \"Commodity_Type\", \"Date\"], \n",
    "                              right_on=[\"Geolocation\", \"Commodity_Type\", \"Date\"], how=\"left\").drop(columns=[\"Commodity_y\"]).rename(columns={\"Commodity_x\": \"Commodity\"})\n",
    "    \n",
    "    price_df = price_df.merge(harvested_df, left_on=[\"Geolocation\", \"Commodity_Type\", \"Date\"], \n",
    "                              right_on=[\"Geolocation\", \"Commodity_Type\", \"Date\"], how=\"left\").drop(columns=[\"Commodity_y\"]).rename(columns={\"Commodity_x\": \"Commodity\"})\n",
    "\n",
    "    # Drop CPI_Commodity, Standard_Commodity, and duplicate Commodity columns\n",
    "    price_df = price_df.drop(columns=[\"CPI_Commodity\"], errors=\"ignore\")\n",
    "\n",
    "    return price_df"
   ]
  },
  {
   "cell_type": "code",
   "execution_count": 4,
   "metadata": {},
   "outputs": [],
   "source": [
    "farmgate = clean_data(farmgate, \"Geolocation\", \"Commodity\", \"Price\", True)\n",
    "wholesale = clean_data(wholesale, \"Geolocation\", \"Commodity\", \"Price\", True)\n",
    "retail = clean_data(retail, \"Geolocation\", \"Commodity\", \"Price\", True)\n",
    "\n",
    "vop = clean_data(vop, \"Geolocation\", \"Ecosystem/Croptype\", \"Production_Volume_by_MetricTons\", False)\n",
    "harvested = clean_data(harvested, \"Geolocation\", \"Ecosystem/Croptype\", \"Area_Harvested_in_Hectares\", False)\n",
    "cpi = clean_data(cpi, \"Geolocation\", \"Commodity Description\", \"CPI\", True, is_cpi=True)\n",
    "\n",
    "cpi[\"Commodity\"] = cpi[\"Commodity\"].apply(clean_cpi_commodity)"
   ]
  },
  {
   "cell_type": "code",
   "execution_count": 5,
   "metadata": {},
   "outputs": [],
   "source": [
    "farmgate['Commodity_Type'] = farmgate['Commodity'].apply(map_commodity_to_standard)\n",
    "wholesale['Commodity_Type'] = wholesale['Commodity'].apply(map_commodity_to_standard)\n",
    "retail['Commodity_Type'] = retail['Commodity'].apply(map_commodity_to_standard)\n",
    "vop['Commodity_Type'] = vop['Commodity'].apply(map_commodity_to_standard)\n",
    "harvested['Commodity_Type'] = harvested['Commodity'].apply(map_commodity_to_standard)"
   ]
  },
  {
   "cell_type": "code",
   "execution_count": 6,
   "metadata": {},
   "outputs": [],
   "source": [
    "# remove commodtities with high missing values per region\n",
    "def filter_missing_values(df, threshold = 0.4):\n",
    "    filtered_dfs = []\n",
    "    \n",
    "    for region in df['Geolocation'].unique():\n",
    "        region_df = df[df['Geolocation'] == region]\n",
    "        \n",
    "        missing_ratio = region_df.groupby('Commodity')['Price'].apply(lambda x: x.isna().mean())\n",
    "        \n",
    "        valid_commodities = missing_ratio[missing_ratio < threshold].index\n",
    "        filtered_region_df = region_df[region_df['Commodity'].isin(valid_commodities)]\n",
    "        \n",
    "        filtered_dfs.append(filtered_region_df)\n",
    "        \n",
    "    return pd.concat(filtered_dfs, ignore_index=True)"
   ]
  },
  {
   "cell_type": "code",
   "execution_count": 7,
   "metadata": {},
   "outputs": [],
   "source": [
    "# apply filtering\n",
    "farmgate = filter_missing_values(farmgate)\n",
    "wholesale = filter_missing_values(wholesale)\n",
    "retail = filter_missing_values(retail)"
   ]
  },
  {
   "cell_type": "code",
   "execution_count": 8,
   "metadata": {},
   "outputs": [],
   "source": [
    "# Fill remaining missing values using forward and backward fill per region & commodity\n",
    "def fill_missing_values(df):\n",
    "    return df.groupby([\"Geolocation\", \"Commodity\"], group_keys=False).apply(lambda group: group.ffill().bfill()).reset_index(drop=True)"
   ]
  },
  {
   "cell_type": "code",
   "execution_count": 9,
   "metadata": {},
   "outputs": [
    {
     "name": "stderr",
     "output_type": "stream",
     "text": [
      "C:\\Users\\blirr\\AppData\\Local\\Temp\\ipykernel_7264\\10255930.py:3: DeprecationWarning: DataFrameGroupBy.apply operated on the grouping columns. This behavior is deprecated, and in a future version of pandas the grouping columns will be excluded from the operation. Either pass `include_groups=False` to exclude the groupings or explicitly select the grouping columns after groupby to silence this warning.\n",
      "  return df.groupby([\"Geolocation\", \"Commodity\"], group_keys=False).apply(lambda group: group.ffill().bfill()).reset_index(drop=True)\n",
      "C:\\Users\\blirr\\AppData\\Local\\Temp\\ipykernel_7264\\10255930.py:3: DeprecationWarning: DataFrameGroupBy.apply operated on the grouping columns. This behavior is deprecated, and in a future version of pandas the grouping columns will be excluded from the operation. Either pass `include_groups=False` to exclude the groupings or explicitly select the grouping columns after groupby to silence this warning.\n",
      "  return df.groupby([\"Geolocation\", \"Commodity\"], group_keys=False).apply(lambda group: group.ffill().bfill()).reset_index(drop=True)\n",
      "C:\\Users\\blirr\\AppData\\Local\\Temp\\ipykernel_7264\\10255930.py:3: DeprecationWarning: DataFrameGroupBy.apply operated on the grouping columns. This behavior is deprecated, and in a future version of pandas the grouping columns will be excluded from the operation. Either pass `include_groups=False` to exclude the groupings or explicitly select the grouping columns after groupby to silence this warning.\n",
      "  return df.groupby([\"Geolocation\", \"Commodity\"], group_keys=False).apply(lambda group: group.ffill().bfill()).reset_index(drop=True)\n"
     ]
    }
   ],
   "source": [
    "cleaned_farmgate = fill_missing_values(farmgate)\n",
    "cleaned_wholesale = fill_missing_values(wholesale)\n",
    "cleaned_retail = fill_missing_values(retail)"
   ]
  },
  {
   "cell_type": "code",
   "execution_count": 10,
   "metadata": {},
   "outputs": [],
   "source": [
    "REGIONS = {\n",
    "    \"autonomous region in muslim mindanao (armm)\" : \"bangsamoro autonomous region in muslim mindanao (barmm)\",\n",
    "    \"bangsamoro autonomous region in muslim mindanao (barmm)\" : \"bangsamoro autonomous region in muslim mindanao (barmm)\",\n",
    "    \"cordillera administrative region (car)\" : \"cordillera administrative region (car)\",\n",
    "    \"mimaropa region\" : \"mimaropa region\",\n",
    "    \"region i (ilocos region)\" : \"region i (ilocos region)\",\n",
    "    \"region ii (cagayan valley)\" : \"region ii (cagayan valley)\",\n",
    "    \"region iii (central luzon)\" : \"region iii (central luzon)\",\n",
    "    \"region iv-a (calabarzon)\" : \"region iv-a (calabarzon)\",\n",
    "    \"region ix (zamboanga peninsula)\" : \"region ix (zamboanga peninsula)\",\n",
    "    \"region v (bicol region)\" : \"region v (bicol region)\",\n",
    "    \"region vi (western visayas)\" : \"region vi (western visayas)\",\n",
    "    \"region v (bicol region)\" : \"region vi (western visayas)\",\n",
    "    \"region vii (central visayas)\" : \"region vii (central visayas)\",\n",
    "    \"region viii (eastern visayas)\" : \"region viii (eastern visayas)\",\n",
    "    \"region ix (zamboanga peninsula)\" : \"region x (northern mindanao)\",\n",
    "    \"region x (northern mindanao)\" : \"region x (northern mindanao)\",\n",
    "    \"region xi (davao region)\" : \"region xi (davao region)\",\n",
    "    \"region xii (soccsksargen)\" : \"region xii (soccsksargen)\",\n",
    "    \"region xiii (caraga)\" : \"region xiii (caraga)\"\n",
    "}"
   ]
  },
  {
   "cell_type": "code",
   "execution_count": 11,
   "metadata": {},
   "outputs": [],
   "source": [
    "def region_mapping(df, column_name, region_mapping):\n",
    "    df = df.copy()\n",
    "    \n",
    "    df[column_name] = df[column_name].map(region_mapping)\n",
    "    \n",
    "    return df\n",
    "\n",
    "cleaned_farmgate = region_mapping(cleaned_farmgate, 'Geolocation', REGIONS)\n",
    "cleaned_retail = region_mapping(cleaned_retail, 'Geolocation', REGIONS)\n",
    "cleaned_wholesale = region_mapping(cleaned_wholesale, 'Geolocation', REGIONS)\n",
    "cleaned_vop = region_mapping(vop, 'Geolocation', REGIONS)\n",
    "cleaned_harvested = region_mapping(harvested, 'Geolocation', REGIONS)\n",
    "cleaned_cpi = region_mapping(cpi, 'Geolocation', REGIONS)"
   ]
  },
  {
   "cell_type": "code",
   "execution_count": 12,
   "metadata": {},
   "outputs": [],
   "source": [
    "# save cleaned data\n",
    "cleaned_farmgate.to_csv('../data/cleaned/cleaned_farmgate.csv', index=False)\n",
    "cleaned_wholesale.to_csv('../data/cleaned/cleaned_wholesale.csv', index=False)\n",
    "cleaned_retail.to_csv('../data/cleaned/cleaned_retail.csv', index=False)\n",
    "\n",
    "cleaned_vop.to_csv('../data/cleaned/cleaned_vop.csv', index=False)\n",
    "cleaned_harvested.to_csv('../data/cleaned/cleaned_harvested.csv', index=False)\n",
    "cleaned_cpi.to_csv('../data/cleaned/cleaned_cpi.csv', index=False)"
   ]
  },
  {
   "cell_type": "code",
   "execution_count": 13,
   "metadata": {},
   "outputs": [],
   "source": [
    "merged_farmgate = merge_datasets(cleaned_farmgate, cleaned_cpi, cleaned_vop, cleaned_harvested)\n",
    "merged_wholesale = merge_datasets(cleaned_wholesale, cleaned_cpi, cleaned_vop, cleaned_harvested)\n",
    "merged_retail = merge_datasets(cleaned_retail, cleaned_cpi, cleaned_vop, cleaned_harvested)"
   ]
  },
  {
   "cell_type": "code",
   "execution_count": 21,
   "metadata": {},
   "outputs": [],
   "source": [
    "merged_farmgate.to_csv('../data/merged/merged_farmgate.csv', index=False)\n",
    "merged_wholesale.to_csv('../data/merged/merged_wholesale.csv', index=False)\n",
    "merged_retail.to_csv('../data/merged/merged_retail.csv', index=False)"
   ]
  },
  {
   "cell_type": "code",
   "execution_count": 15,
   "metadata": {},
   "outputs": [],
   "source": [
    "def feature_engineering(df):\n",
    "    df = df.copy()\n",
    "    \n",
    "    df['Date'] = pd.to_datetime(df['Date'])\n",
    "    \n",
    "    df['Year'] = df['Date'].dt.year\n",
    "    df['Month'] = df['Date'].dt.month\n",
    "    df['Quarter'] = df['Date'].dt.quarter\n",
    "    \n",
    "    df['Price_Lag_1'] = df.groupby(['Geolocation', 'Commodity_Type'])['Price'].shift(1)\n",
    "    \n",
    "    df[\"Price_MA_3\"] = df.groupby([\"Geolocation\", \"Commodity_Type\"])[\"Price\"].rolling(window=3, min_periods=1).mean().reset_index(level=[0,1], drop=True)\n",
    "    df[\"Price_MA_6\"] = df.groupby([\"Geolocation\", \"Commodity_Type\"])[\"Price\"].rolling(window=6, min_periods=1).mean().reset_index(level=[0,1], drop=True)\n",
    "    \n",
    "    df[\"Price_Std_3\"] = df.groupby([\"Geolocation\", \"Commodity_Type\"])[\"Price\"].rolling(window=3, min_periods=1).std().reset_index(level=[0,1], drop=True)\n",
    "    \n",
    "    df[\"CPI_Lag_1\"] = df.groupby([\"Geolocation\", \"Commodity_Type\"])[\"CPI\"].shift(1)\n",
    "    \n",
    "    df = df.ffill().bfill()\n",
    "    \n",
    "    return df"
   ]
  },
  {
   "cell_type": "code",
   "execution_count": 16,
   "metadata": {},
   "outputs": [],
   "source": [
    "processed_farmgate = feature_engineering(merged_farmgate)\n",
    "processed_wholesale = feature_engineering(merged_wholesale)\n",
    "processed_retail = feature_engineering(merged_retail)"
   ]
  },
  {
   "cell_type": "code",
   "execution_count": 17,
   "metadata": {},
   "outputs": [],
   "source": [
    "processed_farmgate['Price_Type'] = 'Farmgate'\n",
    "processed_wholesale['Price_Type'] = 'Wholesale'\n",
    "processed_retail['Price_Type'] = 'Retail'\n",
    "\n",
    "common_columns = ['Geolocation', 'Commodity', 'Commodity_Type', 'Date', 'Year', 'Month', 'Quarter', \n",
    "                  'Price', 'Price_Lag_1', 'Price_MA_3', 'Price_MA_6', 'Price_Std_3',\n",
    "                  \"CPI_Lag_1\", 'CPI', 'Production_Volume_by_MetricTons', 'Area_Harvested_in_Hectares', 'Price_Type']\n",
    "\n",
    "processed_farmgate = processed_farmgate[common_columns]\n",
    "processed_wholesale = processed_wholesale[common_columns]\n",
    "processed_retail = processed_retail[common_columns]\n",
    "\n",
    "final_dataset = pd.concat([processed_farmgate, processed_wholesale, processed_retail], ignore_index=True)\n",
    "final_dataset.to_csv('../data/final/final_dataset.csv', index=False)\n",
    "\n",
    "encoded_dataset = final_dataset.copy()\n",
    "\n",
    "le_geo = LabelEncoder()\n",
    "le_commodity = LabelEncoder()\n",
    "le_commodity_type = LabelEncoder()\n",
    "\n",
    "encoded_dataset['Geolocation_Encoded'] = le_geo.fit_transform(encoded_dataset[\"Geolocation\"])\n",
    "encoded_dataset['Commodity_Encoded'] = le_geo.fit_transform(encoded_dataset[\"Commodity\"])\n",
    "encoded_dataset['Commodity_Type_Encoded'] = le_geo.fit_transform(encoded_dataset[\"Commodity_Type\"])\n",
    "\n",
    "encoded_dataset.to_csv('../data/final/final_dataset_encoded.csv', index=False)"
   ]
  },
  {
   "cell_type": "code",
   "execution_count": 18,
   "metadata": {},
   "outputs": [],
   "source": [
    "def plot_trends(df, price_type):\n",
    "    regions = df['Geolocation'].unique()\n",
    "    \n",
    "    for region in regions:\n",
    "        plt.figure(figsize=(12, 6))\n",
    "        \n",
    "        region_df = df[df['Geolocation'] == region]\n",
    "        \n",
    "        commodities = region_df['Commodity'].unique()\n",
    "        \n",
    "        for commodity in commodities:\n",
    "            subset = region_df[region_df['Commodity'] == commodity].groupby('Date')['Price'].mean()\n",
    "            plt.plot(subset.index, subset.values, label=commodity, marker='o', markersize=5, linestyle='-')\n",
    "            \n",
    "        \n",
    "        plt.xlabel('Date')\n",
    "        plt.ylabel('Average Price (PHP)')\n",
    "        plt.title(f'{price_type} Trends for Each Commodity in {region} {2020-2024}')\n",
    "        plt.xticks(rotation=45)\n",
    "        plt.legend()\n",
    "        plt.grid(True)\n",
    "        \n",
    "        plt.show()"
   ]
  }
 ],
 "metadata": {
  "kernelspec": {
   "display_name": "Python 3",
   "language": "python",
   "name": "python3"
  },
  "language_info": {
   "codemirror_mode": {
    "name": "ipython",
    "version": 3
   },
   "file_extension": ".py",
   "mimetype": "text/x-python",
   "name": "python",
   "nbconvert_exporter": "python",
   "pygments_lexer": "ipython3",
   "version": "3.11.9"
  }
 },
 "nbformat": 4,
 "nbformat_minor": 2
}
